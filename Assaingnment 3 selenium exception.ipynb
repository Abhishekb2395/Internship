{
 "cells": [
  {
   "cell_type": "markdown",
   "id": "28d1da3d",
   "metadata": {},
   "source": [
    "1. Write a python program which searches all the product under a particular product from www.amazon.in. The \n",
    "product to be searched will be taken as input from user. For e.g. If user input is ‘guitar’. Then search for \n",
    "guitars. "
   ]
  },
  {
   "cell_type": "code",
   "execution_count": 1,
   "id": "25f2960e",
   "metadata": {},
   "outputs": [
    {
     "name": "stdout",
     "output_type": "stream",
     "text": [
      "Requirement already satisfied: selenium in c:\\users\\abhis\\anaconda3\\lib\\site-packages (4.9.1)\n",
      "Requirement already satisfied: urllib3[socks]<3,>=1.26 in c:\\users\\abhis\\anaconda3\\lib\\site-packages (from selenium) (1.26.11)\n",
      "Requirement already satisfied: trio-websocket~=0.9 in c:\\users\\abhis\\anaconda3\\lib\\site-packages (from selenium) (0.10.2)\n",
      "Requirement already satisfied: certifi>=2021.10.8 in c:\\users\\abhis\\anaconda3\\lib\\site-packages (from selenium) (2022.9.14)\n",
      "Requirement already satisfied: trio~=0.17 in c:\\users\\abhis\\anaconda3\\lib\\site-packages (from selenium) (0.22.0)\n",
      "Requirement already satisfied: sortedcontainers in c:\\users\\abhis\\anaconda3\\lib\\site-packages (from trio~=0.17->selenium) (2.4.0)\n",
      "Requirement already satisfied: idna in c:\\users\\abhis\\anaconda3\\lib\\site-packages (from trio~=0.17->selenium) (3.3)\n",
      "Requirement already satisfied: async-generator>=1.9 in c:\\users\\abhis\\anaconda3\\lib\\site-packages (from trio~=0.17->selenium) (1.10)\n",
      "Requirement already satisfied: cffi>=1.14 in c:\\users\\abhis\\anaconda3\\lib\\site-packages (from trio~=0.17->selenium) (1.15.1)\n",
      "Requirement already satisfied: sniffio in c:\\users\\abhis\\anaconda3\\lib\\site-packages (from trio~=0.17->selenium) (1.2.0)\n",
      "Requirement already satisfied: attrs>=19.2.0 in c:\\users\\abhis\\anaconda3\\lib\\site-packages (from trio~=0.17->selenium) (21.4.0)\n",
      "Requirement already satisfied: outcome in c:\\users\\abhis\\anaconda3\\lib\\site-packages (from trio~=0.17->selenium) (1.2.0)\n",
      "Requirement already satisfied: exceptiongroup>=1.0.0rc9 in c:\\users\\abhis\\anaconda3\\lib\\site-packages (from trio~=0.17->selenium) (1.1.1)\n",
      "Requirement already satisfied: wsproto>=0.14 in c:\\users\\abhis\\anaconda3\\lib\\site-packages (from trio-websocket~=0.9->selenium) (1.2.0)\n",
      "Requirement already satisfied: PySocks!=1.5.7,<2.0,>=1.5.6 in c:\\users\\abhis\\anaconda3\\lib\\site-packages (from urllib3[socks]<3,>=1.26->selenium) (1.7.1)\n",
      "Requirement already satisfied: pycparser in c:\\users\\abhis\\anaconda3\\lib\\site-packages (from cffi>=1.14->trio~=0.17->selenium) (2.21)\n",
      "Requirement already satisfied: h11<1,>=0.9.0 in c:\\users\\abhis\\anaconda3\\lib\\site-packages (from wsproto>=0.14->trio-websocket~=0.9->selenium) (0.14.0)\n"
     ]
    }
   ],
   "source": [
    "!pip install selenium"
   ]
  },
  {
   "cell_type": "code",
   "execution_count": 2,
   "id": "354d95fe",
   "metadata": {},
   "outputs": [],
   "source": [
    "import selenium\n",
    "import pandas as pd\n",
    "from selenium import webdriver\n",
    "import warnings\n",
    "warnings.filterwarnings('ignore')\n",
    "from selenium.webdriver.common.by import By\n",
    "import time\n",
    "from selenium.common.exceptions import NoSuchElementException, StaleElementReferenceException\n",
    "from selenium.webdriver.support.ui import WebDriverWait\n",
    "from selenium.webdriver.support import expected_conditions as EC"
   ]
  },
  {
   "cell_type": "code",
   "execution_count": 3,
   "id": "30e6bb89",
   "metadata": {},
   "outputs": [],
   "source": [
    "driver = webdriver.Chrome(r\"C:\\Users\\abhis\\Downloads\\chromedriver_win32\\chromedriver.exe\")"
   ]
  },
  {
   "cell_type": "code",
   "execution_count": 4,
   "id": "f16ae777",
   "metadata": {},
   "outputs": [],
   "source": [
    "driver = webdriver.Chrome(r\"chromedriver.exe\")"
   ]
  },
  {
   "cell_type": "code",
   "execution_count": 5,
   "id": "6290ec87",
   "metadata": {},
   "outputs": [],
   "source": [
    "driver.get(\"https://www.amazon.in/\")\n",
    "time.sleep(5)\n",
    "driver.maximize_window()"
   ]
  },
  {
   "cell_type": "code",
   "execution_count": 6,
   "id": "e961666d",
   "metadata": {},
   "outputs": [],
   "source": [
    "search_item = driver.find_element(By.XPATH,\"//input[@class='nav-input nav-progressive-attribute']\")\n",
    "search_item.send_keys(\"Guitar\")"
   ]
  },
  {
   "cell_type": "code",
   "execution_count": 7,
   "id": "b919692e",
   "metadata": {},
   "outputs": [],
   "source": [
    "search_button = driver.find_element(By.XPATH,'/html/body/div[1]/header/div/div[1]/div[2]/div/form/div[3]/div/span/input')\n",
    "search_button.click()"
   ]
  },
  {
   "cell_type": "code",
   "execution_count": null,
   "id": "56349435",
   "metadata": {},
   "outputs": [],
   "source": []
  },
  {
   "cell_type": "markdown",
   "id": "41f2b4c4",
   "metadata": {},
   "source": [
    "2. In the above question, now scrape the following details of each product listed in first 3 pages of your search \n",
    "results and save it in a data frame and csv. In case if any product has less than 3 pages in search results then \n",
    "scrape all the products available under that product name. Details to be scraped are: \"Brand \n",
    "Name\", \"Name of the Product\", \"Price\", \"Return/Exchange\", \"Expected Delivery\", \"Availability\" and \n",
    "“Product URL”. In case, if any of the details are missing for any of the product then replace it by “-“."
   ]
  },
  {
   "cell_type": "code",
   "execution_count": 8,
   "id": "701d185b",
   "metadata": {},
   "outputs": [],
   "source": [
    "urls = []          \n",
    "for i in range(3):      \n",
    "    page_url = driver.find_elements(By.XPATH,'//a[@class=\"a-link-normal s-no-outline\"]')\n",
    "    for i in page_url:\n",
    "        urls.append(i.get_attribute(\"href\"))\n",
    "        next_btn = driver.find_elements(By.XPATH,'//*[@id=\"search\"]/div[1]/div[1]/div/span[1]/div[1]/div[64]/div/div/span/a[3]')\n",
    "        next_btn\n",
    "        time.sleep(3)"
   ]
  },
  {
   "cell_type": "code",
   "execution_count": 9,
   "id": "e9001f2d",
   "metadata": {},
   "outputs": [
    {
     "data": {
      "text/plain": [
       "['https://www.amazon.in/sspa/click?ie=UTF8&spc=MTo3OTk2NjczNjM3Nzk1NTU4OjE2ODcyNDM0NDY6c3BfYXRmOjIwMTIxNzg0MjQwOTk4OjowOjo&url=%2FKadence-Frontier-Acoustic-Guitar-Equalizer%2Fdp%2FB01HRIHJWY%2Fref%3Dsr_1_1_sspa%3Fkeywords%3DGuitar%26qid%3D1687243446%26sr%3D8-1-spons%26sp_csd%3Dd2lkZ2V0TmFtZT1zcF9hdGY%26psc%3D1',\n",
       " 'https://www.amazon.in/sspa/click?ie=UTF8&spc=MTo3OTk2NjczNjM3Nzk1NTU4OjE2ODcyNDM0NDY6c3BfYXRmOjIwMDk2NjA4NzUwNDk4OjowOjo&url=%2FKadence-Frontier-Acoustic-Guitar-Strings%2Fdp%2FB01GDZ46AA%2Fref%3Dsr_1_2_sspa%3Fkeywords%3DGuitar%26qid%3D1687243446%26sr%3D8-2-spons%26sp_csd%3Dd2lkZ2V0TmFtZT1zcF9hdGY%26psc%3D1',\n",
       " 'https://www.amazon.in/sspa/click?ie=UTF8&spc=MTo3OTk2NjczNjM3Nzk1NTU4OjE2ODcyNDM0NDY6c3BfYXRmOjIwMDkyNjI0MDIxNDk4OjowOjo&url=%2FPremium-Spruce-Top-Dreadnought-Acoustic-Guitar%2Fdp%2FB0BJK1CWSN%2Fref%3Dsr_1_3_sspa%3Fkeywords%3DGuitar%26qid%3D1687243446%26sr%3D8-3-spons%26sp_csd%3Dd2lkZ2V0TmFtZT1zcF9hdGY%26psc%3D1',\n",
       " 'https://www.amazon.in/sspa/click?ie=UTF8&spc=MTo3OTk2NjczNjM3Nzk1NTU4OjE2ODcyNDM0NDY6c3BfYXRmOjIwMTE0MTEyODI3Nzk4OjowOjo&url=%2FESH-Creations-E40CHEQ-Acoustic-Strings%2Fdp%2FB0BMG81LCG%2Fref%3Dsr_1_4_sspa%3Fkeywords%3DGuitar%26qid%3D1687243446%26sr%3D8-4-spons%26sp_csd%3Dd2lkZ2V0TmFtZT1zcF9hdGY%26psc%3D1',\n",
       " 'https://www.amazon.in/Juarez-Acoustic-Cutaway-038C-Strings/dp/B017NPCSLI/ref=sr_1_5?keywords=Guitar&qid=1687243446&sr=8-5',\n",
       " 'https://www.amazon.in/JUAREZ-JRZ38C-Acoustic-Sunburst-Strings/dp/B01FYYTDTU/ref=sr_1_6?keywords=Guitar&qid=1687243446&sr=8-6',\n",
       " 'https://www.amazon.in/JUAREZ-JRZ38C-Acoustic-Sunburst-Strings/dp/B01FYYTDS6/ref=sr_1_7?keywords=Guitar&qid=1687243446&sr=8-7',\n",
       " 'https://aax-eu.amazon.in/x/c/RPW7dL-viZKuM4afx5x4LsAAAAGI14vZzwMAAAH2AQBvbm9fdHhuX2JpZDIgICBvbm9fdHhuX2ltcDEgICDT4t7r/https://www.amazon.in/Kadence-Slowhand-Premium-Acoustic-Instrument/dp/B077SZ667X/ref=sxin_14_sbv_search_btf?content-id=amzn1.sym.ea7f11f8-e26c-4b10-84ad-15aa33ea30ac%3Aamzn1.sym.ea7f11f8-e26c-4b10-84ad-15aa33ea30ac&cv_ct_cx=Guitar&keywords=Guitar&pd_rd_i=B077SZ667X&pd_rd_r=728b3944-6621-4bf5-9f6d-86f0bf01c5b6&pd_rd_w=DTgHN&pd_rd_wg=7hl61&pf_rd_p=ea7f11f8-e26c-4b10-84ad-15aa33ea30ac&pf_rd_r=JCRC1AH5BZGDDXCY5PKQ&qid=1687243446&sr=1-1-9131241a-a358-4619-a7b8-0f5a65d91d81',\n",
       " 'https://aax-eu.amazon.in/x/c/RPW7dL-viZKuM4afx5x4LsAAAAGI14vZzwMAAAH2AQBvbm9fdHhuX2JpZDIgICBvbm9fdHhuX2ltcDEgICDT4t7r/https://www.amazon.in/Kadence-Slowhand-Premium-Acoustic-Instrument/dp/B077SZ667X/ref=sxin_14_sbv_search_btf?content-id=amzn1.sym.ea7f11f8-e26c-4b10-84ad-15aa33ea30ac%3Aamzn1.sym.ea7f11f8-e26c-4b10-84ad-15aa33ea30ac&cv_ct_cx=Guitar&keywords=Guitar&pd_rd_i=B077SZ667X&pd_rd_r=728b3944-6621-4bf5-9f6d-86f0bf01c5b6&pd_rd_w=DTgHN&pd_rd_wg=7hl61&pf_rd_p=ea7f11f8-e26c-4b10-84ad-15aa33ea30ac&pf_rd_r=JCRC1AH5BZGDDXCY5PKQ&qid=1687243446&sr=1-1-9131241a-a358-4619-a7b8-0f5a65d91d81',\n",
       " 'https://www.amazon.in/Yamaha-F280-Acoustic-Guitar-Natural/dp/B08317Y4VP/ref=sr_1_8?keywords=Guitar&qid=1687243446&sr=8-8',\n",
       " 'https://www.amazon.in/Kadence-Frontier-Acoustic-Guitar-Strings/dp/B01GDZ46AA/ref=sr_1_9?keywords=Guitar&qid=1687243446&sr=8-9',\n",
       " 'https://www.amazon.in/Juarez-Acoustic-Guitar-Cutaway-Strings/dp/B076QHZ4HZ/ref=sr_1_10?keywords=Guitar&qid=1687243446&sr=8-10',\n",
       " 'https://www.amazon.in/Intern-INT-38C-Acoustic-Guitar-Blue/dp/B073B5RZBV/ref=sr_1_11?keywords=Guitar&qid=1687243446&sr=8-11',\n",
       " 'https://www.amazon.in/Revel-RVL-38C-LGP-3TS-Linden-Acoustic-Sunburst/dp/B085HV4YW7/ref=sr_1_12?keywords=Guitar&qid=1687243446&sr=8-12',\n",
       " 'https://www.amazon.in/Juarez-JRZ-ST01-6-String-Electric-Without/dp/B01FYZSOGM/ref=sr_1_13?keywords=Guitar&qid=1687243446&sr=8-13',\n",
       " 'https://www.amazon.in/Henrix-Acoustic-Guitar-Die-cast-Dual-action/dp/B07VNDW6QF/ref=sr_1_14?keywords=Guitar&qid=1687243446&sr=8-14',\n",
       " 'https://www.amazon.in/Yamaha-FS-100C-6-String-Acoustic-without/dp/B00PAS9CK6/ref=sr_1_15?keywords=Guitar&qid=1687243446&sr=8-15',\n",
       " 'https://www.amazon.in/Intern-38-inch-Cutaway-Design-Acoustic/dp/B07X4PN85R/ref=sr_1_16?keywords=Guitar&qid=1687243446&sr=8-16',\n",
       " 'https://www.amazon.in/Ibanez-IBA-MD39CNT-Acoustic-Guitar-MD39C-NT/dp/B07G4CCMYL/ref=sr_1_17?keywords=Guitar&qid=1687243446&sr=8-17',\n",
       " 'https://www.amazon.in/Yamaha-Classical-Guitar-C40-02/dp/B003UGCUFE/ref=sr_1_18?keywords=Guitar&qid=1687243446&sr=8-18',\n",
       " 'https://www.amazon.in/Kadence-Professional-Guitar-Sunburst-Strings/dp/B07SXH9JKX/ref=sr_1_19?keywords=Guitar&qid=1687243446&sr=8-19',\n",
       " 'https://www.amazon.in/Juarez-Acoustic-Cutaway-BK-Strings/dp/B076T3RHMG/ref=sr_1_20?keywords=Guitar&qid=1687243446&sr=8-20',\n",
       " 'https://www.amazon.in/sspa/click?ie=UTF8&spc=MTo3OTk2NjczNjM3Nzk1NTU4OjE2ODcyNDM0NDY6c3BfbXRmOjIwMTE0MTEyODI4MTk4OjowOjo&url=%2FESH-Creations-E41CHEQ-Acoustic-Strings%2Fdp%2FB0BMGG1Q21%2Fref%3Dsr_1_21_sspa%3Fkeywords%3DGuitar%26qid%3D1687243446%26sr%3D8-21-spons%26sp_csd%3Dd2lkZ2V0TmFtZT1zcF9tdGY%26psc%3D1',\n",
       " 'https://www.amazon.in/sspa/click?ie=UTF8&spc=MTo3OTk2NjczNjM3Nzk1NTU4OjE2ODcyNDM0NDY6c3BfbXRmOjIwMTE1MDQ4ODExOTk4OjowOjo&url=%2FTagima-Junior-Inch-Acoustic-Guitar%2Fdp%2FB0BTBWJTGH%2Fref%3Dsr_1_22_sspa%3Fkeywords%3DGuitar%26qid%3D1687243446%26sr%3D8-22-spons%26sp_csd%3Dd2lkZ2V0TmFtZT1zcF9tdGY%26psc%3D1',\n",
       " 'https://www.amazon.in/sspa/click?ie=UTF8&spc=MTo3OTk2NjczNjM3Nzk1NTU4OjE2ODcyNDM0NDY6c3BfbXRmOjIwMDM2MjQ0NTU5NTk4OjowOjo&url=%2FTraveller-Acoustic-Guitar-Strings-Polishing%2Fdp%2FB07RK9962M%2Fref%3Dsr_1_23_sspa%3Fkeywords%3DGuitar%26qid%3D1687243446%26sr%3D8-23-spons%26sp_csd%3Dd2lkZ2V0TmFtZT1zcF9tdGY%26psc%3D1',\n",
       " 'https://www.amazon.in/sspa/click?ie=UTF8&spc=MTo3OTk2NjczNjM3Nzk1NTU4OjE2ODcyNDM0NDY6c3BfbXRmOjIwMDMxNjg4MjI2MjAxOjowOjo&url=%2FGUITAR-BRO-Acoustic-Beginner-Accessories%2Fdp%2FB07T84GC8L%2Fref%3Dsr_1_24_sspa%3Fkeywords%3DGuitar%26qid%3D1687243446%26sr%3D8-24-spons%26sp_csd%3Dd2lkZ2V0TmFtZT1zcF9tdGY%26psc%3D1',\n",
       " 'https://www.amazon.in/Medellin-MED-BLU-C-Linden-Acoustic-Guitar/dp/B07NBMWHJW/ref=sr_1_25?keywords=Guitar&qid=1687243446&sr=8-25',\n",
       " 'https://www.amazon.in/Medellin-Acoustic-adjustable-Truss-rod-learning/dp/B0BMKX4HNP/ref=sr_1_26?keywords=Guitar&qid=1687243446&sr=8-26',\n",
       " 'https://www.amazon.in/JRZ38C-Strings-Acoustic-Cutaway-Mahogany/dp/B071JM8C6T/ref=sr_1_27?keywords=Guitar&qid=1687243446&sr=8-27',\n",
       " 'https://www.amazon.in/Intern-INT-38C-Acoustic-Guitar-Kit/dp/B073B6TF31/ref=sr_1_28?keywords=Guitar&qid=1687243446&sr=8-28',\n",
       " 'https://www.amazon.in/Acoustic-Plectrums-Beginner-Learners-configuration/dp/B0B4SSB8BJ/ref=sr_1_29?keywords=Guitar&qid=1687243446&sr=8-29',\n",
       " 'https://www.amazon.in/Traveller-Acoustic-Guitar-Strings-Polishing/dp/B07RK9962M/ref=sr_1_30?keywords=Guitar&qid=1687243446&sr=8-30',\n",
       " 'https://www.amazon.in/Intern-INT-38C-NT-G-Guitar-Kit-Natural/dp/B07K9MZZH9/ref=sr_1_31?keywords=Guitar&qid=1687243446&sr=8-31',\n",
       " 'https://www.amazon.in/Intern-INT-38C-Acoustic-Guitar-Sunburst/dp/B073B5MJRM/ref=sr_1_32?keywords=Guitar&qid=1687243446&sr=8-32',\n",
       " 'https://www.amazon.in/JUAREZ-JRZ38C-Acoustic-Natural-Strings/dp/B01FYYTDWC/ref=sr_1_33?keywords=Guitar&qid=1687243446&sr=8-33',\n",
       " 'https://www.amazon.in/JRZ38C-VTS-Strings-Acoustic-Cutaway/dp/B072MFLQC9/ref=sr_1_34?keywords=Guitar&qid=1687243446&sr=8-34',\n",
       " 'https://www.amazon.in/Juarez-Acoustic-Guitar-Cutaway-Strings/dp/B075XMRKMY/ref=sr_1_35?keywords=Guitar&qid=1687243446&sr=8-35',\n",
       " 'https://www.amazon.in/Intern-INT-38C-BLS-G-Guitar-Kit-Blue/dp/B07K8YXTNW/ref=sr_1_36?keywords=Guitar&qid=1687243446&sr=8-36',\n",
       " 'https://www.amazon.in/Juarez-Acoustic-Guitar-Cutaway-JRZ38CT/dp/B01N3TTYJQ/ref=sr_1_37?keywords=Guitar&qid=1687243446&sr=8-37',\n",
       " 'https://www.amazon.in/Juarez-Strings-Acoustic-Cutaway-Zebrawood/dp/B072Q9L8DG/ref=sr_1_38?keywords=Guitar&qid=1687243446&sr=8-38',\n",
       " 'https://www.amazon.in/Pluto-HW34-101-Acoustic-Guitar-Kids/dp/B00PNDAQOY/ref=sr_1_39?keywords=Guitar&qid=1687243446&sr=8-39',\n",
       " 'https://www.amazon.in/Ibanez-V50NJP-VS-Acoustic-Dreadnought-Sunburst/dp/B00775TDU4/ref=sr_1_40?keywords=Guitar&qid=1687243446&sr=8-40',\n",
       " 'https://www.amazon.in/Yamaha-FSX80C-Acoustic-Cutaway-Natural/dp/B09HL3GFZF/ref=sr_1_41?keywords=Guitar&qid=1687243446&sr=8-41',\n",
       " 'https://www.amazon.in/Ju%C3%A2rez-JRZ38C-WH-Strings-Acoustic/dp/B072MFK4L6/ref=sr_1_42?keywords=Guitar&qid=1687243446&sr=8-42',\n",
       " 'https://www.amazon.in/Intern-INT-38C-BK-G-Guitar-Kit-Black/dp/B07K9497RC/ref=sr_1_43?keywords=Guitar&qid=1687243446&sr=8-43',\n",
       " 'https://www.amazon.in/JUAREZ-JRZ38C-Handed-Acoustic-Strings/dp/B01FYYTDW2/ref=sr_1_44?keywords=Guitar&qid=1687243446&sr=8-44',\n",
       " 'https://www.amazon.in/Acoustic-Pick-up-stability-professional-amplificaiton/dp/B09YH89JZQ/ref=sr_1_45?keywords=Guitar&qid=1687243446&sr=8-45',\n",
       " 'https://www.amazon.in/Juarez-Acoustic-Guitar-Cutaway-Strings/dp/B084VRCCN7/ref=sr_1_46?keywords=Guitar&qid=1687243446&sr=8-46',\n",
       " 'https://www.amazon.in/Blueberry-38C-Acoustic-Guitar-Strings/dp/B08KLMV4XX/ref=sr_1_47?keywords=Guitar&qid=1687243446&sr=8-47',\n",
       " 'https://www.amazon.in/Yamaha-FSX80C-Acoustic-Cutaway-Guitar/dp/B09HL5WFDX/ref=sr_1_48?keywords=Guitar&qid=1687243446&sr=8-48',\n",
       " 'https://www.amazon.in/Acoustic-Humidity-resistance-resonance-Plectrums/dp/B09RQZ6HM2/ref=sr_1_49?keywords=Guitar&qid=1687243446&sr=8-49',\n",
       " 'https://www.amazon.in/JUAREZ-Electric-Guitar-Handed-Sunburst/dp/B0758HTV7R/ref=sr_1_50?keywords=Guitar&qid=1687243446&sr=8-50',\n",
       " 'https://www.amazon.in/Kadence-Concert-Ukulele-Equalizer-Binding/dp/B08PNSGQBL/ref=sr_1_51?keywords=Guitar&qid=1687243446&sr=8-51',\n",
       " 'https://www.amazon.in/DOMENICO-4-String-Acoustic-Instrument-Learning/dp/B09M9VKRK8/ref=sr_1_52?keywords=Guitar&qid=1687243446&sr=8-52',\n",
       " 'https://www.amazon.in/Fender-Dread-String-Acoustic-Guitar/dp/B07RL6VG3H/ref=sr_1_53?keywords=Guitar&qid=1687243446&sr=8-53',\n",
       " 'https://www.amazon.in/JRZ-ST01-6-String-Electric-Sunburst-Without/dp/B01FYZSOEE/ref=sr_1_54?keywords=Guitar&qid=1687243446&sr=8-54',\n",
       " 'https://www.amazon.in/Acoustic-Cutaway-TBLS-Strings-Sunburst/dp/B098BCCY75/ref=sr_1_55?keywords=Guitar&qid=1687243446&sr=8-55',\n",
       " 'https://www.amazon.in/JUAREZ-Acoustic-Guitar-String-JRGSE32/dp/B08MW1WPW5/ref=sr_1_56?keywords=Guitar&qid=1687243446&sr=8-56',\n",
       " 'https://www.amazon.in/sspa/click?ie=UTF8&spc=MTo3OTk2NjczNjM3Nzk1NTU4OjE2ODcyNDM0NDY6c3BfYnRmOjIwMTE0MTEyODI3ODk4OjowOjo&url=%2FESH-Creations-E39CHEQ-Acoustic-Strings%2Fdp%2FB0BMVQLWF7%2Fref%3Dsr_1_57_sspa%3Fkeywords%3DGuitar%26qid%3D1687243446%26sr%3D8-57-spons%26sp_csd%3Dd2lkZ2V0TmFtZT1zcF9idGY%26psc%3D1',\n",
       " 'https://www.amazon.in/sspa/click?ie=UTF8&spc=MTo3OTk2NjczNjM3Nzk1NTU4OjE2ODcyNDM0NDY6c3BfYnRmOjIwMTYzNDMyNTg4NTk4OjowOjo&url=%2FGivson-Special-Guitar-VS-BLK-Acoustic%2Fdp%2FB07SZ5KR61%2Fref%3Dsr_1_58_sspa%3Fkeywords%3DGuitar%26qid%3D1687243446%26sr%3D8-58-spons%26sp_csd%3Dd2lkZ2V0TmFtZT1zcF9idGY%26psc%3D1%26smid%3DA3TA8QS9VGGKWW',\n",
       " 'https://www.amazon.in/sspa/click?ie=UTF8&spc=MTo3OTk2NjczNjM3Nzk1NTU4OjE2ODcyNDM0NDY6c3BfYnRmOjIwMTYzNDMyNTg5Mjk4OjowOjo&url=%2FKetostics%25C2%25AE-Givson-Special-Acoustic-Plectrums%2Fdp%2FB09P5283WM%2Fref%3Dsr_1_59_sspa%3Fkeywords%3DGuitar%26qid%3D1687243446%26sr%3D8-59-spons%26sp_csd%3Dd2lkZ2V0TmFtZT1zcF9idGY%26psc%3D1',\n",
       " 'https://www.amazon.in/sspa/click?ie=UTF8&spc=MTo3OTk2NjczNjM3Nzk1NTU4OjE2ODcyNDM0NDY6c3BfYnRmOjIwMDE5NjI1NTkyMTA0OjowOjo&url=%2FCort-AD810-Dreadnought-Acoustic-Guitar%2Fdp%2FB07KMBVR6V%2Fref%3Dsr_1_60_sspa%3Fkeywords%3DGuitar%26qid%3D1687243446%26sr%3D8-60-spons%26sp_csd%3Dd2lkZ2V0TmFtZT1zcF9idGY%26psc%3D1',\n",
       " 'https://www.amazon.in/sspa/click?ie=UTF8&spc=MTo3OTk2NjczNjM3Nzk1NTU4OjE2ODcyNDM0NDY6c3BfYXRmOjIwMTIxNzg0MjQwOTk4OjowOjo&url=%2FKadence-Frontier-Acoustic-Guitar-Equalizer%2Fdp%2FB01HRIHJWY%2Fref%3Dsr_1_1_sspa%3Fkeywords%3DGuitar%26qid%3D1687243446%26sr%3D8-1-spons%26sp_csd%3Dd2lkZ2V0TmFtZT1zcF9hdGY%26psc%3D1',\n",
       " 'https://www.amazon.in/sspa/click?ie=UTF8&spc=MTo3OTk2NjczNjM3Nzk1NTU4OjE2ODcyNDM0NDY6c3BfYXRmOjIwMDk2NjA4NzUwNDk4OjowOjo&url=%2FKadence-Frontier-Acoustic-Guitar-Strings%2Fdp%2FB01GDZ46AA%2Fref%3Dsr_1_2_sspa%3Fkeywords%3DGuitar%26qid%3D1687243446%26sr%3D8-2-spons%26sp_csd%3Dd2lkZ2V0TmFtZT1zcF9hdGY%26psc%3D1',\n",
       " 'https://www.amazon.in/sspa/click?ie=UTF8&spc=MTo3OTk2NjczNjM3Nzk1NTU4OjE2ODcyNDM0NDY6c3BfYXRmOjIwMDkyNjI0MDIxNDk4OjowOjo&url=%2FPremium-Spruce-Top-Dreadnought-Acoustic-Guitar%2Fdp%2FB0BJK1CWSN%2Fref%3Dsr_1_3_sspa%3Fkeywords%3DGuitar%26qid%3D1687243446%26sr%3D8-3-spons%26sp_csd%3Dd2lkZ2V0TmFtZT1zcF9hdGY%26psc%3D1',\n",
       " 'https://www.amazon.in/sspa/click?ie=UTF8&spc=MTo3OTk2NjczNjM3Nzk1NTU4OjE2ODcyNDM0NDY6c3BfYXRmOjIwMTE0MTEyODI3Nzk4OjowOjo&url=%2FESH-Creations-E40CHEQ-Acoustic-Strings%2Fdp%2FB0BMG81LCG%2Fref%3Dsr_1_4_sspa%3Fkeywords%3DGuitar%26qid%3D1687243446%26sr%3D8-4-spons%26sp_csd%3Dd2lkZ2V0TmFtZT1zcF9hdGY%26psc%3D1',\n",
       " 'https://www.amazon.in/Juarez-Acoustic-Cutaway-038C-Strings/dp/B017NPCSLI/ref=sr_1_5?keywords=Guitar&qid=1687243446&sr=8-5',\n",
       " 'https://www.amazon.in/JUAREZ-JRZ38C-Acoustic-Sunburst-Strings/dp/B01FYYTDTU/ref=sr_1_6?keywords=Guitar&qid=1687243446&sr=8-6',\n",
       " 'https://www.amazon.in/JUAREZ-JRZ38C-Acoustic-Sunburst-Strings/dp/B01FYYTDS6/ref=sr_1_7?keywords=Guitar&qid=1687243446&sr=8-7',\n",
       " 'https://aax-eu.amazon.in/x/c/RPW7dL-viZKuM4afx5x4LsAAAAGI14vZzwMAAAH2AQBvbm9fdHhuX2JpZDIgICBvbm9fdHhuX2ltcDEgICDT4t7r/https://www.amazon.in/Kadence-Slowhand-Premium-Acoustic-Instrument/dp/B077SZ667X/ref=sxin_14_sbv_search_btf?content-id=amzn1.sym.ea7f11f8-e26c-4b10-84ad-15aa33ea30ac%3Aamzn1.sym.ea7f11f8-e26c-4b10-84ad-15aa33ea30ac&cv_ct_cx=Guitar&keywords=Guitar&pd_rd_i=B077SZ667X&pd_rd_r=728b3944-6621-4bf5-9f6d-86f0bf01c5b6&pd_rd_w=DTgHN&pd_rd_wg=7hl61&pf_rd_p=ea7f11f8-e26c-4b10-84ad-15aa33ea30ac&pf_rd_r=JCRC1AH5BZGDDXCY5PKQ&qid=1687243446&sr=1-1-9131241a-a358-4619-a7b8-0f5a65d91d81',\n",
       " 'https://aax-eu.amazon.in/x/c/RPW7dL-viZKuM4afx5x4LsAAAAGI14vZzwMAAAH2AQBvbm9fdHhuX2JpZDIgICBvbm9fdHhuX2ltcDEgICDT4t7r/https://www.amazon.in/Kadence-Slowhand-Premium-Acoustic-Instrument/dp/B077SZ667X/ref=sxin_14_sbv_search_btf?content-id=amzn1.sym.ea7f11f8-e26c-4b10-84ad-15aa33ea30ac%3Aamzn1.sym.ea7f11f8-e26c-4b10-84ad-15aa33ea30ac&cv_ct_cx=Guitar&keywords=Guitar&pd_rd_i=B077SZ667X&pd_rd_r=728b3944-6621-4bf5-9f6d-86f0bf01c5b6&pd_rd_w=DTgHN&pd_rd_wg=7hl61&pf_rd_p=ea7f11f8-e26c-4b10-84ad-15aa33ea30ac&pf_rd_r=JCRC1AH5BZGDDXCY5PKQ&qid=1687243446&sr=1-1-9131241a-a358-4619-a7b8-0f5a65d91d81',\n",
       " 'https://www.amazon.in/Yamaha-F280-Acoustic-Guitar-Natural/dp/B08317Y4VP/ref=sr_1_8?keywords=Guitar&qid=1687243446&sr=8-8',\n",
       " 'https://www.amazon.in/Kadence-Frontier-Acoustic-Guitar-Strings/dp/B01GDZ46AA/ref=sr_1_9?keywords=Guitar&qid=1687243446&sr=8-9',\n",
       " 'https://www.amazon.in/Juarez-Acoustic-Guitar-Cutaway-Strings/dp/B076QHZ4HZ/ref=sr_1_10?keywords=Guitar&qid=1687243446&sr=8-10',\n",
       " 'https://www.amazon.in/Intern-INT-38C-Acoustic-Guitar-Blue/dp/B073B5RZBV/ref=sr_1_11?keywords=Guitar&qid=1687243446&sr=8-11',\n",
       " 'https://www.amazon.in/Revel-RVL-38C-LGP-3TS-Linden-Acoustic-Sunburst/dp/B085HV4YW7/ref=sr_1_12?keywords=Guitar&qid=1687243446&sr=8-12',\n",
       " 'https://www.amazon.in/Juarez-JRZ-ST01-6-String-Electric-Without/dp/B01FYZSOGM/ref=sr_1_13?keywords=Guitar&qid=1687243446&sr=8-13',\n",
       " 'https://www.amazon.in/Henrix-Acoustic-Guitar-Die-cast-Dual-action/dp/B07VNDW6QF/ref=sr_1_14?keywords=Guitar&qid=1687243446&sr=8-14',\n",
       " 'https://www.amazon.in/Yamaha-FS-100C-6-String-Acoustic-without/dp/B00PAS9CK6/ref=sr_1_15?keywords=Guitar&qid=1687243446&sr=8-15',\n",
       " 'https://www.amazon.in/Intern-38-inch-Cutaway-Design-Acoustic/dp/B07X4PN85R/ref=sr_1_16?keywords=Guitar&qid=1687243446&sr=8-16',\n",
       " 'https://www.amazon.in/Ibanez-IBA-MD39CNT-Acoustic-Guitar-MD39C-NT/dp/B07G4CCMYL/ref=sr_1_17?keywords=Guitar&qid=1687243446&sr=8-17',\n",
       " 'https://www.amazon.in/Yamaha-Classical-Guitar-C40-02/dp/B003UGCUFE/ref=sr_1_18?keywords=Guitar&qid=1687243446&sr=8-18',\n",
       " 'https://www.amazon.in/Kadence-Professional-Guitar-Sunburst-Strings/dp/B07SXH9JKX/ref=sr_1_19?keywords=Guitar&qid=1687243446&sr=8-19',\n",
       " 'https://www.amazon.in/Juarez-Acoustic-Cutaway-BK-Strings/dp/B076T3RHMG/ref=sr_1_20?keywords=Guitar&qid=1687243446&sr=8-20',\n",
       " 'https://www.amazon.in/sspa/click?ie=UTF8&spc=MTo3OTk2NjczNjM3Nzk1NTU4OjE2ODcyNDM0NDY6c3BfbXRmOjIwMTE0MTEyODI4MTk4OjowOjo&url=%2FESH-Creations-E41CHEQ-Acoustic-Strings%2Fdp%2FB0BMGG1Q21%2Fref%3Dsr_1_21_sspa%3Fkeywords%3DGuitar%26qid%3D1687243446%26sr%3D8-21-spons%26sp_csd%3Dd2lkZ2V0TmFtZT1zcF9tdGY%26psc%3D1',\n",
       " 'https://www.amazon.in/sspa/click?ie=UTF8&spc=MTo3OTk2NjczNjM3Nzk1NTU4OjE2ODcyNDM0NDY6c3BfbXRmOjIwMTE1MDQ4ODExOTk4OjowOjo&url=%2FTagima-Junior-Inch-Acoustic-Guitar%2Fdp%2FB0BTBWJTGH%2Fref%3Dsr_1_22_sspa%3Fkeywords%3DGuitar%26qid%3D1687243446%26sr%3D8-22-spons%26sp_csd%3Dd2lkZ2V0TmFtZT1zcF9tdGY%26psc%3D1',\n",
       " 'https://www.amazon.in/sspa/click?ie=UTF8&spc=MTo3OTk2NjczNjM3Nzk1NTU4OjE2ODcyNDM0NDY6c3BfbXRmOjIwMDM2MjQ0NTU5NTk4OjowOjo&url=%2FTraveller-Acoustic-Guitar-Strings-Polishing%2Fdp%2FB07RK9962M%2Fref%3Dsr_1_23_sspa%3Fkeywords%3DGuitar%26qid%3D1687243446%26sr%3D8-23-spons%26sp_csd%3Dd2lkZ2V0TmFtZT1zcF9tdGY%26psc%3D1',\n",
       " 'https://www.amazon.in/sspa/click?ie=UTF8&spc=MTo3OTk2NjczNjM3Nzk1NTU4OjE2ODcyNDM0NDY6c3BfbXRmOjIwMDMxNjg4MjI2MjAxOjowOjo&url=%2FGUITAR-BRO-Acoustic-Beginner-Accessories%2Fdp%2FB07T84GC8L%2Fref%3Dsr_1_24_sspa%3Fkeywords%3DGuitar%26qid%3D1687243446%26sr%3D8-24-spons%26sp_csd%3Dd2lkZ2V0TmFtZT1zcF9tdGY%26psc%3D1',\n",
       " 'https://www.amazon.in/Medellin-MED-BLU-C-Linden-Acoustic-Guitar/dp/B07NBMWHJW/ref=sr_1_25?keywords=Guitar&qid=1687243446&sr=8-25',\n",
       " 'https://www.amazon.in/Medellin-Acoustic-adjustable-Truss-rod-learning/dp/B0BMKX4HNP/ref=sr_1_26?keywords=Guitar&qid=1687243446&sr=8-26',\n",
       " 'https://www.amazon.in/JRZ38C-Strings-Acoustic-Cutaway-Mahogany/dp/B071JM8C6T/ref=sr_1_27?keywords=Guitar&qid=1687243446&sr=8-27',\n",
       " 'https://www.amazon.in/Intern-INT-38C-Acoustic-Guitar-Kit/dp/B073B6TF31/ref=sr_1_28?keywords=Guitar&qid=1687243446&sr=8-28',\n",
       " 'https://www.amazon.in/Acoustic-Plectrums-Beginner-Learners-configuration/dp/B0B4SSB8BJ/ref=sr_1_29?keywords=Guitar&qid=1687243446&sr=8-29',\n",
       " 'https://www.amazon.in/Traveller-Acoustic-Guitar-Strings-Polishing/dp/B07RK9962M/ref=sr_1_30?keywords=Guitar&qid=1687243446&sr=8-30',\n",
       " 'https://www.amazon.in/Intern-INT-38C-NT-G-Guitar-Kit-Natural/dp/B07K9MZZH9/ref=sr_1_31?keywords=Guitar&qid=1687243446&sr=8-31',\n",
       " 'https://www.amazon.in/Intern-INT-38C-Acoustic-Guitar-Sunburst/dp/B073B5MJRM/ref=sr_1_32?keywords=Guitar&qid=1687243446&sr=8-32',\n",
       " 'https://www.amazon.in/JUAREZ-JRZ38C-Acoustic-Natural-Strings/dp/B01FYYTDWC/ref=sr_1_33?keywords=Guitar&qid=1687243446&sr=8-33',\n",
       " 'https://www.amazon.in/JRZ38C-VTS-Strings-Acoustic-Cutaway/dp/B072MFLQC9/ref=sr_1_34?keywords=Guitar&qid=1687243446&sr=8-34',\n",
       " 'https://www.amazon.in/Juarez-Acoustic-Guitar-Cutaway-Strings/dp/B075XMRKMY/ref=sr_1_35?keywords=Guitar&qid=1687243446&sr=8-35',\n",
       " 'https://www.amazon.in/Intern-INT-38C-BLS-G-Guitar-Kit-Blue/dp/B07K8YXTNW/ref=sr_1_36?keywords=Guitar&qid=1687243446&sr=8-36',\n",
       " 'https://www.amazon.in/Juarez-Acoustic-Guitar-Cutaway-JRZ38CT/dp/B01N3TTYJQ/ref=sr_1_37?keywords=Guitar&qid=1687243446&sr=8-37',\n",
       " 'https://www.amazon.in/Juarez-Strings-Acoustic-Cutaway-Zebrawood/dp/B072Q9L8DG/ref=sr_1_38?keywords=Guitar&qid=1687243446&sr=8-38',\n",
       " 'https://www.amazon.in/Pluto-HW34-101-Acoustic-Guitar-Kids/dp/B00PNDAQOY/ref=sr_1_39?keywords=Guitar&qid=1687243446&sr=8-39',\n",
       " 'https://www.amazon.in/Ibanez-V50NJP-VS-Acoustic-Dreadnought-Sunburst/dp/B00775TDU4/ref=sr_1_40?keywords=Guitar&qid=1687243446&sr=8-40',\n",
       " 'https://www.amazon.in/Yamaha-FSX80C-Acoustic-Cutaway-Natural/dp/B09HL3GFZF/ref=sr_1_41?keywords=Guitar&qid=1687243446&sr=8-41',\n",
       " 'https://www.amazon.in/Ju%C3%A2rez-JRZ38C-WH-Strings-Acoustic/dp/B072MFK4L6/ref=sr_1_42?keywords=Guitar&qid=1687243446&sr=8-42',\n",
       " 'https://www.amazon.in/Intern-INT-38C-BK-G-Guitar-Kit-Black/dp/B07K9497RC/ref=sr_1_43?keywords=Guitar&qid=1687243446&sr=8-43',\n",
       " 'https://www.amazon.in/JUAREZ-JRZ38C-Handed-Acoustic-Strings/dp/B01FYYTDW2/ref=sr_1_44?keywords=Guitar&qid=1687243446&sr=8-44',\n",
       " 'https://www.amazon.in/Acoustic-Pick-up-stability-professional-amplificaiton/dp/B09YH89JZQ/ref=sr_1_45?keywords=Guitar&qid=1687243446&sr=8-45',\n",
       " 'https://www.amazon.in/Juarez-Acoustic-Guitar-Cutaway-Strings/dp/B084VRCCN7/ref=sr_1_46?keywords=Guitar&qid=1687243446&sr=8-46',\n",
       " 'https://www.amazon.in/Blueberry-38C-Acoustic-Guitar-Strings/dp/B08KLMV4XX/ref=sr_1_47?keywords=Guitar&qid=1687243446&sr=8-47',\n",
       " 'https://www.amazon.in/Yamaha-FSX80C-Acoustic-Cutaway-Guitar/dp/B09HL5WFDX/ref=sr_1_48?keywords=Guitar&qid=1687243446&sr=8-48',\n",
       " 'https://www.amazon.in/Acoustic-Humidity-resistance-resonance-Plectrums/dp/B09RQZ6HM2/ref=sr_1_49?keywords=Guitar&qid=1687243446&sr=8-49',\n",
       " 'https://www.amazon.in/JUAREZ-Electric-Guitar-Handed-Sunburst/dp/B0758HTV7R/ref=sr_1_50?keywords=Guitar&qid=1687243446&sr=8-50',\n",
       " 'https://www.amazon.in/Kadence-Concert-Ukulele-Equalizer-Binding/dp/B08PNSGQBL/ref=sr_1_51?keywords=Guitar&qid=1687243446&sr=8-51',\n",
       " 'https://www.amazon.in/DOMENICO-4-String-Acoustic-Instrument-Learning/dp/B09M9VKRK8/ref=sr_1_52?keywords=Guitar&qid=1687243446&sr=8-52',\n",
       " 'https://www.amazon.in/Fender-Dread-String-Acoustic-Guitar/dp/B07RL6VG3H/ref=sr_1_53?keywords=Guitar&qid=1687243446&sr=8-53',\n",
       " 'https://www.amazon.in/JRZ-ST01-6-String-Electric-Sunburst-Without/dp/B01FYZSOEE/ref=sr_1_54?keywords=Guitar&qid=1687243446&sr=8-54',\n",
       " 'https://www.amazon.in/Acoustic-Cutaway-TBLS-Strings-Sunburst/dp/B098BCCY75/ref=sr_1_55?keywords=Guitar&qid=1687243446&sr=8-55',\n",
       " 'https://www.amazon.in/JUAREZ-Acoustic-Guitar-String-JRGSE32/dp/B08MW1WPW5/ref=sr_1_56?keywords=Guitar&qid=1687243446&sr=8-56',\n",
       " 'https://www.amazon.in/sspa/click?ie=UTF8&spc=MTo3OTk2NjczNjM3Nzk1NTU4OjE2ODcyNDM0NDY6c3BfYnRmOjIwMTE0MTEyODI3ODk4OjowOjo&url=%2FESH-Creations-E39CHEQ-Acoustic-Strings%2Fdp%2FB0BMVQLWF7%2Fref%3Dsr_1_57_sspa%3Fkeywords%3DGuitar%26qid%3D1687243446%26sr%3D8-57-spons%26sp_csd%3Dd2lkZ2V0TmFtZT1zcF9idGY%26psc%3D1',\n",
       " 'https://www.amazon.in/sspa/click?ie=UTF8&spc=MTo3OTk2NjczNjM3Nzk1NTU4OjE2ODcyNDM0NDY6c3BfYnRmOjIwMTYzNDMyNTg4NTk4OjowOjo&url=%2FGivson-Special-Guitar-VS-BLK-Acoustic%2Fdp%2FB07SZ5KR61%2Fref%3Dsr_1_58_sspa%3Fkeywords%3DGuitar%26qid%3D1687243446%26sr%3D8-58-spons%26sp_csd%3Dd2lkZ2V0TmFtZT1zcF9idGY%26psc%3D1%26smid%3DA3TA8QS9VGGKWW',\n",
       " 'https://www.amazon.in/sspa/click?ie=UTF8&spc=MTo3OTk2NjczNjM3Nzk1NTU4OjE2ODcyNDM0NDY6c3BfYnRmOjIwMTYzNDMyNTg5Mjk4OjowOjo&url=%2FKetostics%25C2%25AE-Givson-Special-Acoustic-Plectrums%2Fdp%2FB09P5283WM%2Fref%3Dsr_1_59_sspa%3Fkeywords%3DGuitar%26qid%3D1687243446%26sr%3D8-59-spons%26sp_csd%3Dd2lkZ2V0TmFtZT1zcF9idGY%26psc%3D1',\n",
       " 'https://www.amazon.in/sspa/click?ie=UTF8&spc=MTo3OTk2NjczNjM3Nzk1NTU4OjE2ODcyNDM0NDY6c3BfYnRmOjIwMDE5NjI1NTkyMTA0OjowOjo&url=%2FCort-AD810-Dreadnought-Acoustic-Guitar%2Fdp%2FB07KMBVR6V%2Fref%3Dsr_1_60_sspa%3Fkeywords%3DGuitar%26qid%3D1687243446%26sr%3D8-60-spons%26sp_csd%3Dd2lkZ2V0TmFtZT1zcF9idGY%26psc%3D1',\n",
       " 'https://www.amazon.in/sspa/click?ie=UTF8&spc=MTo3OTk2NjczNjM3Nzk1NTU4OjE2ODcyNDM0NDY6c3BfYXRmOjIwMTIxNzg0MjQwOTk4OjowOjo&url=%2FKadence-Frontier-Acoustic-Guitar-Equalizer%2Fdp%2FB01HRIHJWY%2Fref%3Dsr_1_1_sspa%3Fkeywords%3DGuitar%26qid%3D1687243446%26sr%3D8-1-spons%26sp_csd%3Dd2lkZ2V0TmFtZT1zcF9hdGY%26psc%3D1',\n",
       " 'https://www.amazon.in/sspa/click?ie=UTF8&spc=MTo3OTk2NjczNjM3Nzk1NTU4OjE2ODcyNDM0NDY6c3BfYXRmOjIwMDk2NjA4NzUwNDk4OjowOjo&url=%2FKadence-Frontier-Acoustic-Guitar-Strings%2Fdp%2FB01GDZ46AA%2Fref%3Dsr_1_2_sspa%3Fkeywords%3DGuitar%26qid%3D1687243446%26sr%3D8-2-spons%26sp_csd%3Dd2lkZ2V0TmFtZT1zcF9hdGY%26psc%3D1',\n",
       " 'https://www.amazon.in/sspa/click?ie=UTF8&spc=MTo3OTk2NjczNjM3Nzk1NTU4OjE2ODcyNDM0NDY6c3BfYXRmOjIwMDkyNjI0MDIxNDk4OjowOjo&url=%2FPremium-Spruce-Top-Dreadnought-Acoustic-Guitar%2Fdp%2FB0BJK1CWSN%2Fref%3Dsr_1_3_sspa%3Fkeywords%3DGuitar%26qid%3D1687243446%26sr%3D8-3-spons%26sp_csd%3Dd2lkZ2V0TmFtZT1zcF9hdGY%26psc%3D1',\n",
       " 'https://www.amazon.in/sspa/click?ie=UTF8&spc=MTo3OTk2NjczNjM3Nzk1NTU4OjE2ODcyNDM0NDY6c3BfYXRmOjIwMTE0MTEyODI3Nzk4OjowOjo&url=%2FESH-Creations-E40CHEQ-Acoustic-Strings%2Fdp%2FB0BMG81LCG%2Fref%3Dsr_1_4_sspa%3Fkeywords%3DGuitar%26qid%3D1687243446%26sr%3D8-4-spons%26sp_csd%3Dd2lkZ2V0TmFtZT1zcF9hdGY%26psc%3D1',\n",
       " 'https://www.amazon.in/Juarez-Acoustic-Cutaway-038C-Strings/dp/B017NPCSLI/ref=sr_1_5?keywords=Guitar&qid=1687243446&sr=8-5',\n",
       " 'https://www.amazon.in/JUAREZ-JRZ38C-Acoustic-Sunburst-Strings/dp/B01FYYTDTU/ref=sr_1_6?keywords=Guitar&qid=1687243446&sr=8-6',\n",
       " 'https://www.amazon.in/JUAREZ-JRZ38C-Acoustic-Sunburst-Strings/dp/B01FYYTDS6/ref=sr_1_7?keywords=Guitar&qid=1687243446&sr=8-7',\n",
       " 'https://aax-eu.amazon.in/x/c/RPW7dL-viZKuM4afx5x4LsAAAAGI14vZzwMAAAH2AQBvbm9fdHhuX2JpZDIgICBvbm9fdHhuX2ltcDEgICDT4t7r/https://www.amazon.in/Kadence-Slowhand-Premium-Acoustic-Instrument/dp/B077SZ667X/ref=sxin_14_sbv_search_btf?content-id=amzn1.sym.ea7f11f8-e26c-4b10-84ad-15aa33ea30ac%3Aamzn1.sym.ea7f11f8-e26c-4b10-84ad-15aa33ea30ac&cv_ct_cx=Guitar&keywords=Guitar&pd_rd_i=B077SZ667X&pd_rd_r=728b3944-6621-4bf5-9f6d-86f0bf01c5b6&pd_rd_w=DTgHN&pd_rd_wg=7hl61&pf_rd_p=ea7f11f8-e26c-4b10-84ad-15aa33ea30ac&pf_rd_r=JCRC1AH5BZGDDXCY5PKQ&qid=1687243446&sr=1-1-9131241a-a358-4619-a7b8-0f5a65d91d81',\n",
       " 'https://aax-eu.amazon.in/x/c/RPW7dL-viZKuM4afx5x4LsAAAAGI14vZzwMAAAH2AQBvbm9fdHhuX2JpZDIgICBvbm9fdHhuX2ltcDEgICDT4t7r/https://www.amazon.in/Kadence-Slowhand-Premium-Acoustic-Instrument/dp/B077SZ667X/ref=sxin_14_sbv_search_btf?content-id=amzn1.sym.ea7f11f8-e26c-4b10-84ad-15aa33ea30ac%3Aamzn1.sym.ea7f11f8-e26c-4b10-84ad-15aa33ea30ac&cv_ct_cx=Guitar&keywords=Guitar&pd_rd_i=B077SZ667X&pd_rd_r=728b3944-6621-4bf5-9f6d-86f0bf01c5b6&pd_rd_w=DTgHN&pd_rd_wg=7hl61&pf_rd_p=ea7f11f8-e26c-4b10-84ad-15aa33ea30ac&pf_rd_r=JCRC1AH5BZGDDXCY5PKQ&qid=1687243446&sr=1-1-9131241a-a358-4619-a7b8-0f5a65d91d81',\n",
       " 'https://www.amazon.in/Yamaha-F280-Acoustic-Guitar-Natural/dp/B08317Y4VP/ref=sr_1_8?keywords=Guitar&qid=1687243446&sr=8-8',\n",
       " 'https://www.amazon.in/Kadence-Frontier-Acoustic-Guitar-Strings/dp/B01GDZ46AA/ref=sr_1_9?keywords=Guitar&qid=1687243446&sr=8-9',\n",
       " 'https://www.amazon.in/Juarez-Acoustic-Guitar-Cutaway-Strings/dp/B076QHZ4HZ/ref=sr_1_10?keywords=Guitar&qid=1687243446&sr=8-10',\n",
       " 'https://www.amazon.in/Intern-INT-38C-Acoustic-Guitar-Blue/dp/B073B5RZBV/ref=sr_1_11?keywords=Guitar&qid=1687243446&sr=8-11',\n",
       " 'https://www.amazon.in/Revel-RVL-38C-LGP-3TS-Linden-Acoustic-Sunburst/dp/B085HV4YW7/ref=sr_1_12?keywords=Guitar&qid=1687243446&sr=8-12',\n",
       " 'https://www.amazon.in/Juarez-JRZ-ST01-6-String-Electric-Without/dp/B01FYZSOGM/ref=sr_1_13?keywords=Guitar&qid=1687243446&sr=8-13',\n",
       " 'https://www.amazon.in/Henrix-Acoustic-Guitar-Die-cast-Dual-action/dp/B07VNDW6QF/ref=sr_1_14?keywords=Guitar&qid=1687243446&sr=8-14',\n",
       " 'https://www.amazon.in/Yamaha-FS-100C-6-String-Acoustic-without/dp/B00PAS9CK6/ref=sr_1_15?keywords=Guitar&qid=1687243446&sr=8-15',\n",
       " 'https://www.amazon.in/Intern-38-inch-Cutaway-Design-Acoustic/dp/B07X4PN85R/ref=sr_1_16?keywords=Guitar&qid=1687243446&sr=8-16',\n",
       " 'https://www.amazon.in/Ibanez-IBA-MD39CNT-Acoustic-Guitar-MD39C-NT/dp/B07G4CCMYL/ref=sr_1_17?keywords=Guitar&qid=1687243446&sr=8-17',\n",
       " 'https://www.amazon.in/Yamaha-Classical-Guitar-C40-02/dp/B003UGCUFE/ref=sr_1_18?keywords=Guitar&qid=1687243446&sr=8-18',\n",
       " 'https://www.amazon.in/Kadence-Professional-Guitar-Sunburst-Strings/dp/B07SXH9JKX/ref=sr_1_19?keywords=Guitar&qid=1687243446&sr=8-19',\n",
       " 'https://www.amazon.in/Juarez-Acoustic-Cutaway-BK-Strings/dp/B076T3RHMG/ref=sr_1_20?keywords=Guitar&qid=1687243446&sr=8-20',\n",
       " 'https://www.amazon.in/sspa/click?ie=UTF8&spc=MTo3OTk2NjczNjM3Nzk1NTU4OjE2ODcyNDM0NDY6c3BfbXRmOjIwMTE0MTEyODI4MTk4OjowOjo&url=%2FESH-Creations-E41CHEQ-Acoustic-Strings%2Fdp%2FB0BMGG1Q21%2Fref%3Dsr_1_21_sspa%3Fkeywords%3DGuitar%26qid%3D1687243446%26sr%3D8-21-spons%26sp_csd%3Dd2lkZ2V0TmFtZT1zcF9tdGY%26psc%3D1',\n",
       " 'https://www.amazon.in/sspa/click?ie=UTF8&spc=MTo3OTk2NjczNjM3Nzk1NTU4OjE2ODcyNDM0NDY6c3BfbXRmOjIwMTE1MDQ4ODExOTk4OjowOjo&url=%2FTagima-Junior-Inch-Acoustic-Guitar%2Fdp%2FB0BTBWJTGH%2Fref%3Dsr_1_22_sspa%3Fkeywords%3DGuitar%26qid%3D1687243446%26sr%3D8-22-spons%26sp_csd%3Dd2lkZ2V0TmFtZT1zcF9tdGY%26psc%3D1',\n",
       " 'https://www.amazon.in/sspa/click?ie=UTF8&spc=MTo3OTk2NjczNjM3Nzk1NTU4OjE2ODcyNDM0NDY6c3BfbXRmOjIwMDM2MjQ0NTU5NTk4OjowOjo&url=%2FTraveller-Acoustic-Guitar-Strings-Polishing%2Fdp%2FB07RK9962M%2Fref%3Dsr_1_23_sspa%3Fkeywords%3DGuitar%26qid%3D1687243446%26sr%3D8-23-spons%26sp_csd%3Dd2lkZ2V0TmFtZT1zcF9tdGY%26psc%3D1',\n",
       " 'https://www.amazon.in/sspa/click?ie=UTF8&spc=MTo3OTk2NjczNjM3Nzk1NTU4OjE2ODcyNDM0NDY6c3BfbXRmOjIwMDMxNjg4MjI2MjAxOjowOjo&url=%2FGUITAR-BRO-Acoustic-Beginner-Accessories%2Fdp%2FB07T84GC8L%2Fref%3Dsr_1_24_sspa%3Fkeywords%3DGuitar%26qid%3D1687243446%26sr%3D8-24-spons%26sp_csd%3Dd2lkZ2V0TmFtZT1zcF9tdGY%26psc%3D1',\n",
       " 'https://www.amazon.in/Medellin-MED-BLU-C-Linden-Acoustic-Guitar/dp/B07NBMWHJW/ref=sr_1_25?keywords=Guitar&qid=1687243446&sr=8-25',\n",
       " 'https://www.amazon.in/Medellin-Acoustic-adjustable-Truss-rod-learning/dp/B0BMKX4HNP/ref=sr_1_26?keywords=Guitar&qid=1687243446&sr=8-26',\n",
       " 'https://www.amazon.in/JRZ38C-Strings-Acoustic-Cutaway-Mahogany/dp/B071JM8C6T/ref=sr_1_27?keywords=Guitar&qid=1687243446&sr=8-27',\n",
       " 'https://www.amazon.in/Intern-INT-38C-Acoustic-Guitar-Kit/dp/B073B6TF31/ref=sr_1_28?keywords=Guitar&qid=1687243446&sr=8-28',\n",
       " 'https://www.amazon.in/Acoustic-Plectrums-Beginner-Learners-configuration/dp/B0B4SSB8BJ/ref=sr_1_29?keywords=Guitar&qid=1687243446&sr=8-29',\n",
       " 'https://www.amazon.in/Traveller-Acoustic-Guitar-Strings-Polishing/dp/B07RK9962M/ref=sr_1_30?keywords=Guitar&qid=1687243446&sr=8-30',\n",
       " 'https://www.amazon.in/Intern-INT-38C-NT-G-Guitar-Kit-Natural/dp/B07K9MZZH9/ref=sr_1_31?keywords=Guitar&qid=1687243446&sr=8-31',\n",
       " 'https://www.amazon.in/Intern-INT-38C-Acoustic-Guitar-Sunburst/dp/B073B5MJRM/ref=sr_1_32?keywords=Guitar&qid=1687243446&sr=8-32',\n",
       " 'https://www.amazon.in/JUAREZ-JRZ38C-Acoustic-Natural-Strings/dp/B01FYYTDWC/ref=sr_1_33?keywords=Guitar&qid=1687243446&sr=8-33',\n",
       " 'https://www.amazon.in/JRZ38C-VTS-Strings-Acoustic-Cutaway/dp/B072MFLQC9/ref=sr_1_34?keywords=Guitar&qid=1687243446&sr=8-34',\n",
       " 'https://www.amazon.in/Juarez-Acoustic-Guitar-Cutaway-Strings/dp/B075XMRKMY/ref=sr_1_35?keywords=Guitar&qid=1687243446&sr=8-35',\n",
       " 'https://www.amazon.in/Intern-INT-38C-BLS-G-Guitar-Kit-Blue/dp/B07K8YXTNW/ref=sr_1_36?keywords=Guitar&qid=1687243446&sr=8-36',\n",
       " 'https://www.amazon.in/Juarez-Acoustic-Guitar-Cutaway-JRZ38CT/dp/B01N3TTYJQ/ref=sr_1_37?keywords=Guitar&qid=1687243446&sr=8-37',\n",
       " 'https://www.amazon.in/Juarez-Strings-Acoustic-Cutaway-Zebrawood/dp/B072Q9L8DG/ref=sr_1_38?keywords=Guitar&qid=1687243446&sr=8-38',\n",
       " 'https://www.amazon.in/Pluto-HW34-101-Acoustic-Guitar-Kids/dp/B00PNDAQOY/ref=sr_1_39?keywords=Guitar&qid=1687243446&sr=8-39',\n",
       " 'https://www.amazon.in/Ibanez-V50NJP-VS-Acoustic-Dreadnought-Sunburst/dp/B00775TDU4/ref=sr_1_40?keywords=Guitar&qid=1687243446&sr=8-40',\n",
       " 'https://www.amazon.in/Yamaha-FSX80C-Acoustic-Cutaway-Natural/dp/B09HL3GFZF/ref=sr_1_41?keywords=Guitar&qid=1687243446&sr=8-41',\n",
       " 'https://www.amazon.in/Ju%C3%A2rez-JRZ38C-WH-Strings-Acoustic/dp/B072MFK4L6/ref=sr_1_42?keywords=Guitar&qid=1687243446&sr=8-42',\n",
       " 'https://www.amazon.in/Intern-INT-38C-BK-G-Guitar-Kit-Black/dp/B07K9497RC/ref=sr_1_43?keywords=Guitar&qid=1687243446&sr=8-43',\n",
       " 'https://www.amazon.in/JUAREZ-JRZ38C-Handed-Acoustic-Strings/dp/B01FYYTDW2/ref=sr_1_44?keywords=Guitar&qid=1687243446&sr=8-44',\n",
       " 'https://www.amazon.in/Acoustic-Pick-up-stability-professional-amplificaiton/dp/B09YH89JZQ/ref=sr_1_45?keywords=Guitar&qid=1687243446&sr=8-45',\n",
       " 'https://www.amazon.in/Juarez-Acoustic-Guitar-Cutaway-Strings/dp/B084VRCCN7/ref=sr_1_46?keywords=Guitar&qid=1687243446&sr=8-46',\n",
       " 'https://www.amazon.in/Blueberry-38C-Acoustic-Guitar-Strings/dp/B08KLMV4XX/ref=sr_1_47?keywords=Guitar&qid=1687243446&sr=8-47',\n",
       " 'https://www.amazon.in/Yamaha-FSX80C-Acoustic-Cutaway-Guitar/dp/B09HL5WFDX/ref=sr_1_48?keywords=Guitar&qid=1687243446&sr=8-48',\n",
       " 'https://www.amazon.in/Acoustic-Humidity-resistance-resonance-Plectrums/dp/B09RQZ6HM2/ref=sr_1_49?keywords=Guitar&qid=1687243446&sr=8-49',\n",
       " 'https://www.amazon.in/JUAREZ-Electric-Guitar-Handed-Sunburst/dp/B0758HTV7R/ref=sr_1_50?keywords=Guitar&qid=1687243446&sr=8-50',\n",
       " 'https://www.amazon.in/Kadence-Concert-Ukulele-Equalizer-Binding/dp/B08PNSGQBL/ref=sr_1_51?keywords=Guitar&qid=1687243446&sr=8-51',\n",
       " 'https://www.amazon.in/DOMENICO-4-String-Acoustic-Instrument-Learning/dp/B09M9VKRK8/ref=sr_1_52?keywords=Guitar&qid=1687243446&sr=8-52',\n",
       " 'https://www.amazon.in/Fender-Dread-String-Acoustic-Guitar/dp/B07RL6VG3H/ref=sr_1_53?keywords=Guitar&qid=1687243446&sr=8-53',\n",
       " 'https://www.amazon.in/JRZ-ST01-6-String-Electric-Sunburst-Without/dp/B01FYZSOEE/ref=sr_1_54?keywords=Guitar&qid=1687243446&sr=8-54',\n",
       " 'https://www.amazon.in/Acoustic-Cutaway-TBLS-Strings-Sunburst/dp/B098BCCY75/ref=sr_1_55?keywords=Guitar&qid=1687243446&sr=8-55',\n",
       " 'https://www.amazon.in/JUAREZ-Acoustic-Guitar-String-JRGSE32/dp/B08MW1WPW5/ref=sr_1_56?keywords=Guitar&qid=1687243446&sr=8-56',\n",
       " 'https://www.amazon.in/sspa/click?ie=UTF8&spc=MTo3OTk2NjczNjM3Nzk1NTU4OjE2ODcyNDM0NDY6c3BfYnRmOjIwMTE0MTEyODI3ODk4OjowOjo&url=%2FESH-Creations-E39CHEQ-Acoustic-Strings%2Fdp%2FB0BMVQLWF7%2Fref%3Dsr_1_57_sspa%3Fkeywords%3DGuitar%26qid%3D1687243446%26sr%3D8-57-spons%26sp_csd%3Dd2lkZ2V0TmFtZT1zcF9idGY%26psc%3D1',\n",
       " 'https://www.amazon.in/sspa/click?ie=UTF8&spc=MTo3OTk2NjczNjM3Nzk1NTU4OjE2ODcyNDM0NDY6c3BfYnRmOjIwMTYzNDMyNTg4NTk4OjowOjo&url=%2FGivson-Special-Guitar-VS-BLK-Acoustic%2Fdp%2FB07SZ5KR61%2Fref%3Dsr_1_58_sspa%3Fkeywords%3DGuitar%26qid%3D1687243446%26sr%3D8-58-spons%26sp_csd%3Dd2lkZ2V0TmFtZT1zcF9idGY%26psc%3D1%26smid%3DA3TA8QS9VGGKWW',\n",
       " 'https://www.amazon.in/sspa/click?ie=UTF8&spc=MTo3OTk2NjczNjM3Nzk1NTU4OjE2ODcyNDM0NDY6c3BfYnRmOjIwMTYzNDMyNTg5Mjk4OjowOjo&url=%2FKetostics%25C2%25AE-Givson-Special-Acoustic-Plectrums%2Fdp%2FB09P5283WM%2Fref%3Dsr_1_59_sspa%3Fkeywords%3DGuitar%26qid%3D1687243446%26sr%3D8-59-spons%26sp_csd%3Dd2lkZ2V0TmFtZT1zcF9idGY%26psc%3D1',\n",
       " 'https://www.amazon.in/sspa/click?ie=UTF8&spc=MTo3OTk2NjczNjM3Nzk1NTU4OjE2ODcyNDM0NDY6c3BfYnRmOjIwMDE5NjI1NTkyMTA0OjowOjo&url=%2FCort-AD810-Dreadnought-Acoustic-Guitar%2Fdp%2FB07KMBVR6V%2Fref%3Dsr_1_60_sspa%3Fkeywords%3DGuitar%26qid%3D1687243446%26sr%3D8-60-spons%26sp_csd%3Dd2lkZ2V0TmFtZT1zcF9idGY%26psc%3D1']"
      ]
     },
     "execution_count": 9,
     "metadata": {},
     "output_type": "execute_result"
    }
   ],
   "source": [
    "urls"
   ]
  },
  {
   "cell_type": "code",
   "execution_count": 10,
   "id": "245251e1",
   "metadata": {},
   "outputs": [
    {
     "data": {
      "text/plain": [
       "186"
      ]
     },
     "execution_count": 10,
     "metadata": {},
     "output_type": "execute_result"
    }
   ],
   "source": [
    "len(urls)"
   ]
  },
  {
   "cell_type": "code",
   "execution_count": 11,
   "id": "fdefd0ea",
   "metadata": {},
   "outputs": [],
   "source": [
    "product_names = []\n",
    "brand_names = []\n",
    "prices = []\n",
    "returns = []\n",
    "deliveries = []\n",
    "availabilities = []\n",
    "product_urls = []"
   ]
  },
  {
   "cell_type": "code",
   "execution_count": 12,
   "id": "6aa97a1c",
   "metadata": {},
   "outputs": [],
   "source": [
    "for i in urls:\n",
    "    driver.get(i)\n",
    "    time.sleep(3)\n",
    "\n",
    "#Brand NAMES\n",
    "\n",
    "    try:\n",
    "        brand = driver.find_element(By.XPATH,'//*[@id=\"productOverview_feature_div\"]/div/table/tbody/tr[1]')\n",
    "        brand_names.append(brand.text)\n",
    "    except NoSuchElementException:\n",
    "        brand_names.append('_')\n",
    "       \n",
    "    \n",
    "    # product names\n",
    "    try:\n",
    "        product = driver.find_element(By.XPATH,'//span[@id=\"productTitle\"]')\n",
    "        product_names.append(product.text)\n",
    "    except NoSuchElementException:\n",
    "        product_names.append('_')\n",
    "  \n",
    "    #prices    \n",
    "    try:\n",
    "        price = driver.find_element(By.XPATH,'//span[@class=\"a-price aok-align-center\"]')\n",
    "        prices.append(price.text)\n",
    "    except NoSuchElementException:\n",
    "        prices.append('_')\n",
    "        \n",
    "    #Returns\n",
    "\n",
    "    try:\n",
    "        Return = driver.find_element(By.XPATH,'//span[@class=\"a-declarative\"]/div[2]/span')\n",
    "        returns.append(Return.text)\n",
    "    except NoSuchElementException:\n",
    "        returns.append('_')\n",
    "        \n",
    "        #Delivery    \n",
    "    try:\n",
    "        delivery= driver.find_element(By.XPATH,'//*[@id=\"mir-layout-DELIVERY_BLOCK-slot-PRIMARY_DELIVERY_MESSAGE_LARGE\"]/span/span[1]')\n",
    "        deliveries.append(delivery.text)\n",
    "    except NoSuchElementException:\n",
    "        deliveries.append('_')\n",
    "        \n",
    "    #Availability\n",
    "    \n",
    "    try:\n",
    "        availability = driver.find_element(By.XPATH,'//*[@id=\"availability\"]/span')\n",
    "        availabilities.append(availability.text)\n",
    "    except NoSuchElementException:\n",
    "        availabilities.append('_')"
   ]
  },
  {
   "cell_type": "code",
   "execution_count": 13,
   "id": "74d1bb1f",
   "metadata": {},
   "outputs": [
    {
     "name": "stdout",
     "output_type": "stream",
     "text": [
      "186 186 186 186 186 186\n"
     ]
    }
   ],
   "source": [
    "print(len(brand_names),\n",
    "len(product_names),\n",
    "len(prices),\n",
    "len(returns),\n",
    "len(deliveries),\n",
    "len(availabilities))"
   ]
  },
  {
   "cell_type": "code",
   "execution_count": 17,
   "id": "0dd9e15a",
   "metadata": {},
   "outputs": [],
   "source": [
    "df = pd.DataFrame({\"Brand\": brand_names,\"Product Name\": product_names,\"Prices\":prices,\"Return/Exchange\":returns,\"Expected delivery\":deliveries,\"Stock Availability\":availabilities,\"Product url\":urls})"
   ]
  },
  {
   "cell_type": "code",
   "execution_count": 18,
   "id": "c8818ebc",
   "metadata": {},
   "outputs": [
    {
     "data": {
      "text/html": [
       "<div>\n",
       "<style scoped>\n",
       "    .dataframe tbody tr th:only-of-type {\n",
       "        vertical-align: middle;\n",
       "    }\n",
       "\n",
       "    .dataframe tbody tr th {\n",
       "        vertical-align: top;\n",
       "    }\n",
       "\n",
       "    .dataframe thead th {\n",
       "        text-align: right;\n",
       "    }\n",
       "</style>\n",
       "<table border=\"1\" class=\"dataframe\">\n",
       "  <thead>\n",
       "    <tr style=\"text-align: right;\">\n",
       "      <th></th>\n",
       "      <th>Brand</th>\n",
       "      <th>Product Name</th>\n",
       "      <th>Prices</th>\n",
       "      <th>Return/Exchange</th>\n",
       "      <th>Expected delivery</th>\n",
       "      <th>Stock Availability</th>\n",
       "      <th>Product url</th>\n",
       "    </tr>\n",
       "  </thead>\n",
       "  <tbody>\n",
       "    <tr>\n",
       "      <th>0</th>\n",
       "      <td>Brand Kadence</td>\n",
       "      <td>Kadence Frontier Jumbo Semi Acoustic Guitar Wi...</td>\n",
       "      <td>₹6,899\\n00</td>\n",
       "      <td>7 days Replacement</td>\n",
       "      <td>Thursday, 22 June</td>\n",
       "      <td>In stock</td>\n",
       "      <td>https://www.amazon.in/sspa/click?ie=UTF8&amp;spc=M...</td>\n",
       "    </tr>\n",
       "    <tr>\n",
       "      <th>1</th>\n",
       "      <td>Brand Kadence</td>\n",
       "      <td>Kadence Frontier guitar with Online Guitar lea...</td>\n",
       "      <td>₹4,999\\n00</td>\n",
       "      <td>7 days Replacement</td>\n",
       "      <td>Thursday, 22 June</td>\n",
       "      <td>In stock</td>\n",
       "      <td>https://www.amazon.in/sspa/click?ie=UTF8&amp;spc=M...</td>\n",
       "    </tr>\n",
       "    <tr>\n",
       "      <th>2</th>\n",
       "      <td>Brand VAULT</td>\n",
       "      <td>Vault DA40 41 Inch Premium Solid Spruce-Top Dr...</td>\n",
       "      <td>₹6,934\\n00</td>\n",
       "      <td>7 days Replacement</td>\n",
       "      <td>Friday, 23 June</td>\n",
       "      <td>In stock</td>\n",
       "      <td>https://www.amazon.in/sspa/click?ie=UTF8&amp;spc=M...</td>\n",
       "    </tr>\n",
       "    <tr>\n",
       "      <th>3</th>\n",
       "      <td>Brand ESH Creations</td>\n",
       "      <td>ESH Creations E40CHEQ High Gloss Semi Acoustic...</td>\n",
       "      <td>₹5,899\\n00</td>\n",
       "      <td>7 days Replacement</td>\n",
       "      <td>Saturday, 24 June</td>\n",
       "      <td>In stock</td>\n",
       "      <td>https://www.amazon.in/sspa/click?ie=UTF8&amp;spc=M...</td>\n",
       "    </tr>\n",
       "    <tr>\n",
       "      <th>4</th>\n",
       "      <td>Brand JUAREZ</td>\n",
       "      <td>Juârez Acoustic Guitar, 38 Inch Cutaway, 038C ...</td>\n",
       "      <td>₹1,994\\n00</td>\n",
       "      <td>7 days Replacement</td>\n",
       "      <td>Monday, 26 June</td>\n",
       "      <td>In stock</td>\n",
       "      <td>https://www.amazon.in/Juarez-Acoustic-Cutaway-...</td>\n",
       "    </tr>\n",
       "    <tr>\n",
       "      <th>...</th>\n",
       "      <td>...</td>\n",
       "      <td>...</td>\n",
       "      <td>...</td>\n",
       "      <td>...</td>\n",
       "      <td>...</td>\n",
       "      <td>...</td>\n",
       "      <td>...</td>\n",
       "    </tr>\n",
       "    <tr>\n",
       "      <th>181</th>\n",
       "      <td>_</td>\n",
       "      <td>JUAREZ Acoustic Guitar 3xE 1st String &amp; 2 Pick...</td>\n",
       "      <td>₹75\\n00</td>\n",
       "      <td>7 days Replacement</td>\n",
       "      <td>Thursday, 22 June</td>\n",
       "      <td>In stock</td>\n",
       "      <td>https://www.amazon.in/JUAREZ-Acoustic-Guitar-S...</td>\n",
       "    </tr>\n",
       "    <tr>\n",
       "      <th>182</th>\n",
       "      <td>Brand ESH Creations</td>\n",
       "      <td>ESH Creations E39CHEQ High Gloss Semi Acoustic...</td>\n",
       "      <td>₹5,397\\n00</td>\n",
       "      <td>7 days Replacement</td>\n",
       "      <td>Saturday, 24 June</td>\n",
       "      <td>Only 1 left in stock</td>\n",
       "      <td>https://www.amazon.in/sspa/click?ie=UTF8&amp;spc=M...</td>\n",
       "    </tr>\n",
       "    <tr>\n",
       "      <th>183</th>\n",
       "      <td>Brand GIVSON</td>\n",
       "      <td>GIVSON Ketostics Venus Special Guitar (black) ...</td>\n",
       "      <td>₹4,299\\n00</td>\n",
       "      <td>7 days Replacement</td>\n",
       "      <td>Saturday, 24 June</td>\n",
       "      <td>In stock</td>\n",
       "      <td>https://www.amazon.in/sspa/click?ie=UTF8&amp;spc=M...</td>\n",
       "    </tr>\n",
       "    <tr>\n",
       "      <th>184</th>\n",
       "      <td>Brand KETOSTICS</td>\n",
       "      <td>Ketostics® Givson Venus Special Guitar Combo (...</td>\n",
       "      <td>₹4,199\\n00</td>\n",
       "      <td>7 days Replacement</td>\n",
       "      <td>Saturday, 24 June</td>\n",
       "      <td>In stock</td>\n",
       "      <td>https://www.amazon.in/sspa/click?ie=UTF8&amp;spc=M...</td>\n",
       "    </tr>\n",
       "    <tr>\n",
       "      <th>185</th>\n",
       "      <td>Brand Cort</td>\n",
       "      <td>Cort AD810 Dreadnought Acoustic Guitar with Gi...</td>\n",
       "      <td>₹10,800\\n00</td>\n",
       "      <td>7 days Replacement</td>\n",
       "      <td>Thursday, 22 June</td>\n",
       "      <td>Only 1 left in stock</td>\n",
       "      <td>https://www.amazon.in/sspa/click?ie=UTF8&amp;spc=M...</td>\n",
       "    </tr>\n",
       "  </tbody>\n",
       "</table>\n",
       "<p>186 rows × 7 columns</p>\n",
       "</div>"
      ],
      "text/plain": [
       "                   Brand                                       Product Name  \\\n",
       "0          Brand Kadence  Kadence Frontier Jumbo Semi Acoustic Guitar Wi...   \n",
       "1          Brand Kadence  Kadence Frontier guitar with Online Guitar lea...   \n",
       "2            Brand VAULT  Vault DA40 41 Inch Premium Solid Spruce-Top Dr...   \n",
       "3    Brand ESH Creations  ESH Creations E40CHEQ High Gloss Semi Acoustic...   \n",
       "4           Brand JUAREZ  Juârez Acoustic Guitar, 38 Inch Cutaway, 038C ...   \n",
       "..                   ...                                                ...   \n",
       "181                    _  JUAREZ Acoustic Guitar 3xE 1st String & 2 Pick...   \n",
       "182  Brand ESH Creations  ESH Creations E39CHEQ High Gloss Semi Acoustic...   \n",
       "183         Brand GIVSON  GIVSON Ketostics Venus Special Guitar (black) ...   \n",
       "184      Brand KETOSTICS  Ketostics® Givson Venus Special Guitar Combo (...   \n",
       "185           Brand Cort  Cort AD810 Dreadnought Acoustic Guitar with Gi...   \n",
       "\n",
       "          Prices     Return/Exchange  Expected delivery    Stock Availability  \\\n",
       "0     ₹6,899\\n00  7 days Replacement  Thursday, 22 June              In stock   \n",
       "1     ₹4,999\\n00  7 days Replacement  Thursday, 22 June              In stock   \n",
       "2     ₹6,934\\n00  7 days Replacement    Friday, 23 June              In stock   \n",
       "3     ₹5,899\\n00  7 days Replacement  Saturday, 24 June              In stock   \n",
       "4     ₹1,994\\n00  7 days Replacement    Monday, 26 June              In stock   \n",
       "..           ...                 ...                ...                   ...   \n",
       "181      ₹75\\n00  7 days Replacement  Thursday, 22 June              In stock   \n",
       "182   ₹5,397\\n00  7 days Replacement  Saturday, 24 June  Only 1 left in stock   \n",
       "183   ₹4,299\\n00  7 days Replacement  Saturday, 24 June              In stock   \n",
       "184   ₹4,199\\n00  7 days Replacement  Saturday, 24 June              In stock   \n",
       "185  ₹10,800\\n00  7 days Replacement  Thursday, 22 June  Only 1 left in stock   \n",
       "\n",
       "                                           Product url  \n",
       "0    https://www.amazon.in/sspa/click?ie=UTF8&spc=M...  \n",
       "1    https://www.amazon.in/sspa/click?ie=UTF8&spc=M...  \n",
       "2    https://www.amazon.in/sspa/click?ie=UTF8&spc=M...  \n",
       "3    https://www.amazon.in/sspa/click?ie=UTF8&spc=M...  \n",
       "4    https://www.amazon.in/Juarez-Acoustic-Cutaway-...  \n",
       "..                                                 ...  \n",
       "181  https://www.amazon.in/JUAREZ-Acoustic-Guitar-S...  \n",
       "182  https://www.amazon.in/sspa/click?ie=UTF8&spc=M...  \n",
       "183  https://www.amazon.in/sspa/click?ie=UTF8&spc=M...  \n",
       "184  https://www.amazon.in/sspa/click?ie=UTF8&spc=M...  \n",
       "185  https://www.amazon.in/sspa/click?ie=UTF8&spc=M...  \n",
       "\n",
       "[186 rows x 7 columns]"
      ]
     },
     "execution_count": 18,
     "metadata": {},
     "output_type": "execute_result"
    }
   ],
   "source": [
    "df"
   ]
  },
  {
   "cell_type": "code",
   "execution_count": 19,
   "id": "94384a61",
   "metadata": {},
   "outputs": [],
   "source": [
    "df.to_csv(\"Guitar.csv\")"
   ]
  },
  {
   "cell_type": "code",
   "execution_count": null,
   "id": "47ba6100",
   "metadata": {},
   "outputs": [],
   "source": []
  },
  {
   "cell_type": "raw",
   "id": "3cba0eee",
   "metadata": {},
   "source": [
    "3. Write a python program to access the search bar and search button on images.google.com and scrape 10 \n",
    "images each for keywords ‘fruits’, ‘cars’ and ‘Machine Learning’, ‘Guitar’, ‘Cakes’."
   ]
  },
  {
   "cell_type": "code",
   "execution_count": 20,
   "id": "d27a3274",
   "metadata": {},
   "outputs": [],
   "source": [
    "driver = webdriver.Chrome(r\"C:\\Users\\abhis\\Downloads\\chromedriver_win32\\chromedriver.exe\")"
   ]
  },
  {
   "cell_type": "code",
   "execution_count": null,
   "id": "7d3c92b1",
   "metadata": {},
   "outputs": [],
   "source": [
    "driver = webdriver.Chrome(r\"chromedriver.exe\")"
   ]
  },
  {
   "cell_type": "code",
   "execution_count": null,
   "id": "e9b6e1de",
   "metadata": {},
   "outputs": [],
   "source": [
    "driver.get(\"https://images.google.com/\")\n",
    "time.sleep(5)\n",
    "driver.maximize_window()"
   ]
  },
  {
   "cell_type": "code",
   "execution_count": null,
   "id": "e96696db",
   "metadata": {},
   "outputs": [],
   "source": [
    "val = input(\"Enter the Name: \")"
   ]
  },
  {
   "cell_type": "code",
   "execution_count": null,
   "id": "480a6dd2",
   "metadata": {},
   "outputs": [],
   "source": [
    "search_item = driver.find_element(By.XPATH,\"//textarea[@class='gLFyf']\")\n",
    "search_item.send_keys(val)"
   ]
  },
  {
   "cell_type": "code",
   "execution_count": null,
   "id": "51f08727",
   "metadata": {},
   "outputs": [],
   "source": [
    "search_button = driver.find_element(By.XPATH,'/html/body/div[1]/div[3]/form/div[1]/div[1]/div[1]/button/div')\n",
    "search_button.click()"
   ]
  },
  {
   "cell_type": "code",
   "execution_count": null,
   "id": "04986c41",
   "metadata": {},
   "outputs": [],
   "source": [
    "for _ in range(10):\n",
    "    x=0\n",
    "    while x<10:\n",
    "        driver.execute_script(\"window.scrollBy(0,500)\")\n",
    "        time.sleep(1)\n",
    "        x=x+1\n",
    "    \n",
    "images = driver.find_elements(By.XPATH,'//img[@class=\"rg_i Q4LuWd\"]')\n",
    "\n",
    "urls = []\n",
    "data = []\n",
    "\n",
    "for image in images:\n",
    "    source = image.get_attribute('scr')\n",
    "    if source is not None:\n",
    "        if(source[0:4] == 'http'):\n",
    "            urls.append(source)\n",
    "            \n",
    "for i in range(len(urls)):\n",
    "    if i >= 10:\n",
    "        break\n",
    "    print(\"Downloading {0} of {1} images\" .format(i,100))\n",
    "    response = requests.get(urls[i])\n",
    "    file = open(r\"C:\\Users\\abhis\\Downloads\"+str(i)+\".jpg\",\"wb\")\n",
    "    file.write(response.content)"
   ]
  },
  {
   "cell_type": "raw",
   "id": "dbaa2a04",
   "metadata": {},
   "source": [
    "Write a python program to search for a smartphone(e.g.: Oneplus Nord, pixel 4A, etc.) on www.flipkart.com\n",
    "and scrape following details for all the search results displayed on 1st page. Details to be scraped: “Brand \n",
    "Name”, “Smartphone name”, “Colour”, “RAM”, “Storage(ROM)”, “Primary Camera”, \n",
    "“Secondary Camera”, “Display Size”, “Battery Capacity”, “Price”, “Product URL”. Incase if any of the \n",
    "details is missing then replace it by “- “. Save your results in a dataframe and CSV. "
   ]
  },
  {
   "cell_type": "code",
   "execution_count": null,
   "id": "a2b88133",
   "metadata": {},
   "outputs": [],
   "source": [
    "import selenium\n",
    "import pandas as pd\n",
    "from selenium import webdriver\n",
    "import warnings\n",
    "warnings.filterwarnings('ignore')\n",
    "from selenium.webdriver.common.by import By\n",
    "import time\n",
    "from selenium.common.exceptions import NoSuchElementException, StaleElementReferenceException\n",
    "from selenium.webdriver.support.ui import WebDriverWait\n",
    "from selenium.webdriver.support import expected_conditions as EC"
   ]
  },
  {
   "cell_type": "code",
   "execution_count": null,
   "id": "9ed091ad",
   "metadata": {},
   "outputs": [],
   "source": [
    "driver = webdriver.Chrome(r\"C:\\Users\\abhis\\Downloads\\chromedriver_win32\\chromedriver.exe\")\n",
    "\n",
    "driver = webdriver.Chrome(r\"chromedriver.exe\")\n",
    "\n",
    "driver.get(\"https://www.flipkart.com/\")\n",
    "time.sleep(2)\n",
    "driver.maximize_window()"
   ]
  },
  {
   "cell_type": "code",
   "execution_count": null,
   "id": "41836d4c",
   "metadata": {},
   "outputs": [],
   "source": [
    "search_item = driver.find_element(By.XPATH,'//*[@id=\"container\"]/div/div[1]/div[1]/div[2]/div[2]/form/div/div/input')\n",
    "search_item.send_keys(\"smartphones\")\n"
   ]
  },
  {
   "cell_type": "code",
   "execution_count": null,
   "id": "7683f0c7",
   "metadata": {},
   "outputs": [],
   "source": [
    "urls = []          \n",
    "for i in range(1):      \n",
    "    page_url = driver.find_elements(By.XPATH,'//a[@class=\"_1fQZEK\"]')\n",
    "    for i in page_url:\n",
    "        urls.append(i.get_attribute(\"href\"))\n",
    "        time.sleep(2)"
   ]
  },
  {
   "cell_type": "code",
   "execution_count": null,
   "id": "b9e43c7c",
   "metadata": {},
   "outputs": [],
   "source": [
    "len(urls)\n",
    "\n",
    "product_names = []\n",
    "brand_names = []\n",
    "prices = []\n",
    "color =[]\n",
    "RAM = []\n",
    "Storage =[]\n",
    "Primary_camera =[]\n",
    "secondary_cam =[]\n",
    "disply =[]\n",
    "battery =[]\n",
    "product_urls = []\n",
    "\n",
    "for i in urls:\n",
    "    driver.get(i)\n",
    "    time.sleep(3)\n",
    "    try:\n",
    "        read_more = driver.find_element(By.XPATH,\"//button[@class='_2KpZ6l _1FH0tX']\")\n",
    "        read_more.click()\n",
    "    except NoSuchElementException:\n",
    "        print(\"Exception occured while moving to next page\")\n",
    "\n",
    "#Brand NAMES\n",
    "\n",
    "    try:\n",
    "        brand = driver.find_element(By.XPATH,'//span[@class=\"B_NuCI\"]')\n",
    "        brand_names.append(brand.text)\n",
    "    except NoSuchElementException:\n",
    "        brand_names.append('_')\n",
    "       \n",
    "    \n",
    "    # product names\n",
    "    try:\n",
    "        product = driver.find_element(By.XPATH,'//div[@class=\"_3k-BhJ\"][1]/table/tbody/tr[3]/td[2]/ul/li')\n",
    "        product_names.append(product.text)\n",
    "    except NoSuchElementException:\n",
    "        product_names.append('_')\n",
    "  \n",
    "    #prices    \n",
    "    try:\n",
    "        price = driver.find_element(By.XPATH,'//div[@class=\"_30jeq3 _16Jk6d\"]')\n",
    "        prices.append(price.text)\n",
    "    except NoSuchElementException:\n",
    "        prices.append('_')\n",
    "        \n",
    "    #color\n",
    "\n",
    "    try:\n",
    "        colors = driver.find_element(By.XPATH,'//div[@class=\"_3k-BhJ\"][1]/table/tbody/tr[4]/td[2]/ul/li')\n",
    "        color.append(colors.text)\n",
    "    except NoSuchElementException:\n",
    "        color.append('_')\n",
    "        \n",
    "        #RAM   \n",
    "    try:\n",
    "        RaM = driver.find_element(By.XPATH,'//div[@class=\"_3k-BhJ\"][4]/table[1]/tbody/tr[2]/td[2]/ul/li')\n",
    "        RAM.append(RaM.text)\n",
    "    except NoSuchElementException:\n",
    "        RAM.append('_')\n",
    "        \n",
    "    #Storage\n",
    "    \n",
    "    try:\n",
    "        storage = driver.find_element(By.XPATH,'//div[@class=\"_3k-BhJ\"][4]/table[1]/tbody/tr[1]/td[2]/ul/li')\n",
    "        Storage.append(storage.text)\n",
    "    except NoSuchElementException:\n",
    "        Storage.append('_')\n",
    "    \n",
    "    #primary camera\n",
    "    try:\n",
    "        pri_cam = driver.find_element(By.XPATH,'//div[@class=\"_3k-BhJ\"][5]/table[1]/tbody/tr[2]/td[2]/ul/li')\n",
    "        Primary_camera.append(pri_cam.text)\n",
    "    except NoSuchElementException:\n",
    "        Primary_camera.append('_')\n",
    "        \n",
    "    #secondery camera\n",
    "    \n",
    "    try:\n",
    "        sec_cam = driver.find_element(By.XPATH,'//*[@id=\"container\"]/div/div[3]/div[1]/div[2]/div[9]/div[5]/div/div[2]/div[1]/div[5]/table/tbody/tr[5]/td[2]/ul/li')\n",
    "        secondary_cam.append(sec_cam.text)\n",
    "    except NoSuchElementException:\n",
    "        secondary_cam.append('_')\n",
    "        \n",
    "    #disply\n",
    "    \n",
    "    try:\n",
    "        Disply = driver.find_element(By.XPATH,'//*[@id=\"container\"]/div/div[3]/div[1]/div[2]/div[9]/div[5]/div/div[2]/div[1]/div[2]/table/tbody/tr[1]/td[2]/ul/li')\n",
    "        disply.append(Disply.text)\n",
    "    except NoSuchElementException:\n",
    "        disply.append('_')\n",
    "        \n",
    "    #Battery\n",
    "    \n",
    "    try:\n",
    "        Battery = driver.find_element(By.XPATH,'//*[@id=\"container\"]/div/div[3]/div[1]/div[2]/div[9]/div[5]/div/div[2]/div[1]/div[10]/table/tbody/tr/td[2]/ul/li')\n",
    "        battery.append(Battery.text)\n",
    "    except NoSuchElementException:\n",
    "        battery.append('_')"
   ]
  },
  {
   "cell_type": "code",
   "execution_count": null,
   "id": "c3c82e07",
   "metadata": {},
   "outputs": [],
   "source": [
    "print(len(brand_names),\n",
    "len(product_names),\n",
    "len(prices),\n",
    "len(color),\n",
    "len(RAM),\n",
    "len(Storage),\n",
    "len(Primary_camera),\n",
    "len(secondary_cam),\n",
    "len(disply),\n",
    "len(battery))"
   ]
  },
  {
   "cell_type": "code",
   "execution_count": null,
   "id": "76010f33",
   "metadata": {},
   "outputs": [],
   "source": [
    "df = pd.DataFrame({\"Brand Name\":brand_names,\"Product Name\":product_names,\"Price\":prices,\"Color\":color,\"RAM\":RAM,\"Storage\":Storage,\"Primary Camera\":Primary_camera,\"Secondary Camera\":secondary_cam,\"Disply\":disply,\"Batter\":battery})\n",
    "df"
   ]
  },
  {
   "cell_type": "code",
   "execution_count": null,
   "id": "0811ee0e",
   "metadata": {},
   "outputs": [],
   "source": [
    "df.to_csv(\"Smartphones.csv\")"
   ]
  },
  {
   "cell_type": "raw",
   "id": "b97e165b",
   "metadata": {},
   "source": [
    "Write a program to scrap geospatial coordinates (latitude, longitude) of a city searched on google maps."
   ]
  },
  {
   "cell_type": "code",
   "execution_count": null,
   "id": "29956c27",
   "metadata": {},
   "outputs": [],
   "source": [
    "driver = webdriver.Chrome(r\"C:\\Users\\abhis\\Downloads\\chromedriver_win32\\chromedriver.exe\")"
   ]
  },
  {
   "cell_type": "code",
   "execution_count": null,
   "id": "7e754caa",
   "metadata": {},
   "outputs": [],
   "source": [
    "driver = webdriver.Chrome(r\"chromedriver.exe\")"
   ]
  },
  {
   "cell_type": "code",
   "execution_count": null,
   "id": "545b95a8",
   "metadata": {},
   "outputs": [],
   "source": [
    "driver.get(\"https://www.google.com/maps/\")\n",
    "time.sleep(2)\n",
    "driver.maximize_window()"
   ]
  },
  {
   "cell_type": "code",
   "execution_count": null,
   "id": "6492edeb",
   "metadata": {},
   "outputs": [],
   "source": [
    "City = input('Enter City name that has to be searched : ')\n",
    "\n",
    "search_item = driver.find_element(By.XPATH,'//input[@id=\"searchboxinput\"]')\n",
    "search_item.send_keys(City)\n",
    "\n",
    "search_btn = driver.find_element(By.XPATH,'//button[@id=\"searchbox-searchbutton\"]')\n",
    "search_btn.click()\n",
    "time.sleep(2)\n",
    "\n",
    "try:\n",
    "    url_str = driver.current_url\n",
    "    print(\"URL Extracted: \", url_str)\n",
    "    latitude_longitude = re.findall(r'@(.*)data',url_str)\n",
    "    if len(latitude_longitude):\n",
    "        lat_lng_list = latitude_longitude[0].split(\",\")\n",
    "        if len(lat_lng_list)>=2:\n",
    "            latitude = lat_lng_list[0]\n",
    "            longitude = lat_lng_list[1]\n",
    "        print(\"Latitude = {}, Longitude = {}\".format(latitude, longitude))\n",
    "except Exception as e:\n",
    "        print(\"Error: \", str(e))"
   ]
  },
  {
   "cell_type": "raw",
   "id": "82301afd",
   "metadata": {},
   "source": [
    "Write a program to scrap all the available details of best gaming laptops from digit.in."
   ]
  },
  {
   "cell_type": "code",
   "execution_count": null,
   "id": "2c786d5d",
   "metadata": {},
   "outputs": [],
   "source": [
    "driver = webdriver.Chrome(r\"C:\\Users\\abhis\\Downloads\\chromedriver_win32\\chromedriver.exe\")"
   ]
  },
  {
   "cell_type": "code",
   "execution_count": null,
   "id": "92e02b25",
   "metadata": {},
   "outputs": [],
   "source": [
    "driver = webdriver.Chrome(r\"chromedriver.exe\")"
   ]
  },
  {
   "cell_type": "code",
   "execution_count": null,
   "id": "b545a76b",
   "metadata": {},
   "outputs": [],
   "source": [
    "driver.get(\"https:digit.in\")\n",
    "time.sleep(2)\n",
    "driver.maximize_window()"
   ]
  },
  {
   "cell_type": "code",
   "execution_count": null,
   "id": "1bb4505f",
   "metadata": {},
   "outputs": [],
   "source": [
    "Best_gaming_laptop = driver.find_element(By.XPATH,\"//div[@class='listing_container']//ul//li[9]\").click()"
   ]
  },
  {
   "cell_type": "code",
   "execution_count": null,
   "id": "1548c6ee",
   "metadata": {},
   "outputs": [],
   "source": [
    "Laptop_Name = []\n",
    "Operating_sys = []\n",
    "Display = []\n",
    "Processor = []\n",
    "Memory = []\n",
    "Weight_Dimensions = []\n",
    "Graph_proc = []\n",
    "Price = []"
   ]
  },
  {
   "cell_type": "code",
   "execution_count": null,
   "id": "5fb855a0",
   "metadata": {},
   "outputs": [],
   "source": [
    "laptop_name = driver.find_elements(By.XPATH,\"//div[@class='TopNumbeHeading']\")\n",
    "for name in laptop_name:\n",
    "    Laptop_Name.append(name.text)\n",
    "\n",
    "#Operating System\n",
    "try:\n",
    "    op_sys = driver.find_elements(By.XPATH,'//div[@class=\"product-detail\"]/div/ul/li[1]')\n",
    "    for os in op_sys:\n",
    "        Operating_sys.append(os.text)\n",
    "except NoSuchElementException:\n",
    "    Operating_sys.append('_')\n",
    "    \n",
    "#Disply\n",
    "try:\n",
    "    display = driver.find_elements(By.XPATH,'//div[@class=\"product-detail\"]/div/ul/li[2]')\n",
    "    for disp in display:\n",
    "        Display.append(disp.text)\n",
    "except NoSuchElementException:\n",
    "    Display.append('_')\n",
    "    \n",
    "#Processor\n",
    "try:\n",
    "    processor = driver.find_elements(By.XPATH,'//div[@class=\"Spcs-details\"]/table/tbody/tr[2]/td[3]')\n",
    "    for pros in processor:\n",
    "        Processor.append(pros.text)\n",
    "except NoSuchElementException:\n",
    "    Processor.append('_')\n",
    "    \n",
    "#Memory\n",
    "try:\n",
    "    memory = driver.find_elements(By.XPATH,'//div[@class=\"Spcs-details\"]/table/tbody/tr[5]/td[3]')\n",
    "    for memo in memory:\n",
    "        Memory.append(memo.text)\n",
    "except NoSuchElementException:\n",
    "    Memory.append('_')\n",
    "    \n",
    "#weight\n",
    "try:\n",
    "    weight = driver.find_elements(By.XPATH,'//div[@class=\"Spcs-details\"]/table/tbody/tr[7]/td[3]')\n",
    "    for wei in weight:\n",
    "        Weight_Dimensions.append(wei.text)\n",
    "except NoSuchElementException:\n",
    "    Weight_Dimensions.append('_')\n",
    "    \n",
    "#Graphic proc\n",
    "try:\n",
    "    graphic = driver.find_elements(By.XPATH,'//div[@class=\"Spcs-details\"]/table/tbody/tr[6]/td[3]')\n",
    "    for graph in graphic:\n",
    "        Graph_proc.append(graph.text)\n",
    "except NoSuchElementException:\n",
    "    Graph_proc.append('_')\n",
    "    \n",
    "#Price\n",
    "try:\n",
    "    price = driver.find_elements(By.XPATH,'//div[@class=\"Spcs-details\"]/table/tbody/tr[8]/td[3]')\n",
    "    for pric in price:\n",
    "        Price.append(pric.text)\n",
    "except NoSuchElementException:\n",
    "    Price.append('_')\n",
    "    "
   ]
  },
  {
   "cell_type": "code",
   "execution_count": null,
   "id": "6e125bfa",
   "metadata": {},
   "outputs": [],
   "source": [
    "len(Laptop_Name),len(Operating_sys),len(Display),len(Processor),len(Memory),len(Weight_Dimensions),len(Graph_proc),len(Price)"
   ]
  },
  {
   "cell_type": "code",
   "execution_count": null,
   "id": "83fbb61a",
   "metadata": {},
   "outputs": [],
   "source": [
    "df= pd.DataFrame({\"Laptop Name\":Laptop_Name,\"Operating System\":Operating_sys,\"Display\":Display,\"Processor\":processor,\"Memory\":Memory,\"Weight and Dimentions\":Weight_Dimensions,\"Graphic Processor\":Graph_proc,\"Price\":Price})"
   ]
  },
  {
   "cell_type": "code",
   "execution_count": null,
   "id": "cd9e131e",
   "metadata": {},
   "outputs": [],
   "source": [
    "df"
   ]
  },
  {
   "cell_type": "markdown",
   "id": "30427d64",
   "metadata": {},
   "source": [
    ". Write a program to extract at least 500 Comments, Comment upvote and time when comment was posted \n",
    "from any YouTube Video."
   ]
  },
  {
   "cell_type": "code",
   "execution_count": null,
   "id": "733caba1",
   "metadata": {},
   "outputs": [],
   "source": [
    "driver = webdriver.Chrome(r\"C:\\Users\\abhis\\Downloads\\chromedriver_win32\\chromedriver.exe\")"
   ]
  },
  {
   "cell_type": "code",
   "execution_count": null,
   "id": "51aa0e23",
   "metadata": {},
   "outputs": [],
   "source": [
    "driver = webdriver.Chrome(r\"chromedriver.exe\")"
   ]
  },
  {
   "cell_type": "code",
   "execution_count": null,
   "id": "d398a2cf",
   "metadata": {},
   "outputs": [],
   "source": [
    "driver.get(\"https:www.youtube.com\")\n",
    "time.sleep(2)\n",
    "driver.maximize_window()"
   ]
  },
  {
   "cell_type": "code",
   "execution_count": null,
   "id": "c1a9881f",
   "metadata": {},
   "outputs": [],
   "source": [
    "search = driver.find_element(By.XPATH,'//input[@id=\"search\"]')\n",
    "search.send_keys(\"Comedy\")\n",
    "time.sleep(2)\n"
   ]
  },
  {
   "cell_type": "code",
   "execution_count": null,
   "id": "6241e75e",
   "metadata": {},
   "outputs": [],
   "source": [
    "search_btn = driver.find_element(By.XPATH,'//button[@id=\"search-icon-legacy\"]')\n",
    "search_btn.click()\n",
    "time.sleep(2)"
   ]
  },
  {
   "cell_type": "code",
   "execution_count": null,
   "id": "7790a430",
   "metadata": {},
   "outputs": [],
   "source": [
    "video = driver.find_element(By.XPATH,\"//yt-formatted-string[@class='style-scope ytd-video-renderer']\")\n",
    "video.click()"
   ]
  },
  {
   "cell_type": "code",
   "execution_count": null,
   "id": "845aa831",
   "metadata": {},
   "outputs": [],
   "source": [
    "for _ in range(1000):\n",
    "    driver.execute_script(\"window.scrollBy(0,10000)\")"
   ]
  },
  {
   "cell_type": "code",
   "execution_count": null,
   "id": "15dbe8ab",
   "metadata": {},
   "outputs": [],
   "source": [
    "comments = []\n",
    "comment_time = []\n",
    "Time = []\n",
    "Likes = []\n",
    "No_of_Likes = []"
   ]
  },
  {
   "cell_type": "code",
   "execution_count": null,
   "id": "fe88119b",
   "metadata": {},
   "outputs": [],
   "source": [
    "Comments = driver.find_elements(By.XPATH,'//div[@class=\"style-scope ytd-expander\"]')\n",
    "for i in Comments:\n",
    "     comments.append(i.text)\n",
    "\n",
    "time = driver.find_elements(By.XPATH,\"//a[@class='yt-simple-endpoint style-scope yt-formatted-string']\")\n",
    "for i in time:\n",
    "    Time.append(i.text)\n",
    "    \n",
    "for i in range(0,len(Time),2):\n",
    "    comment_time.append(Time[i])\n",
    "\n",
    "like = driver.find_elements(By.XPATH,\"//div[@id='reply-button']\")\n",
    "for i in like:\n",
    "    Likes.append(i.text)\n",
    "    \n",
    "for i in range(1,len(Likes),2):\n",
    "    No_of_Likes.append(Likes[i])"
   ]
  },
  {
   "cell_type": "code",
   "execution_count": null,
   "id": "a5042551",
   "metadata": {},
   "outputs": [],
   "source": [
    "print(len(comments),len(comment_time),len(No_of_Likes))"
   ]
  },
  {
   "cell_type": "code",
   "execution_count": null,
   "id": "bc451245",
   "metadata": {},
   "outputs": [],
   "source": [
    " df = pd.DataFrame({})\n",
    "df['Comment'] = comments[:500]\n",
    "df['Comment Time'] = comment_time[:500]\n",
    "df['Comment Upvotes'] = No_of_Likes[:500]\n",
    "df"
   ]
  }
 ],
 "metadata": {
  "kernelspec": {
   "display_name": "Python 3 (ipykernel)",
   "language": "python",
   "name": "python3"
  },
  "language_info": {
   "codemirror_mode": {
    "name": "ipython",
    "version": 3
   },
   "file_extension": ".py",
   "mimetype": "text/x-python",
   "name": "python",
   "nbconvert_exporter": "python",
   "pygments_lexer": "ipython3",
   "version": "3.9.13"
  }
 },
 "nbformat": 4,
 "nbformat_minor": 5
}
