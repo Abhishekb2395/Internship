{
 "cells": [
  {
   "cell_type": "code",
   "execution_count": null,
   "id": "2e7804ab",
   "metadata": {},
   "outputs": [],
   "source": [
    "#Q1: Write a python program to scrape data for “Data Analyst” Job position in “Bangalore” location. You \n",
    "#have to scrape the job-title, job-location, company_name, experience_required. You have to scrape first 10 \n",
    "#jobs data.\n",
    "#This task will be done in following steps:\n",
    "#1. First get the webpage https://www.naukri.com/\n",
    "#2. Enter “Data Analyst” in “Skill, Designations, Companies” field and enter “Bangalore” in “enter the \n",
    "#location” field.\n",
    "#3. Then click the searchbutton.\n",
    "#4. Then scrape the data for the first 10 jobs results youget.\n",
    "#5. Finally create a dataframe of the scraped data."
   ]
  },
  {
   "cell_type": "code",
   "execution_count": null,
   "id": "4ccf37b3",
   "metadata": {},
   "outputs": [],
   "source": [
    "!pip install selenium"
   ]
  },
  {
   "cell_type": "code",
   "execution_count": null,
   "id": "de30bdde",
   "metadata": {},
   "outputs": [],
   "source": [
    "import selenium\n",
    "import pandas as pd\n",
    "from selenium import webdriver\n",
    "import warnings\n",
    "warnings.filterwarnings('ignore')\n",
    "from selenium.webdriver.common.by import By\n",
    "import time"
   ]
  },
  {
   "cell_type": "code",
   "execution_count": null,
   "id": "88a44c90",
   "metadata": {},
   "outputs": [],
   "source": [
    "driver = webdriver.Chrome(r\"C:\\Users\\abhis\\Downloads\\chromedriver_win32\\chromedriver.exe\")"
   ]
  },
  {
   "cell_type": "code",
   "execution_count": null,
   "id": "bd90e97f",
   "metadata": {},
   "outputs": [],
   "source": [
    "driver = webdriver.Chrome(r\"chromedriver.exe\")"
   ]
  },
  {
   "cell_type": "code",
   "execution_count": null,
   "id": "7590575d",
   "metadata": {},
   "outputs": [],
   "source": [
    "driver.get('https://www.naukri.com/')"
   ]
  },
  {
   "cell_type": "code",
   "execution_count": null,
   "id": "0bbe534b",
   "metadata": {},
   "outputs": [],
   "source": [
    "designation = driver.find_element(By.CLASS_NAME, \"suggestor-input\")\n",
    "designation.send_keys(\"Data Analyst\")"
   ]
  },
  {
   "cell_type": "code",
   "execution_count": null,
   "id": "7259075b",
   "metadata": {},
   "outputs": [],
   "source": [
    "location = driver.find_element(By.XPATH,\"/html/body/div[1]/div[7]/div/div/div[5]/div/div/div/div[1]/div/input\")\n",
    "location.send_keys('Bangalore')"
   ]
  },
  {
   "cell_type": "code",
   "execution_count": null,
   "id": "c645d53e",
   "metadata": {},
   "outputs": [],
   "source": [
    "search=driver.find_element(By.CLASS_NAME,\"qsbSubmit\")\n",
    "search.click()"
   ]
  },
  {
   "cell_type": "code",
   "execution_count": null,
   "id": "d205d47b",
   "metadata": {},
   "outputs": [],
   "source": [
    "job_title = []\n",
    "job_location = []\n",
    "company_name = []\n",
    "experience_required = []"
   ]
  },
  {
   "cell_type": "code",
   "execution_count": null,
   "id": "c28110da",
   "metadata": {},
   "outputs": [],
   "source": [
    "title_tags= driver.find_elements(By.XPATH,'//a[@class=\"title ellipsis\"]')\n",
    "for i in title_tags[0:10]:\n",
    "    title = i.text\n",
    "    job_title.append(title)"
   ]
  },
  {
   "cell_type": "code",
   "execution_count": null,
   "id": "0a3f1326",
   "metadata": {},
   "outputs": [],
   "source": [
    "title"
   ]
  },
  {
   "cell_type": "code",
   "execution_count": null,
   "id": "2108803c",
   "metadata": {},
   "outputs": [],
   "source": [
    "location_tags = driver.find_elements(By.XPATH,'//span[@class=\"ellipsis fleft locWdth\"]')\n",
    "for i in location_tags[0:10]:\n",
    "    location = i.text\n",
    "    job_location.append(location)"
   ]
  },
  {
   "cell_type": "code",
   "execution_count": null,
   "id": "ebe89dba",
   "metadata": {},
   "outputs": [],
   "source": [
    "location"
   ]
  },
  {
   "cell_type": "code",
   "execution_count": null,
   "id": "89f12ed6",
   "metadata": {},
   "outputs": [],
   "source": [
    "company_tags = driver.find_elements(By.XPATH,'//a[@class=\"subTitle ellipsis fleft\"]')\n",
    "for i in company_tags[0:10]:\n",
    "    company = i.text\n",
    "    company_name.append(company)"
   ]
  },
  {
   "cell_type": "code",
   "execution_count": null,
   "id": "df4e32a7",
   "metadata": {},
   "outputs": [],
   "source": [
    "company"
   ]
  },
  {
   "cell_type": "code",
   "execution_count": null,
   "id": "fd457df8",
   "metadata": {},
   "outputs": [],
   "source": [
    "experience_tags= driver.find_elements(By.XPATH,'//span[@class=\"ellipsis fleft expwdth\"]')\n",
    "for i in experience_tags[0:10]:\n",
    "    experience = i.text\n",
    "    experience_required.append(experience)"
   ]
  },
  {
   "cell_type": "code",
   "execution_count": null,
   "id": "5ba81914",
   "metadata": {},
   "outputs": [],
   "source": [
    "experience"
   ]
  },
  {
   "cell_type": "code",
   "execution_count": null,
   "id": "656044be",
   "metadata": {},
   "outputs": [],
   "source": [
    "df = pd.DataFrame({'Title':job_title, 'Location': job_location, 'Company': company_name, 'Experience':experience_required})"
   ]
  },
  {
   "cell_type": "code",
   "execution_count": null,
   "id": "7f281358",
   "metadata": {},
   "outputs": [],
   "source": [
    "df"
   ]
  },
  {
   "cell_type": "code",
   "execution_count": null,
   "id": "2a6603f3",
   "metadata": {},
   "outputs": [],
   "source": []
  },
  {
   "cell_type": "code",
   "execution_count": null,
   "id": "ec39b483",
   "metadata": {},
   "outputs": [],
   "source": [
    "#Q2:Write a python program to scrape data for “Data Scientist” Job position in “Bangalore” location. You \n",
    "#have to scrape the job-title, job-location, company_name. You have to scrape first 10 jobs data.\n",
    "#This task will be done in following steps:\n",
    "#1. First get the webpage https://www.naukri.com/\n",
    "#2. Enter “Data Scientist” in “Skill, Designations, Companies” field and enter “Bangalore” in “enter the \n",
    "#location” field.\n",
    "#3. Then click the searchbutton.\n",
    "#4. Then scrape the data for the first 10 jobs results youget.\n",
    "#5. Finally create a dataframe of the scraped data."
   ]
  },
  {
   "cell_type": "code",
   "execution_count": null,
   "id": "7a5ab82e",
   "metadata": {},
   "outputs": [],
   "source": [
    "import selenium\n",
    "import pandas as pd\n",
    "from selenium import webdriver\n",
    "import warnings\n",
    "warnings.filterwarnings('ignore')\n",
    "from selenium.webdriver.common.by import By\n",
    "import time"
   ]
  },
  {
   "cell_type": "code",
   "execution_count": null,
   "id": "7ea16d34",
   "metadata": {},
   "outputs": [],
   "source": [
    "driver = webdriver.Chrome(r\"C:\\Users\\abhis\\Downloads\\chromedriver_win32\\chromedriver.exe\")"
   ]
  },
  {
   "cell_type": "code",
   "execution_count": null,
   "id": "ed262ba8",
   "metadata": {},
   "outputs": [],
   "source": [
    "driver = webdriver.Chrome(r\"chromedriver.exe\")"
   ]
  },
  {
   "cell_type": "code",
   "execution_count": null,
   "id": "eb6e1204",
   "metadata": {},
   "outputs": [],
   "source": [
    "driver.get(\"https://www.naukri.com/\")"
   ]
  },
  {
   "cell_type": "code",
   "execution_count": null,
   "id": "d228106a",
   "metadata": {},
   "outputs": [],
   "source": [
    "designation = driver.find_element(By.CLASS_NAME,\"suggestor-input\")\n",
    "designation.send_keys(\"Data Scientist\")"
   ]
  },
  {
   "cell_type": "code",
   "execution_count": null,
   "id": "1cd2d213",
   "metadata": {},
   "outputs": [],
   "source": [
    "location = driver.find_element(By.XPATH,\"/html/body/div[1]/div[6]/div/div/div[5]/div/div/div/div[1]/div/input\")\n",
    "location.send_keys(\"Bangalore\")"
   ]
  },
  {
   "cell_type": "code",
   "execution_count": null,
   "id": "803e1303",
   "metadata": {},
   "outputs": [],
   "source": [
    "search = driver.find_element(By.CLASS_NAME,\"qsbSubmit\")\n",
    "search.click()"
   ]
  },
  {
   "cell_type": "code",
   "execution_count": null,
   "id": "708d55b1",
   "metadata": {},
   "outputs": [],
   "source": [
    "Job_title = []\n",
    "Job_location = []\n",
    "Company_name = []"
   ]
  },
  {
   "cell_type": "code",
   "execution_count": null,
   "id": "96b39ca6",
   "metadata": {},
   "outputs": [],
   "source": [
    "title_tags = driver.find_elements(By.XPATH,'//a[@class=\"title ellipsis\"]')\n",
    "for i in title_tags[0:10]:\n",
    "    title = i.text\n",
    "    Job_title.append(title)"
   ]
  },
  {
   "cell_type": "code",
   "execution_count": null,
   "id": "7e0207d1",
   "metadata": {},
   "outputs": [],
   "source": [
    "title"
   ]
  },
  {
   "cell_type": "code",
   "execution_count": null,
   "id": "3fbf9b65",
   "metadata": {},
   "outputs": [],
   "source": [
    "location_tags = driver.find_elements(By.XPATH,'//span[@class=\"ellipsis fleft locWdth\"]')\n",
    "for i in location_tags[0:10]:\n",
    "    location = i.text\n",
    "    Job_location.append(location)"
   ]
  },
  {
   "cell_type": "code",
   "execution_count": null,
   "id": "00bd0b9c",
   "metadata": {},
   "outputs": [],
   "source": [
    "location"
   ]
  },
  {
   "cell_type": "code",
   "execution_count": null,
   "id": "14096604",
   "metadata": {},
   "outputs": [],
   "source": [
    "company_tags = driver.find_elements(By.XPATH,'//a[@class=\"subTitle ellipsis fleft\"]')\n",
    "for i in company_tags[0:10]:\n",
    "    company = i.text\n",
    "    Company_name.append(company)"
   ]
  },
  {
   "cell_type": "code",
   "execution_count": null,
   "id": "c7803649",
   "metadata": {},
   "outputs": [],
   "source": [
    "company"
   ]
  },
  {
   "cell_type": "code",
   "execution_count": null,
   "id": "f9362c2a",
   "metadata": {},
   "outputs": [],
   "source": [
    "df = pd.DataFrame({\"Title\":Job_title, \"Location\":Job_location, \"Company Name\": Company_name})\n",
    "df"
   ]
  },
  {
   "cell_type": "code",
   "execution_count": null,
   "id": "406dbe8f",
   "metadata": {},
   "outputs": [],
   "source": []
  },
  {
   "cell_type": "code",
   "execution_count": null,
   "id": "0ec3c6f7",
   "metadata": {},
   "outputs": [],
   "source": [
    "#Q3: In this question you have to scrape data using the filters available on the webpage as shown below:\n",
    "#You have to use the location and salary filter.\n",
    "#You have to scrape data for “Data Scientist” designation for first 10 job results.\n",
    "#You have to scrape the job-title, job-location, company name, experience required. \n",
    "#The location filter to be used is “Delhi/NCR”. The salary filter to be used is “3-6” lakhs\n",
    "#The task will be done as shown in the below steps:\n",
    "#1. first get thewebpage https://www.naukri.com/\n",
    "#2. Enter “Data Scientist” in “Skill, Designations, and Companies” field.\n",
    "#3. Then click the searchbutton.\n",
    "#4. Then apply the location filter and salary filter by checking the respectiveboxes\n",
    "#5. Then scrape the data for the first 10 jobs results youget.\n",
    "#6. Finally create a dataframe of the scrapeddata.\n"
   ]
  },
  {
   "cell_type": "code",
   "execution_count": null,
   "id": "5fe4c0c7",
   "metadata": {},
   "outputs": [],
   "source": [
    "import selenium\n",
    "import pandas as pd\n",
    "from selenium import webdriver\n",
    "import warnings\n",
    "warnings.filterwarnings('ignore')\n",
    "from selenium.webdriver.common.by import By\n",
    "import time"
   ]
  },
  {
   "cell_type": "code",
   "execution_count": null,
   "id": "3fe2b183",
   "metadata": {},
   "outputs": [],
   "source": [
    "driver = webdriver.Chrome(r\"C:\\Users\\abhis\\Downloads\\chromedriver_win32\\chromedriver.exe\")"
   ]
  },
  {
   "cell_type": "code",
   "execution_count": null,
   "id": "d77801f4",
   "metadata": {},
   "outputs": [],
   "source": [
    "driver = webdriver.Chrome(r\"chromedriver.exe\")"
   ]
  },
  {
   "cell_type": "code",
   "execution_count": null,
   "id": "0e02aedc",
   "metadata": {},
   "outputs": [],
   "source": [
    "driver.get(\"https://www.naukri.com/\")"
   ]
  },
  {
   "cell_type": "code",
   "execution_count": null,
   "id": "b344392c",
   "metadata": {},
   "outputs": [],
   "source": [
    "designation = driver.find_element(By.CLASS_NAME,\"suggestor-input\")\n",
    "designation.send_keys(\"Data Scientist\")"
   ]
  },
  {
   "cell_type": "code",
   "execution_count": null,
   "id": "f0a6c0e7",
   "metadata": {},
   "outputs": [],
   "source": [
    "location = driver.find_element(By.XPATH,\"/html/body/div[1]/div[7]/div/div/div[5]/div/div/div/div[1]/div/input\")\n",
    "location.send_keys(\"Delhi/NCR\")"
   ]
  },
  {
   "cell_type": "code",
   "execution_count": null,
   "id": "889967a0",
   "metadata": {},
   "outputs": [],
   "source": [
    "search = driver.find_element(By.CLASS_NAME,\"qsbSubmit\")\n",
    "search.click()"
   ]
  },
  {
   "cell_type": "code",
   "execution_count": null,
   "id": "970e44d9",
   "metadata": {},
   "outputs": [],
   "source": [
    "Job_title = []\n",
    "Job_location = []\n",
    "Company_Name = []\n",
    "Experience_Required = []"
   ]
  },
  {
   "cell_type": "code",
   "execution_count": null,
   "id": "85519411",
   "metadata": {},
   "outputs": [],
   "source": [
    "title_tags = driver.find_elements(By.XPATH,'//a[@class=\"title ellipsis\"]')\n",
    "for i in title_tags[0:10]:\n",
    "    title = i.text\n",
    "    Job_title.append(title)"
   ]
  },
  {
   "cell_type": "code",
   "execution_count": null,
   "id": "eb589572",
   "metadata": {},
   "outputs": [],
   "source": [
    "title"
   ]
  },
  {
   "cell_type": "code",
   "execution_count": null,
   "id": "98e01d01",
   "metadata": {},
   "outputs": [],
   "source": [
    "location_tags = driver.find_elements(By.XPATH,'//span[@class=\"ellipsis fleft locWdth\"]')\n",
    "for i in location_tags[0:10]:\n",
    "    location = i.text\n",
    "    Job_location.append(location)"
   ]
  },
  {
   "cell_type": "code",
   "execution_count": null,
   "id": "405eeef6",
   "metadata": {},
   "outputs": [],
   "source": [
    "location"
   ]
  },
  {
   "cell_type": "code",
   "execution_count": null,
   "id": "940d3921",
   "metadata": {},
   "outputs": [],
   "source": [
    "company_tags = driver.find_elements(By.XPATH,'//a[@class=\"subTitle ellipsis fleft\"]')\n",
    "for i in company_tags[0:10]:\n",
    "    company = i.text\n",
    "    Company_Name.append(company)"
   ]
  },
  {
   "cell_type": "code",
   "execution_count": null,
   "id": "759c6062",
   "metadata": {},
   "outputs": [],
   "source": [
    "company"
   ]
  },
  {
   "cell_type": "code",
   "execution_count": null,
   "id": "f59a47e4",
   "metadata": {},
   "outputs": [],
   "source": [
    "experience_tags = driver.find_elements(By.XPATH,'//span[@class=\"ellipsis fleft expwdth\"]')\n",
    "for i in experience_tags[0:10]:\n",
    "    Experience = i.text\n",
    "    Experience_Required.append(Experience)"
   ]
  },
  {
   "cell_type": "code",
   "execution_count": null,
   "id": "6d595741",
   "metadata": {},
   "outputs": [],
   "source": [
    "Experience"
   ]
  },
  {
   "cell_type": "code",
   "execution_count": null,
   "id": "64cf791d",
   "metadata": {},
   "outputs": [],
   "source": [
    "df= pd.DataFrame({\"Title\": Job_title, \"Location\":Job_location, \"Company Name\":Company_Name, \"Experience\": Experience_Required})"
   ]
  },
  {
   "cell_type": "code",
   "execution_count": null,
   "id": "92b87ba9",
   "metadata": {},
   "outputs": [],
   "source": [
    "df"
   ]
  },
  {
   "cell_type": "code",
   "execution_count": null,
   "id": "a1b648eb",
   "metadata": {},
   "outputs": [],
   "source": []
  },
  {
   "cell_type": "code",
   "execution_count": null,
   "id": "ed61d172",
   "metadata": {},
   "outputs": [],
   "source": [
    "#Q4: Scrape data of first 100 sunglasses listings on flipkart.com. You have to scrape four attributes:\n",
    "#1. Brand\n",
    "#2. ProductDescription\n",
    "#3. Price\n",
    "#The attributes which you have to scrape is ticked marked in the below image.\n",
    "#To scrape the data you have to go through following steps:\n",
    "#1. Go to Flipkart webpage by url :https://www.flipkart.com/\n",
    "#2. Enter “sunglasses” in the search field where “search for products, brands and more” is written and \n",
    "#click the search icon\n",
    "#3. After that you will reach to the page having a lot of sunglasses. From this page you can scrap the \n",
    "#required data asusual.\n",
    "#4. After scraping data from the first page, go to the “Next” Button at the bottom other page , then\n",
    "#click on it.\n",
    "#5. Now scrape data from this page asusual\n",
    "#6. Repeat this until you get data for 100sunglasses.\n"
   ]
  },
  {
   "cell_type": "code",
   "execution_count": null,
   "id": "fff87a2f",
   "metadata": {},
   "outputs": [],
   "source": [
    "import selenium\n",
    "import pandas as pd\n",
    "from selenium import webdriver\n",
    "import warnings\n",
    "warnings.filterwarnings('ignore')\n",
    "from selenium.webdriver.common.by import By\n",
    "import time"
   ]
  },
  {
   "cell_type": "code",
   "execution_count": null,
   "id": "e388aae9",
   "metadata": {},
   "outputs": [],
   "source": [
    "driver = webdriver.Chrome(r\"C:\\Users\\abhis\\Downloads\\chromedriver_win32\\chromedriver.exe\")"
   ]
  },
  {
   "cell_type": "code",
   "execution_count": null,
   "id": "44fe1108",
   "metadata": {},
   "outputs": [],
   "source": [
    "driver = webdriver.Chrome(r\"chromedriver.exe\")"
   ]
  },
  {
   "cell_type": "code",
   "execution_count": null,
   "id": "ef0cd3e9",
   "metadata": {},
   "outputs": [],
   "source": [
    "driver.get(\"https://www.flipkart.com/\")"
   ]
  },
  {
   "cell_type": "code",
   "execution_count": null,
   "id": "423e2248",
   "metadata": {},
   "outputs": [],
   "source": [
    "product = driver.find_element(By.CLASS_NAME,\"_3704LK\")\n",
    "product.send_keys(\"Sun Glasses\")"
   ]
  },
  {
   "cell_type": "code",
   "execution_count": null,
   "id": "6e70e433",
   "metadata": {},
   "outputs": [],
   "source": [
    "search = driver.find_element(By.XPATH,'/html/body/div/div/div[1]/div[1]/div[2]/div[2]/form/div/button')\n",
    "search.click()"
   ]
  },
  {
   "cell_type": "code",
   "execution_count": null,
   "id": "f7d7a889",
   "metadata": {},
   "outputs": [],
   "source": [
    "Product_brand = []\n",
    "descriptions = []\n",
    "prices = []\n",
    "Discounts = []"
   ]
  },
  {
   "cell_type": "code",
   "execution_count": null,
   "id": "5beca14e",
   "metadata": {},
   "outputs": [],
   "source": [
    "brand_tags = driver.find_elements(By.XPATH, \"//div[@class='_2WkVRV']\")\n",
    "for i in brand_tags[0:100]:\n",
    "    brand = i.text\n",
    "    Product_brand.append(brand)"
   ]
  },
  {
   "cell_type": "code",
   "execution_count": null,
   "id": "494d4188",
   "metadata": {},
   "outputs": [],
   "source": [
    "Product_brand"
   ]
  },
  {
   "cell_type": "code",
   "execution_count": null,
   "id": "f3c4b410",
   "metadata": {},
   "outputs": [],
   "source": [
    "description_tags = driver.find_elements(By.XPATH, '//a[@class=\"IRpwTa\"]')\n",
    "for i in description_tags[0:100]:\n",
    "    description = i.text\n",
    "    descriptions.append(description)"
   ]
  },
  {
   "cell_type": "code",
   "execution_count": null,
   "id": "866d00ff",
   "metadata": {},
   "outputs": [],
   "source": [
    "descriptions"
   ]
  },
  {
   "cell_type": "code",
   "execution_count": null,
   "id": "282204a8",
   "metadata": {},
   "outputs": [],
   "source": [
    "price_tags = driver.find_elements(By.XPATH, '//div[@class=\"_30jeq3\"]')\n",
    "for i in price_tags[0:100]:\n",
    "    price = i.text\n",
    "    prices.append(price)"
   ]
  },
  {
   "cell_type": "code",
   "execution_count": null,
   "id": "de1581a7",
   "metadata": {},
   "outputs": [],
   "source": [
    "prices"
   ]
  },
  {
   "cell_type": "code",
   "execution_count": null,
   "id": "ffac0ea4",
   "metadata": {},
   "outputs": [],
   "source": [
    "discount_tags = driver.find_elements(By.XPATH, '//div[@class=\"_3Ay6Sb\"]')\n",
    "for i in discount_tags[0:100]:\n",
    "    Discount = i.text\n",
    "    Discounts.append(Discount)"
   ]
  },
  {
   "cell_type": "code",
   "execution_count": null,
   "id": "8a598c78",
   "metadata": {},
   "outputs": [],
   "source": [
    "Discounts"
   ]
  },
  {
   "cell_type": "code",
   "execution_count": null,
   "id": "005d2f05",
   "metadata": {},
   "outputs": [],
   "source": [
    "next_button = driver.find_elements(By.XPATH, '/html/body/div[1]/div/div[3]/div[1]/div[2]/div[12]/div/div/nav/a[11]')[0]\n",
    "next_button.click()"
   ]
  },
  {
   "cell_type": "code",
   "execution_count": null,
   "id": "3a344f98",
   "metadata": {},
   "outputs": [],
   "source": [
    "print(len(Product_brand),len(descriptions),len(prices),len(Discounts))"
   ]
  },
  {
   "cell_type": "code",
   "execution_count": null,
   "id": "cd2f1c6c",
   "metadata": {},
   "outputs": [],
   "source": [
    "df = pd.DataFrame({\"Brand\": Product_brand[0:100], \"Description\": descriptions[0:100], \"Price\": prices[0:100], \"Discount\": Discounts[0:100]})\n",
    "df"
   ]
  },
  {
   "cell_type": "code",
   "execution_count": null,
   "id": "2bf962ed",
   "metadata": {},
   "outputs": [],
   "source": []
  },
  {
   "cell_type": "code",
   "execution_count": null,
   "id": "5df66bfb",
   "metadata": {},
   "outputs": [],
   "source": [
    "#Q5: Scrape 100 reviews data from flipkart.com for iphone11 phone. You have to go the link: \n",
    "#https://www.flipkart.com/apple-iphone-11-black-64-gb/product\u0002reviews/itm4e5041ba101fd?pid=MOBFWQ6BXGJCEYNY&lid=LSTMOBFWQ6BXGJCEYNYZXSHRJ&market\n",
    "#place=FLIPKART\n",
    "#As shown in the above page you have to scrape the tick marked attributes. These are:\n",
    "#1. Rating\n",
    "#2. Review summary\n",
    "#3. Full review\n",
    "#4. You have to scrape this data for first 100reviews."
   ]
  },
  {
   "cell_type": "code",
   "execution_count": null,
   "id": "1a35a07a",
   "metadata": {},
   "outputs": [],
   "source": [
    "import selenium\n",
    "import pandas as pd\n",
    "from selenium import webdriver\n",
    "import warnings\n",
    "warnings.filterwarnings('ignore')\n",
    "from selenium.webdriver.common.by import By\n",
    "import time"
   ]
  },
  {
   "cell_type": "code",
   "execution_count": null,
   "id": "6c55328c",
   "metadata": {},
   "outputs": [],
   "source": [
    "driver = webdriver.Chrome(r\"C:\\Users\\abhis\\Downloads\\chromedriver_win32\\chromedriver.exe\")"
   ]
  },
  {
   "cell_type": "code",
   "execution_count": null,
   "id": "4e8b3fbd",
   "metadata": {},
   "outputs": [],
   "source": [
    "driver = webdriver.Chrome(r\"chromedriver.exe\")"
   ]
  },
  {
   "cell_type": "code",
   "execution_count": null,
   "id": "6050c949",
   "metadata": {},
   "outputs": [],
   "source": [
    "driver.get(\"https://www.flipkart.com/apple-iphone-11-black-64-gb/product-reviews/itm4e5041ba101fd?pid=MOBFWQ6BXGJCEYNY&lid=LSTMOBFWQ6BXGJCEYNYZXSHRJ&marketplace=FLIPKART\")"
   ]
  },
  {
   "cell_type": "code",
   "execution_count": null,
   "id": "9823d23c",
   "metadata": {},
   "outputs": [],
   "source": [
    "Rating = []\n",
    "Review_summary = []\n",
    "Full_review = []"
   ]
  },
  {
   "cell_type": "code",
   "execution_count": null,
   "id": "df74409f",
   "metadata": {},
   "outputs": [],
   "source": [
    "rating_tags = driver.find_elements(By.XPATH, '//div[@class=\"_3LWZlK _1BLPMq\"]')\n",
    "for i in rating_tags[0:100]:\n",
    "    rating = i.text\n",
    "    Rating.append(rating)"
   ]
  },
  {
   "cell_type": "code",
   "execution_count": null,
   "id": "c6b5472f",
   "metadata": {},
   "outputs": [],
   "source": [
    "Rating"
   ]
  },
  {
   "cell_type": "code",
   "execution_count": null,
   "id": "895861f2",
   "metadata": {},
   "outputs": [],
   "source": [
    "review_tags = driver.find_elements(By.XPATH, '//p[@class=\"_2-N8zT\"]')\n",
    "for i in review_tags[0:100]:\n",
    "    review = i.text\n",
    "    Review_summary.append(review)"
   ]
  },
  {
   "cell_type": "code",
   "execution_count": null,
   "id": "fdbc3f83",
   "metadata": {},
   "outputs": [],
   "source": [
    "Review_summary"
   ]
  },
  {
   "cell_type": "code",
   "execution_count": null,
   "id": "597d998d",
   "metadata": {},
   "outputs": [],
   "source": [
    "full_review_tags = driver.find_elements(By.XPATH, '//div[@class=\"t-ZTKy\"]')\n",
    "for i in full_review_tags[0:100]:\n",
    "    full_review = i.text\n",
    "    Full_review.append(full_review)\n"
   ]
  },
  {
   "cell_type": "code",
   "execution_count": null,
   "id": "dfe5aeaa",
   "metadata": {},
   "outputs": [],
   "source": [
    "Full_review"
   ]
  },
  {
   "cell_type": "code",
   "execution_count": null,
   "id": "d6e8c331",
   "metadata": {},
   "outputs": [],
   "source": [
    "next_button= driver.find_elements(By.XPATH,'/html/body/div/div/div[3]/div/div/div[2]/div[13]/div/div/nav/a[12]')\n",
    "next_button"
   ]
  },
  {
   "cell_type": "code",
   "execution_count": null,
   "id": "941b9f53",
   "metadata": {},
   "outputs": [],
   "source": [
    "print(len(Rating),len(Review_summary),len(Full_review))"
   ]
  },
  {
   "cell_type": "code",
   "execution_count": null,
   "id": "9a449f1a",
   "metadata": {},
   "outputs": [],
   "source": [
    "df=pd.DataFrame({'Rating': Rating,'Review Summary': Review_summary,'Full Review': Full_review})"
   ]
  },
  {
   "cell_type": "code",
   "execution_count": null,
   "id": "b3536d9b",
   "metadata": {},
   "outputs": [],
   "source": [
    "df"
   ]
  },
  {
   "cell_type": "code",
   "execution_count": null,
   "id": "8a5f0c82",
   "metadata": {},
   "outputs": [],
   "source": []
  },
  {
   "cell_type": "code",
   "execution_count": null,
   "id": "9bc0f006",
   "metadata": {},
   "outputs": [],
   "source": [
    "#Q6: Scrape data forfirst 100 sneakers you find when you visit flipkart.com and search for “sneakers” in the \n",
    "#search field.\n",
    "#You have to scrape 3 attributes of each sneaker:\n",
    "#1. Brand\n",
    "#2. ProductDescription\n",
    "#3. Price\n",
    "#As shown in the below image, you have to scrape the above attributes."
   ]
  },
  {
   "cell_type": "code",
   "execution_count": null,
   "id": "386a3f33",
   "metadata": {},
   "outputs": [],
   "source": [
    "import selenium\n",
    "import pandas as pd\n",
    "from selenium import webdriver\n",
    "import warnings\n",
    "warnings.filterwarnings('ignore')\n",
    "from selenium.webdriver.common.by import By\n",
    "import time"
   ]
  },
  {
   "cell_type": "code",
   "execution_count": null,
   "id": "4e635e1c",
   "metadata": {},
   "outputs": [],
   "source": [
    "driver = webdriver.Chrome(r\"C:\\Users\\abhis\\Downloads\\chromedriver_win32\\chromedriver.exe\")"
   ]
  },
  {
   "cell_type": "code",
   "execution_count": null,
   "id": "47864908",
   "metadata": {},
   "outputs": [],
   "source": [
    "driver = webdriver.Chrome(r\"chromedriver.exe\")"
   ]
  },
  {
   "cell_type": "code",
   "execution_count": null,
   "id": "791e94e2",
   "metadata": {},
   "outputs": [],
   "source": [
    "driver.get(\"https://www.flipkart.com/\")"
   ]
  },
  {
   "cell_type": "code",
   "execution_count": null,
   "id": "1c73d4ff",
   "metadata": {},
   "outputs": [],
   "source": [
    "product = driver.find_element(By.CLASS_NAME,\"_3704LK\")\n",
    "product.send_keys(\"Sneaker\")"
   ]
  },
  {
   "cell_type": "code",
   "execution_count": null,
   "id": "be764784",
   "metadata": {},
   "outputs": [],
   "source": [
    "search = driver.find_element(By.XPATH,'/html/body/div[1]/div/div[1]/div[1]/div[2]/div[2]/form/div/button')\n",
    "search.click()"
   ]
  },
  {
   "cell_type": "code",
   "execution_count": null,
   "id": "9f23e835",
   "metadata": {},
   "outputs": [],
   "source": [
    "Product_brand = []\n",
    "descriptions = []\n",
    "prices = []"
   ]
  },
  {
   "cell_type": "code",
   "execution_count": null,
   "id": "b994fba2",
   "metadata": {},
   "outputs": [],
   "source": [
    "brand_tags = driver.find_elements(By.XPATH, \"//div[@class='_2WkVRV']\")\n",
    "for i in brand_tags[0:100]:\n",
    "    brand = i.text\n",
    "    Product_brand.append(brand)"
   ]
  },
  {
   "cell_type": "code",
   "execution_count": null,
   "id": "b512be15",
   "metadata": {},
   "outputs": [],
   "source": [
    "Product_brand"
   ]
  },
  {
   "cell_type": "code",
   "execution_count": null,
   "id": "b9c55f9d",
   "metadata": {},
   "outputs": [],
   "source": [
    "description_tags = driver.find_elements(By.XPATH, '//a[@class=\"IRpwTa\"]')\n",
    "for i in description_tags[0:100]:\n",
    "    description = i.text\n",
    "    descriptions.append(description)"
   ]
  },
  {
   "cell_type": "code",
   "execution_count": null,
   "id": "fa346423",
   "metadata": {},
   "outputs": [],
   "source": [
    "descriptions"
   ]
  },
  {
   "cell_type": "code",
   "execution_count": null,
   "id": "3c6ab99d",
   "metadata": {},
   "outputs": [],
   "source": [
    "price_tags = driver.find_elements(By.XPATH, '//div[@class=\"_30jeq3\"]')\n",
    "for i in price_tags[0:100]:\n",
    "    price = i.text\n",
    "    prices.append(price)"
   ]
  },
  {
   "cell_type": "code",
   "execution_count": null,
   "id": "c7bb7c4b",
   "metadata": {},
   "outputs": [],
   "source": [
    "prices"
   ]
  },
  {
   "cell_type": "code",
   "execution_count": null,
   "id": "393ea5b4",
   "metadata": {},
   "outputs": [],
   "source": [
    "next_button = driver.find_elements(By.XPATH, '/html/body/div[1]/div/div[3]/div[1]/div[2]/div[12]/div/div/nav/a[11]')[0]\n",
    "next_button.click()"
   ]
  },
  {
   "cell_type": "code",
   "execution_count": null,
   "id": "55d03ffa",
   "metadata": {},
   "outputs": [],
   "source": [
    "print(len(Product_brand),len(descriptions),len(prices))"
   ]
  },
  {
   "cell_type": "code",
   "execution_count": null,
   "id": "3c0b943e",
   "metadata": {},
   "outputs": [],
   "source": [
    "df = pd.DataFrame({\"Brand\": Product_brand[0:100], \"Description\": descriptions[0:100], \"Price\": prices[0:100]})\n",
    "df"
   ]
  },
  {
   "cell_type": "code",
   "execution_count": null,
   "id": "8721e42d",
   "metadata": {},
   "outputs": [],
   "source": []
  },
  {
   "cell_type": "markdown",
   "id": "2668ab29",
   "metadata": {},
   "source": [
    "Q7: Go to webpage https://www.amazon.in/ Enter “Laptop” in the search field and then click the search icon. Then \n",
    "set CPU Type filter to “Intel Core i7” as shown in the below image:\n",
    "After setting the filters scrape first 10 laptops data. You have to scrape 3 attributes for each laptop:\n",
    "1. Title\n",
    "2. Ratings\n",
    "3. Price\n"
   ]
  },
  {
   "cell_type": "code",
   "execution_count": null,
   "id": "db179e3d",
   "metadata": {},
   "outputs": [],
   "source": [
    "import selenium\n",
    "import pandas as pd\n",
    "from selenium import webdriver\n",
    "import warnings\n",
    "warnings.filterwarnings('ignore')\n",
    "from selenium.webdriver.common.by import By\n",
    "import time"
   ]
  },
  {
   "cell_type": "code",
   "execution_count": null,
   "id": "2a981210",
   "metadata": {},
   "outputs": [],
   "source": [
    "driver = webdriver.Chrome(r\"C:\\Users\\abhis\\Downloads\\chromedriver_win32\\chromedriver.exe\")"
   ]
  },
  {
   "cell_type": "code",
   "execution_count": null,
   "id": "fd2e578a",
   "metadata": {},
   "outputs": [],
   "source": [
    "driver = webdriver.Chrome(r\"chromedriver.exe\")"
   ]
  },
  {
   "cell_type": "code",
   "execution_count": null,
   "id": "c3b22576",
   "metadata": {},
   "outputs": [],
   "source": [
    "driver.get(\"https://www.amazon.in/\")"
   ]
  },
  {
   "cell_type": "code",
   "execution_count": null,
   "id": "f10f1ce3",
   "metadata": {},
   "outputs": [],
   "source": [
    "search_item = driver.find_element(By.XPATH,\"//input[@class='nav-input nav-progressive-attribute']\")\n",
    "search_item.send_keys(\"laptop\")"
   ]
  },
  {
   "cell_type": "code",
   "execution_count": null,
   "id": "4e0b1d64",
   "metadata": {},
   "outputs": [],
   "source": [
    "search_button = driver.find_element(By.XPATH,'/html/body/div[1]/header/div/div[1]/div[2]/div/form/div[3]/div/span/input')\n",
    "search_button.click()"
   ]
  },
  {
   "cell_type": "code",
   "execution_count": null,
   "id": "19a15eff",
   "metadata": {},
   "outputs": [],
   "source": [
    "Title = []\n",
    "Ratings = []\n",
    "Price = []"
   ]
  },
  {
   "cell_type": "code",
   "execution_count": null,
   "id": "91fdf65f",
   "metadata": {},
   "outputs": [],
   "source": [
    "title_tags = driver.find_elements(By.XPATH,'//span[@class=\"a-size-medium a-color-base a-text-normal\"]')\n",
    "for i in title_tags[0:10]:\n",
    "    title = i.text\n",
    "    Title.append(title)"
   ]
  },
  {
   "cell_type": "code",
   "execution_count": null,
   "id": "f649cbd4",
   "metadata": {},
   "outputs": [],
   "source": [
    "rating_tags = driver.find_elements(By.XPATH,'//span[@class=\"a-size-medium a-color-base a-text-beside-button a-text-bold\"]')\n",
    "for i in rating_tags[0:10]:\n",
    "    rating = i.text\n",
    "    Ratings.append(rating)"
   ]
  },
  {
   "cell_type": "code",
   "execution_count": null,
   "id": "b778d4e5",
   "metadata": {},
   "outputs": [],
   "source": [
    "price_tags = driver.find_elements(By.XPATH,'//span[@class=\"a-price-whole\"]')\n",
    "for i in price_tags[0:10]:\n",
    "    price = i.text\n",
    "    Price.append(price)"
   ]
  },
  {
   "cell_type": "code",
   "execution_count": null,
   "id": "352f69e1",
   "metadata": {},
   "outputs": [],
   "source": [
    "print(len(Title),len(Ratings),len(Price))"
   ]
  },
  {
   "cell_type": "code",
   "execution_count": null,
   "id": "40d80a70",
   "metadata": {},
   "outputs": [],
   "source": [
    "df=pd.DataFrame({\"Title\":Title[0:10],\"Ratings\":Ratings[0:10],\"Price\":Price[0:10]})"
   ]
  },
  {
   "cell_type": "code",
   "execution_count": null,
   "id": "6d2a08dc",
   "metadata": {},
   "outputs": [],
   "source": [
    "df"
   ]
  },
  {
   "cell_type": "code",
   "execution_count": null,
   "id": "84fc2e6e",
   "metadata": {},
   "outputs": [],
   "source": []
  },
  {
   "cell_type": "raw",
   "id": "faff1a1e",
   "metadata": {},
   "source": [
    "Q8: Write a python program to scrape data for Top 1000 Quotes of All Time.\n",
    "The above task will be done in following steps:\n",
    "1. First get the webpagehttps://www.azquotes.com/\n",
    "2. Click on TopQuotes\n",
    "3. Than scrap a) Quote b) Author c) Type Of Quotes"
   ]
  },
  {
   "cell_type": "code",
   "execution_count": null,
   "id": "a54066e1",
   "metadata": {},
   "outputs": [],
   "source": [
    "import selenium\n",
    "import pandas as pd\n",
    "from selenium import webdriver\n",
    "import warnings\n",
    "warnings.filterwarnings('ignore')\n",
    "from selenium.webdriver.common.by import By\n",
    "import time"
   ]
  },
  {
   "cell_type": "code",
   "execution_count": null,
   "id": "ef735275",
   "metadata": {},
   "outputs": [],
   "source": [
    "driver = webdriver.Chrome(r\"C:\\Users\\abhis\\Downloads\\chromedriver_win32\\chromedriver.exe\")"
   ]
  },
  {
   "cell_type": "code",
   "execution_count": null,
   "id": "f369947d",
   "metadata": {},
   "outputs": [],
   "source": [
    "driver = webdriver.Chrome(r\"chromedriver.exe\")"
   ]
  },
  {
   "cell_type": "code",
   "execution_count": null,
   "id": "69170173",
   "metadata": {},
   "outputs": [],
   "source": [
    "driver.get(\"https://www.azquotes.com/\")"
   ]
  },
  {
   "cell_type": "code",
   "execution_count": null,
   "id": "fd5173f8",
   "metadata": {},
   "outputs": [],
   "source": [
    "click_topquotes = driver.find_element(By.XPATH,'//a[@href=\"/top_quotes.html\"]')\n",
    "click_topquotes.click()"
   ]
  },
  {
   "cell_type": "code",
   "execution_count": null,
   "id": "0932bf94",
   "metadata": {},
   "outputs": [],
   "source": [
    "Quotes = []\n",
    "Author = []\n",
    "Types_of_quotes = []"
   ]
  },
  {
   "cell_type": "code",
   "execution_count": null,
   "id": "8827eae3",
   "metadata": {},
   "outputs": [],
   "source": [
    "quotes_tags = driver.find_elements(By.XPATH,'//a[@class=\"title\"]')\n",
    "for i in quotes_tags[0:1000]:\n",
    "    quotes = i.text\n",
    "    Quotes.append(quotes)"
   ]
  },
  {
   "cell_type": "code",
   "execution_count": null,
   "id": "a488fc07",
   "metadata": {},
   "outputs": [],
   "source": [
    "Quotes"
   ]
  },
  {
   "cell_type": "code",
   "execution_count": null,
   "id": "2b4a82de",
   "metadata": {},
   "outputs": [],
   "source": [
    "author_tags = driver.find_elements(By.XPATH,'//div[@class=\"author\"]')\n",
    "for i in author_tags[0:1000]:\n",
    "    author = i.text\n",
    "    Author.append(author)"
   ]
  },
  {
   "cell_type": "code",
   "execution_count": null,
   "id": "73f42247",
   "metadata": {},
   "outputs": [],
   "source": [
    "Author"
   ]
  },
  {
   "cell_type": "code",
   "execution_count": null,
   "id": "b7993217",
   "metadata": {},
   "outputs": [],
   "source": [
    "types_tags= driver.find_elements(By.XPATH,'//div[@class=\"tags\"]')\n",
    "for i in types_tags[0:1000]:\n",
    "    types_of_quotes = i.text\n",
    "    Types_of_quotes.append(types_of_quotes)"
   ]
  },
  {
   "cell_type": "code",
   "execution_count": null,
   "id": "edc0fe59",
   "metadata": {},
   "outputs": [],
   "source": [
    "types_of_quotes"
   ]
  },
  {
   "cell_type": "code",
   "execution_count": null,
   "id": "9aba0167",
   "metadata": {},
   "outputs": [],
   "source": [
    "next_page=driver.find_element(By.XPATH,'//*[@id=\"content\"]/div/div[1]/div/div[3]/li[12]/a')\n",
    "next_page.click()"
   ]
  },
  {
   "cell_type": "code",
   "execution_count": null,
   "id": "e0fd89b8",
   "metadata": {},
   "outputs": [],
   "source": [
    "print(len(Quotes),len(Author),len(Types_of_quotes))"
   ]
  },
  {
   "cell_type": "code",
   "execution_count": null,
   "id": "bffd76e6",
   "metadata": {},
   "outputs": [],
   "source": [
    "df = pd.DataFrame({\"Quotes\":Quotes,\"Author\":Author,\"Type of Quotes\":Types_of_quotes})\n"
   ]
  },
  {
   "cell_type": "code",
   "execution_count": null,
   "id": "65734c61",
   "metadata": {},
   "outputs": [],
   "source": [
    "df"
   ]
  },
  {
   "cell_type": "code",
   "execution_count": null,
   "id": "85199896",
   "metadata": {},
   "outputs": [],
   "source": []
  },
  {
   "cell_type": "raw",
   "id": "bec9acdf",
   "metadata": {},
   "source": [
    "Q9: Write a python program to display list of respected former Prime Ministers of India(i.e. Name, Born-Dead, \n",
    "Term of office, Remarks) from https://www.jagranjosh.com/.\n",
    "This task will be done in following steps:\n",
    "1. First get the webpagehttps://www.jagranjosh.com/\n",
    "2. Then You have to click on the GK option\n",
    "3. Then click on the List of all Prime Ministers of India\n",
    "4. Then scrap the mentioned data and make theDataFrame.\n"
   ]
  },
  {
   "cell_type": "code",
   "execution_count": null,
   "id": "62a8deec",
   "metadata": {},
   "outputs": [],
   "source": [
    "import selenium\n",
    "import pandas as pd\n",
    "from selenium import webdriver\n",
    "import warnings\n",
    "warnings.filterwarnings('ignore')\n",
    "from selenium.webdriver.common.by import By\n",
    "import time "
   ]
  },
  {
   "cell_type": "code",
   "execution_count": null,
   "id": "038ddbaa",
   "metadata": {},
   "outputs": [],
   "source": [
    "driver = webdriver.Chrome(r\"C:\\Users\\abhis\\Downloads\\chromedriver_win32\\chromedriver.exe\")"
   ]
  },
  {
   "cell_type": "code",
   "execution_count": null,
   "id": "e29ce353",
   "metadata": {},
   "outputs": [],
   "source": [
    "driver = webdriver.Chrome(r\"chromedriver.exe\")"
   ]
  },
  {
   "cell_type": "code",
   "execution_count": null,
   "id": "e5d42017",
   "metadata": {},
   "outputs": [],
   "source": [
    "driver.get(\"https://www.jagranjosh.com/\")"
   ]
  },
  {
   "cell_type": "code",
   "execution_count": null,
   "id": "3c7094a6",
   "metadata": {},
   "outputs": [],
   "source": [
    "click_gk = driver.find_element(By.XPATH,'/html/body/div[1]/div[1]/div/div[1]/div/div[5]/div/div[1]/header/div[3]/ul/li[3]/a')\n",
    "click_gk.click()"
   ]
  },
  {
   "cell_type": "code",
   "execution_count": null,
   "id": "161d5ed1",
   "metadata": {},
   "outputs": [],
   "source": [
    "click_list_of_pm = driver.find_element(By.XPATH,'/html/body/div[1]/div/div/div[2]/div/div[10]/div/div/ul/li[2]/a')\n",
    "click_list_of_pm.click()"
   ]
  },
  {
   "cell_type": "code",
   "execution_count": null,
   "id": "d8e19ed3",
   "metadata": {},
   "outputs": [],
   "source": [
    "Name = []\n",
    "Born_Dead =[]\n",
    "Term_of_office = []\n",
    "Remarks = []"
   ]
  },
  {
   "cell_type": "code",
   "execution_count": null,
   "id": "58892093",
   "metadata": {},
   "outputs": [],
   "source": [
    "name_tags= driver.find_elements(By.XPATH,'//div[@class=\"table-box\"]/table/tbody/tr/td[2]/p')\n",
    "for i in name_tags[0:20]:\n",
    "    name = i.text\n",
    "    Name.append(name)"
   ]
  },
  {
   "cell_type": "code",
   "execution_count": null,
   "id": "b8b0ad50",
   "metadata": {},
   "outputs": [],
   "source": [
    "Name"
   ]
  },
  {
   "cell_type": "code",
   "execution_count": null,
   "id": "3a8e2232",
   "metadata": {},
   "outputs": [],
   "source": [
    "borndead_tags = driver.find_elements(By.XPATH,'//div[@class=\"table-box\"]/table/tbody/tr/td[3]/p')\n",
    "for i in borndead_tags[0:20]:\n",
    "    born_and_dead = i.text\n",
    "    Born_Dead.append(born_and_dead)"
   ]
  },
  {
   "cell_type": "code",
   "execution_count": null,
   "id": "cf778309",
   "metadata": {},
   "outputs": [],
   "source": [
    "Born_Dead"
   ]
  },
  {
   "cell_type": "code",
   "execution_count": null,
   "id": "ceccaa2b",
   "metadata": {},
   "outputs": [],
   "source": [
    "terms_tags = driver.find_elements(By.XPATH,'//div[@class=\"table-box\"]/table/tbody/tr/td[4]')\n",
    "for i in terms_tags[0:20]:\n",
    "    term_of_office = i.text\n",
    "    Term_of_office.append(term_of_office)"
   ]
  },
  {
   "cell_type": "code",
   "execution_count": null,
   "id": "431b7f62",
   "metadata": {},
   "outputs": [],
   "source": [
    "Term_of_office"
   ]
  },
  {
   "cell_type": "code",
   "execution_count": null,
   "id": "d57f862c",
   "metadata": {},
   "outputs": [],
   "source": [
    "remarks_tag = driver.find_elements(By.XPATH,'//div[@class=\"table-box\"]/table/tbody/tr/td[5]/p')\n",
    "for i in remarks_tag[0:20]:\n",
    "    remarks = i.text\n",
    "    Remarks.append(remarks)"
   ]
  },
  {
   "cell_type": "code",
   "execution_count": null,
   "id": "a56598e3",
   "metadata": {},
   "outputs": [],
   "source": [
    "Remarks"
   ]
  },
  {
   "cell_type": "code",
   "execution_count": null,
   "id": "f304c35e",
   "metadata": {},
   "outputs": [],
   "source": [
    "print(len(Name),len(Born_Dead),len(Remarks),len(Term_of_office))"
   ]
  },
  {
   "cell_type": "code",
   "execution_count": null,
   "id": "3c16a685",
   "metadata": {},
   "outputs": [],
   "source": [
    "df=  pd.DataFrame({\"Names\":Name,\"Born and died\":Born_Dead,\"Term Of Office\":Term_of_office,\"Remarks\":Remarks})"
   ]
  },
  {
   "cell_type": "code",
   "execution_count": null,
   "id": "6c9490eb",
   "metadata": {},
   "outputs": [],
   "source": [
    "df"
   ]
  },
  {
   "cell_type": "code",
   "execution_count": null,
   "id": "b6760f48",
   "metadata": {},
   "outputs": [],
   "source": []
  },
  {
   "cell_type": "markdown",
   "id": "aa61ec41",
   "metadata": {},
   "source": [
    "Q10: Write a python program to display list of 50 Most expensive cars in the world (i.e. \n",
    "Car name and Price) from https://www.motor1.com/\n",
    "This task will be done in following steps:\n",
    "1. First get the webpagehttps://www.motor1.com/\n",
    "2. Then You have to type in the search bar ’50 most expensive cars’\n",
    "3. Then click on 50 most expensive carsin the world..\n",
    "4. Then scrap the mentioned data and make the dataframe."
   ]
  },
  {
   "cell_type": "code",
   "execution_count": null,
   "id": "c287b7a0",
   "metadata": {},
   "outputs": [],
   "source": [
    "import selenium\n",
    "import pandas as pd\n",
    "from selenium import webdriver\n",
    "import warnings\n",
    "warnings.filterwarnings('ignore')\n",
    "from selenium.webdriver.common.by import By\n",
    "import time "
   ]
  },
  {
   "cell_type": "code",
   "execution_count": null,
   "id": "ad6baa94",
   "metadata": {},
   "outputs": [],
   "source": [
    "driver = webdriver.Chrome(r\"C:\\Users\\abhis\\Downloads\\chromedriver_win32\\chromedriver.exe\")"
   ]
  },
  {
   "cell_type": "code",
   "execution_count": null,
   "id": "cbbd5904",
   "metadata": {},
   "outputs": [],
   "source": [
    "driver = webdriver.Chrome(r\"chromedriver.exe\")"
   ]
  },
  {
   "cell_type": "code",
   "execution_count": null,
   "id": "02a52fd8",
   "metadata": {},
   "outputs": [],
   "source": [
    "driver.get(\"https://www.motor1.com/\")"
   ]
  },
  {
   "cell_type": "code",
   "execution_count": null,
   "id": "b73c17f9",
   "metadata": {},
   "outputs": [],
   "source": [
    "search_item = driver.find_element(By.XPATH,\"//input[@class='m1-search-panel-input m1-search-form-text']\")\n",
    "search_item.send_keys(\"50 most expensive cars\")"
   ]
  },
  {
   "cell_type": "code",
   "execution_count": null,
   "id": "8991eb2b",
   "metadata": {},
   "outputs": [],
   "source": [
    "search_button = driver.find_element(By.XPATH,'/html/body/div[3]/div[2]/div/div/div[3]/div/div/div/form/button[1]')\n",
    "search_button.click()"
   ]
  },
  {
   "cell_type": "code",
   "execution_count": null,
   "id": "27dc4caf",
   "metadata": {},
   "outputs": [],
   "source": [
    "Car_Name = []\n",
    "Price =[]"
   ]
  },
  {
   "cell_type": "code",
   "execution_count": null,
   "id": "3fbcc81f",
   "metadata": {},
   "outputs": [],
   "source": [
    "click_car = driver.find_element(By.XPATH,'/html/body/div[3]/div[9]/div/div[1]/div/div/div[2]/div/div[1]/h3')\n",
    "click_car.click()"
   ]
  },
  {
   "cell_type": "code",
   "execution_count": null,
   "id": "72ee8f93",
   "metadata": {},
   "outputs": [],
   "source": [
    "name_tags = driver.find_elements(By.XPATH,'//h3[@class=\"subheader\"]')\n",
    "for i in name_tags[0:50]:\n",
    "    name = i.text\n",
    "    Car_Name.append(name)"
   ]
  },
  {
   "cell_type": "code",
   "execution_count": null,
   "id": "cb8bd6e1",
   "metadata": {},
   "outputs": [],
   "source": [
    "Car_Name"
   ]
  },
  {
   "cell_type": "code",
   "execution_count": null,
   "id": "e4b4b35f",
   "metadata": {},
   "outputs": [],
   "source": [
    "price_tags = driver.find_elements(By.XPATH, '//p/strong')\n",
    "for i in price_tags[0:50]:\n",
    "    price = i.text\n",
    "    Price.append(price)"
   ]
  },
  {
   "cell_type": "code",
   "execution_count": null,
   "id": "6f182590",
   "metadata": {},
   "outputs": [],
   "source": [
    "Price"
   ]
  },
  {
   "cell_type": "code",
   "execution_count": null,
   "id": "862e36cf",
   "metadata": {},
   "outputs": [],
   "source": [
    "len(Car_Name),len(Price)"
   ]
  },
  {
   "cell_type": "code",
   "execution_count": null,
   "id": "fdc037bd",
   "metadata": {},
   "outputs": [],
   "source": [
    "df = pd.DataFrame({\"Car Name\":Car_Name,\"Car Price\":Price})\n",
    "df"
   ]
  }
 ],
 "metadata": {
  "kernelspec": {
   "display_name": "Python 3 (ipykernel)",
   "language": "python",
   "name": "python3"
  },
  "language_info": {
   "codemirror_mode": {
    "name": "ipython",
    "version": 3
   },
   "file_extension": ".py",
   "mimetype": "text/x-python",
   "name": "python",
   "nbconvert_exporter": "python",
   "pygments_lexer": "ipython3",
   "version": "3.9.13"
  }
 },
 "nbformat": 4,
 "nbformat_minor": 5
}
