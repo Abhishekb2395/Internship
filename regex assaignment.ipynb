{
 "cells": [
  {
   "cell_type": "raw",
   "id": "252c145b",
   "metadata": {},
   "source": [
    "Question 1- Write a Python program to check that a string contains only a certain set of characters (in this case a-z, A-Z and 0-9)."
   ]
  },
  {
   "cell_type": "code",
   "execution_count": 1,
   "id": "06ae44a2",
   "metadata": {},
   "outputs": [],
   "source": [
    "import regex as re"
   ]
  },
  {
   "cell_type": "code",
   "execution_count": 2,
   "id": "b99cc0fd",
   "metadata": {},
   "outputs": [
    {
     "data": {
      "text/plain": [
       "['V',\n",
       " 'i',\n",
       " 'r',\n",
       " 'a',\n",
       " 't',\n",
       " 'K',\n",
       " 'o',\n",
       " 'h',\n",
       " 'l',\n",
       " 'i',\n",
       " 'S',\n",
       " 'c',\n",
       " 'o',\n",
       " 'r',\n",
       " 'e',\n",
       " 'd',\n",
       " '9',\n",
       " '0',\n",
       " 'i',\n",
       " 'n',\n",
       " 'h',\n",
       " 'i',\n",
       " 's',\n",
       " '1',\n",
       " '0',\n",
       " '0',\n",
       " 't',\n",
       " 'h',\n",
       " 'm',\n",
       " 'a',\n",
       " 't',\n",
       " 'c',\n",
       " 'h']"
      ]
     },
     "execution_count": 2,
     "metadata": {},
     "output_type": "execute_result"
    }
   ],
   "source": [
    "txt= \"Virat Kohli Scored 90 in his 100th match\"\n",
    "pattern = \"\\w\"\n",
    "x= re.findall(pattern,txt)\n",
    "x"
   ]
  },
  {
   "cell_type": "raw",
   "id": "319c90ea",
   "metadata": {},
   "source": [
    "Question 2- Create a function in python that matches a string that has an a followed by zero or more b's"
   ]
  },
  {
   "cell_type": "code",
   "execution_count": 3,
   "id": "85406e73",
   "metadata": {},
   "outputs": [
    {
     "name": "stdout",
     "output_type": "stream",
     "text": [
      "Help on package regex:\n",
      "\n",
      "NAME\n",
      "    regex - Support for regular expressions (RE).\n",
      "\n",
      "DESCRIPTION\n",
      "    This module provides regular expression matching operations similar to those\n",
      "    found in Perl. It supports both 8-bit and Unicode strings; both the pattern and\n",
      "    the strings being processed can contain null bytes and characters outside the\n",
      "    US ASCII range.\n",
      "    \n",
      "    Regular expressions can contain both special and ordinary characters. Most\n",
      "    ordinary characters, like \"A\", \"a\", or \"0\", are the simplest regular\n",
      "    expressions; they simply match themselves. You can concatenate ordinary\n",
      "    characters, so last matches the string 'last'.\n",
      "    \n",
      "    There are a few differences between the old (legacy) behaviour and the new\n",
      "    (enhanced) behaviour, which are indicated by VERSION0 or VERSION1.\n",
      "    \n",
      "    The special characters are:\n",
      "        \".\"                 Matches any character except a newline.\n",
      "        \"^\"                 Matches the start of the string.\n",
      "        \"$\"                 Matches the end of the string or just before the\n",
      "                            newline at the end of the string.\n",
      "        \"*\"                 Matches 0 or more (greedy) repetitions of the preceding\n",
      "                            RE. Greedy means that it will match as many repetitions\n",
      "                            as possible.\n",
      "        \"+\"                 Matches 1 or more (greedy) repetitions of the preceding\n",
      "                            RE.\n",
      "        \"?\"                 Matches 0 or 1 (greedy) of the preceding RE.\n",
      "        *?,+?,??            Non-greedy versions of the previous three special\n",
      "                            characters.\n",
      "        *+,++,?+            Possessive versions of the previous three special\n",
      "                            characters.\n",
      "        {m,n}               Matches from m to n repetitions of the preceding RE.\n",
      "        {m,n}?              Non-greedy version of the above.\n",
      "        {m,n}+              Possessive version of the above.\n",
      "        {...}               Fuzzy matching constraints.\n",
      "        \"\\\\\"                Either escapes special characters or signals a special\n",
      "                            sequence.\n",
      "        [...]               Indicates a set of characters. A \"^\" as the first\n",
      "                            character indicates a complementing set.\n",
      "        \"|\"                 A|B, creates an RE that will match either A or B.\n",
      "        (...)               Matches the RE inside the parentheses. The contents are\n",
      "                            captured and can be retrieved or matched later in the\n",
      "                            string.\n",
      "        (?flags-flags)      VERSION1: Sets/clears the flags for the remainder of\n",
      "                            the group or pattern; VERSION0: Sets the flags for the\n",
      "                            entire pattern.\n",
      "        (?:...)             Non-capturing version of regular parentheses.\n",
      "        (?>...)             Atomic non-capturing version of regular parentheses.\n",
      "        (?flags-flags:...)  Non-capturing version of regular parentheses with local\n",
      "                            flags.\n",
      "        (?P<name>...)       The substring matched by the group is accessible by\n",
      "                            name.\n",
      "        (?<name>...)        The substring matched by the group is accessible by\n",
      "                            name.\n",
      "        (?P=name)           Matches the text matched earlier by the group named\n",
      "                            name.\n",
      "        (?#...)             A comment; ignored.\n",
      "        (?=...)             Matches if ... matches next, but doesn't consume the\n",
      "                            string.\n",
      "        (?!...)             Matches if ... doesn't match next.\n",
      "        (?<=...)            Matches if preceded by ....\n",
      "        (?<!...)            Matches if not preceded by ....\n",
      "        (?(id)yes|no)       Matches yes pattern if group id matched, the (optional)\n",
      "                            no pattern otherwise.\n",
      "        (?(DEFINE)...)      If there's no group called \"DEFINE\", then ... will be\n",
      "                            ignored, but any group definitions will be available.\n",
      "        (?|...|...)         (?|A|B), creates an RE that will match either A or B,\n",
      "                            but reuses capture group numbers across the\n",
      "                            alternatives.\n",
      "        (*FAIL)             Forces matching to fail, which means immediate\n",
      "                            backtracking.\n",
      "        (*F)                Abbreviation for (*FAIL).\n",
      "        (*PRUNE)            Discards the current backtracking information. Its\n",
      "                            effect doesn't extend outside an atomic group or a\n",
      "                            lookaround.\n",
      "        (*SKIP)             Similar to (*PRUNE), except that it also sets where in\n",
      "                            the text the next attempt at matching the entire\n",
      "                            pattern will start. Its effect doesn't extend outside\n",
      "                            an atomic group or a lookaround.\n",
      "    \n",
      "    The fuzzy matching constraints are: \"i\" to permit insertions, \"d\" to permit\n",
      "    deletions, \"s\" to permit substitutions, \"e\" to permit any of these. Limits are\n",
      "    optional with \"<=\" and \"<\". If any type of error is provided then any type not\n",
      "    provided is not permitted.\n",
      "    \n",
      "    A cost equation may be provided.\n",
      "    \n",
      "    Examples:\n",
      "        (?:fuzzy){i<=2}\n",
      "        (?:fuzzy){i<=1,s<=2,d<=1,1i+1s+1d<3}\n",
      "    \n",
      "    VERSION1: Set operators are supported, and a set can include nested sets. The\n",
      "    set operators, in order of increasing precedence, are:\n",
      "        ||  Set union (\"x||y\" means \"x or y\").\n",
      "        ~~  (double tilde) Symmetric set difference (\"x~~y\" means \"x or y, but not\n",
      "            both\").\n",
      "        &&  Set intersection (\"x&&y\" means \"x and y\").\n",
      "        --  (double dash) Set difference (\"x--y\" means \"x but not y\").\n",
      "    \n",
      "    Implicit union, ie, simple juxtaposition like in [ab], has the highest\n",
      "    precedence.\n",
      "    \n",
      "    VERSION0 and VERSION1:\n",
      "    The special sequences consist of \"\\\\\" and a character from the list below. If\n",
      "    the ordinary character is not on the list, then the resulting RE will match the\n",
      "    second character.\n",
      "        \\number         Matches the contents of the group of the same number if\n",
      "                        number is no more than 2 digits, otherwise the character\n",
      "                        with the 3-digit octal code.\n",
      "        \\a              Matches the bell character.\n",
      "        \\A              Matches only at the start of the string.\n",
      "        \\b              Matches the empty string, but only at the start or end of a\n",
      "                        word.\n",
      "        \\B              Matches the empty string, but not at the start or end of a\n",
      "                        word.\n",
      "        \\d              Matches any decimal digit; equivalent to the set [0-9] when\n",
      "                        matching a bytestring or a Unicode string with the ASCII\n",
      "                        flag, or the whole range of Unicode digits when matching a\n",
      "                        Unicode string.\n",
      "        \\D              Matches any non-digit character; equivalent to [^\\d].\n",
      "        \\f              Matches the formfeed character.\n",
      "        \\g<name>        Matches the text matched by the group named name.\n",
      "        \\G              Matches the empty string, but only at the position where\n",
      "                        the search started.\n",
      "        \\h              Matches horizontal whitespace.\n",
      "        \\K              Keeps only what follows for the entire match.\n",
      "        \\L<name>        Named list. The list is provided as a keyword argument.\n",
      "        \\m              Matches the empty string, but only at the start of a word.\n",
      "        \\M              Matches the empty string, but only at the end of a word.\n",
      "        \\n              Matches the newline character.\n",
      "        \\N{name}        Matches the named character.\n",
      "        \\p{name=value}  Matches the character if its property has the specified\n",
      "                        value.\n",
      "        \\P{name=value}  Matches the character if its property hasn't the specified\n",
      "                        value.\n",
      "        \\r              Matches the carriage-return character.\n",
      "        \\s              Matches any whitespace character; equivalent to\n",
      "                        [ \\t\\n\\r\\f\\v].\n",
      "        \\S              Matches any non-whitespace character; equivalent to [^\\s].\n",
      "        \\t              Matches the tab character.\n",
      "        \\uXXXX          Matches the Unicode codepoint with 4-digit hex code XXXX.\n",
      "        \\UXXXXXXXX      Matches the Unicode codepoint with 8-digit hex code\n",
      "                        XXXXXXXX.\n",
      "        \\v              Matches the vertical tab character.\n",
      "        \\w              Matches any alphanumeric character; equivalent to\n",
      "                        [a-zA-Z0-9_] when matching a bytestring or a Unicode string\n",
      "                        with the ASCII flag, or the whole range of Unicode\n",
      "                        alphanumeric characters (letters plus digits plus\n",
      "                        underscore) when matching a Unicode string. With LOCALE, it\n",
      "                        will match the set [0-9_] plus characters defined as\n",
      "                        letters for the current locale.\n",
      "        \\W              Matches the complement of \\w; equivalent to [^\\w].\n",
      "        \\xXX            Matches the character with 2-digit hex code XX.\n",
      "        \\X              Matches a grapheme.\n",
      "        \\Z              Matches only at the end of the string.\n",
      "        \\\\              Matches a literal backslash.\n",
      "    \n",
      "    This module exports the following functions:\n",
      "        match      Match a regular expression pattern at the beginning of a string.\n",
      "        fullmatch  Match a regular expression pattern against all of a string.\n",
      "        search     Search a string for the presence of a pattern.\n",
      "        sub        Substitute occurrences of a pattern found in a string using a\n",
      "                   template string.\n",
      "        subf       Substitute occurrences of a pattern found in a string using a\n",
      "                   format string.\n",
      "        subn       Same as sub, but also return the number of substitutions made.\n",
      "        subfn      Same as subf, but also return the number of substitutions made.\n",
      "        split      Split a string by the occurrences of a pattern. VERSION1: will\n",
      "                   split at zero-width match; VERSION0: won't split at zero-width\n",
      "                   match.\n",
      "        splititer  Return an iterator yielding the parts of a split string.\n",
      "        findall    Find all occurrences of a pattern in a string.\n",
      "        finditer   Return an iterator yielding a match object for each match.\n",
      "        compile    Compile a pattern into a Pattern object.\n",
      "        purge      Clear the regular expression cache.\n",
      "        escape     Backslash all non-alphanumerics or special characters in a\n",
      "                   string.\n",
      "    \n",
      "    Most of the functions support a concurrent parameter: if True, the GIL will be\n",
      "    released during matching, allowing other Python threads to run concurrently. If\n",
      "    the string changes during matching, the behaviour is undefined. This parameter\n",
      "    is not needed when working on the builtin (immutable) string classes.\n",
      "    \n",
      "    Some of the functions in this module take flags as optional parameters. Most of\n",
      "    these flags can also be set within an RE:\n",
      "        A   a   ASCII         Make \\w, \\W, \\b, \\B, \\d, and \\D match the\n",
      "                              corresponding ASCII character categories. Default\n",
      "                              when matching a bytestring.\n",
      "        B   b   BESTMATCH     Find the best fuzzy match (default is first).\n",
      "        D       DEBUG         Print the parsed pattern.\n",
      "        E   e   ENHANCEMATCH  Attempt to improve the fit after finding the first\n",
      "                              fuzzy match.\n",
      "        F   f   FULLCASE      Use full case-folding when performing\n",
      "                              case-insensitive matching in Unicode.\n",
      "        I   i   IGNORECASE    Perform case-insensitive matching.\n",
      "        L   L   LOCALE        Make \\w, \\W, \\b, \\B, \\d, and \\D dependent on the\n",
      "                              current locale. (One byte per character only.)\n",
      "        M   m   MULTILINE     \"^\" matches the beginning of lines (after a newline)\n",
      "                              as well as the string. \"$\" matches the end of lines\n",
      "                              (before a newline) as well as the end of the string.\n",
      "        P   p   POSIX         Perform POSIX-standard matching (leftmost longest).\n",
      "        R   r   REVERSE       Searches backwards.\n",
      "        S   s   DOTALL        \".\" matches any character at all, including the\n",
      "                              newline.\n",
      "        U   u   UNICODE       Make \\w, \\W, \\b, \\B, \\d, and \\D dependent on the\n",
      "                              Unicode locale. Default when matching a Unicode\n",
      "                              string.\n",
      "        V0  V0  VERSION0      Turn on the old legacy behaviour.\n",
      "        V1  V1  VERSION1      Turn on the new enhanced behaviour. This flag\n",
      "                              includes the FULLCASE flag.\n",
      "        W   w   WORD          Make \\b and \\B work with default Unicode word breaks\n",
      "                              and make \".\", \"^\" and \"$\" work with Unicode line\n",
      "                              breaks.\n",
      "        X   x   VERBOSE       Ignore whitespace and comments for nicer looking REs.\n",
      "    \n",
      "    This module also defines an exception 'error'.\n",
      "\n",
      "PACKAGE CONTENTS\n",
      "    _regex\n",
      "    _regex_core\n",
      "    regex\n",
      "    test_regex\n",
      "\n",
      "CLASSES\n",
      "    builtins.Exception(builtins.BaseException)\n",
      "        regex._regex_core.error\n",
      "    builtins.object\n",
      "        _regex.Match\n",
      "        _regex.Pattern\n",
      "        regex._regex_core.Scanner\n",
      "    enum.IntFlag(builtins.int, enum.Flag)\n",
      "        regex._regex_core.RegexFlag\n",
      "    \n",
      "    class Match(builtins.object)\n",
      "     |  Match object\n",
      "     |  \n",
      "     |  Methods defined here:\n",
      "     |  \n",
      "     |  __copy__(...)\n",
      "     |  \n",
      "     |  __deepcopy__(...)\n",
      "     |  \n",
      "     |  __getitem__(...)\n",
      "     |  \n",
      "     |  __len__(self, /)\n",
      "     |      Return len(self).\n",
      "     |  \n",
      "     |  __repr__(self, /)\n",
      "     |      Return repr(self).\n",
      "     |  \n",
      "     |  captures(...)\n",
      "     |      captures([group1, ...]) --> list of strings or tuple of list of strings.\n",
      "     |      Return the captures of one or more subgroups of the match.  If there is a\n",
      "     |      single argument, the result is a list of strings; if there are multiple\n",
      "     |      arguments, the result is a tuple of lists with one item per argument; if\n",
      "     |      there are no arguments, the captures of the whole match is returned.  Group\n",
      "     |      0 is the whole match.\n",
      "     |  \n",
      "     |  capturesdict(...)\n",
      "     |      capturesdict() --> dict.\n",
      "     |      Return a dictionary containing the captures of all the named subgroups of the\n",
      "     |      match, keyed by the subgroup name.\n",
      "     |  \n",
      "     |  detach_string(...)\n",
      "     |      detach_string()\n",
      "     |      Detaches the target string from the match object. The 'string' attribute\n",
      "     |      will become None.\n",
      "     |  \n",
      "     |  end(...)\n",
      "     |      end([group1, ...]) --> int or tuple of ints.\n",
      "     |      Return the index of the end of one or more subgroups of the match.  If there\n",
      "     |      is a single argument, the result is an index, or -1 if the group did not\n",
      "     |      contribute to the match; if there are multiple arguments, the result is a\n",
      "     |      tuple with one item per argument; if there are no arguments, the index of\n",
      "     |      the end of the whole match is returned.  Group 0 is the whole match.\n",
      "     |  \n",
      "     |  ends(...)\n",
      "     |      ends([group1, ...]) --> list of ints or tuple of list of ints.\n",
      "     |      Return the indices of the ends of the captures of one or more subgroups of\n",
      "     |      the match.  If there is a single argument, the result is a list of indices;\n",
      "     |      if there are multiple arguments, the result is a tuple of lists with one\n",
      "     |      item per argument; if there are no arguments, the indices of the ends of the\n",
      "     |      captures of the whole match is returned.  Group 0 is the whole match.\n",
      "     |  \n",
      "     |  expand(...)\n",
      "     |      expand(template) --> string.\n",
      "     |      Return the string obtained by doing backslash substitution on the template,\n",
      "     |      as done by the sub() method.\n",
      "     |  \n",
      "     |  expandf(...)\n",
      "     |      expandf(format) --> string.\n",
      "     |      Return the string obtained by using the format, as done by the subf()\n",
      "     |      method.\n",
      "     |  \n",
      "     |  group(...)\n",
      "     |      group([group1, ...]) --> string or tuple of strings.\n",
      "     |      Return one or more subgroups of the match.  If there is a single argument,\n",
      "     |      the result is a single string, or None if the group did not contribute to\n",
      "     |      the match; if there are multiple arguments, the result is a tuple with one\n",
      "     |      item per argument; if there are no arguments, the whole match is returned.\n",
      "     |      Group 0 is the whole match.\n",
      "     |  \n",
      "     |  groupdict(...)\n",
      "     |      groupdict(default=None) --> dict.\n",
      "     |      Return a dictionary containing all the named subgroups of the match, keyed\n",
      "     |      by the subgroup name.  The argument is the value to be given for groups that\n",
      "     |      did not participate in the match.\n",
      "     |  \n",
      "     |  groups(...)\n",
      "     |      groups(default=None) --> tuple of strings.\n",
      "     |      Return a tuple containing all the subgroups of the match.  The argument is\n",
      "     |      the default for groups that did not participate in the match.\n",
      "     |  \n",
      "     |  span(...)\n",
      "     |      span([group1, ...]) --> 2-tuple of int or tuple of 2-tuple of ints.\n",
      "     |      Return the span (a 2-tuple of the indices of the start and end) of one or\n",
      "     |      more subgroups of the match.  If there is a single argument, the result is a\n",
      "     |      span, or (-1, -1) if the group did not contribute to the match; if there are\n",
      "     |      multiple arguments, the result is a tuple with one item per argument; if\n",
      "     |      there are no arguments, the span of the whole match is returned.  Group 0 is\n",
      "     |      the whole match.\n",
      "     |  \n",
      "     |  spans(...)\n",
      "     |      spans([group1, ...]) --> list of 2-tuple of ints or tuple of list of 2-tuple of ints.\n",
      "     |      Return the spans (a 2-tuple of the indices of the start and end) of the\n",
      "     |      captures of one or more subgroups of the match.  If there is a single\n",
      "     |      argument, the result is a list of spans; if there are multiple arguments,\n",
      "     |      the result is a tuple of lists with one item per argument; if there are no\n",
      "     |      arguments, the spans of the captures of the whole match is returned.  Group\n",
      "     |      0 is the whole match.\n",
      "     |  \n",
      "     |  start(...)\n",
      "     |      start([group1, ...]) --> int or tuple of ints.\n",
      "     |      Return the index of the start of one or more subgroups of the match.  If\n",
      "     |      there is a single argument, the result is an index, or -1 if the group did\n",
      "     |      not contribute to the match; if there are multiple arguments, the result is\n",
      "     |      a tuple with one item per argument; if there are no arguments, the index of\n",
      "     |      the start of the whole match is returned.  Group 0 is the whole match.\n",
      "     |  \n",
      "     |  starts(...)\n",
      "     |      starts([group1, ...]) --> list of ints or tuple of list of ints.\n",
      "     |      Return the indices of the starts of the captures of one or more subgroups of\n",
      "     |      the match.  If there is a single argument, the result is a list of indices;\n",
      "     |      if there are multiple arguments, the result is a tuple of lists with one\n",
      "     |      item per argument; if there are no arguments, the indices of the starts of\n",
      "     |      the captures of the whole match is returned.  Group 0 is the whole match.\n",
      "     |  \n",
      "     |  ----------------------------------------------------------------------\n",
      "     |  Class methods defined here:\n",
      "     |  \n",
      "     |  __class_getitem__(...) from builtins.type\n",
      "     |      See PEP 585\n",
      "     |  \n",
      "     |  ----------------------------------------------------------------------\n",
      "     |  Data descriptors defined here:\n",
      "     |  \n",
      "     |  endpos\n",
      "     |      The final position beyond which the regex engine won't search.\n",
      "     |  \n",
      "     |  fuzzy_changes\n",
      "     |      A tuple of the positions of the substitutions, insertions and deletions.\n",
      "     |  \n",
      "     |  fuzzy_counts\n",
      "     |      A tuple of the number of substitutions, insertions and deletions.\n",
      "     |  \n",
      "     |  lastgroup\n",
      "     |      The name of the last matched capturing group, or None.\n",
      "     |  \n",
      "     |  lastindex\n",
      "     |      The group number of the last matched capturing group, or None.\n",
      "     |  \n",
      "     |  partial\n",
      "     |      Whether it's a partial match.\n",
      "     |  \n",
      "     |  pos\n",
      "     |      The position at which the regex engine starting searching.\n",
      "     |  \n",
      "     |  re\n",
      "     |      The regex object that produced this match object.\n",
      "     |  \n",
      "     |  regs\n",
      "     |      A tuple of the spans of the capturing groups.\n",
      "     |  \n",
      "     |  string\n",
      "     |      The string that was searched, or None if it has been detached.\n",
      "    \n",
      "    class Pattern(builtins.object)\n",
      "     |  Compiled regex object\n",
      "     |  \n",
      "     |  Methods defined here:\n",
      "     |  \n",
      "     |  __copy__(...)\n",
      "     |  \n",
      "     |  __deepcopy__(...)\n",
      "     |  \n",
      "     |  __repr__(self, /)\n",
      "     |      Return repr(self).\n",
      "     |  \n",
      "     |  __sizeof__(...)\n",
      "     |      Size of object in memory, in bytes.\n",
      "     |  \n",
      "     |  findall(...)\n",
      "     |      findall(string, pos=None, endpos=None, overlapped=False, concurrent=None, timeout=None) --> list.\n",
      "     |      Return a list of all matches of pattern in string.  The matches may be\n",
      "     |      overlapped if overlapped is True.\n",
      "     |  \n",
      "     |  finditer(...)\n",
      "     |      finditer(string, pos=None, endpos=None, overlapped=False, concurrent=None, timeout=None) --> iterator.\n",
      "     |      Return an iterator over all matches for the RE pattern in string.  The\n",
      "     |      matches may be overlapped if overlapped is True.  For each match, the\n",
      "     |      iterator returns a MatchObject.\n",
      "     |  \n",
      "     |  fullmatch(...)\n",
      "     |      fullmatch(string, pos=None, endpos=None, concurrent=None, timeout=None) --> MatchObject or None.\n",
      "     |      Match zero or more characters against all of the string.\n",
      "     |  \n",
      "     |  match(...)\n",
      "     |      match(string, pos=None, endpos=None, concurrent=None, timeout=None) --> MatchObject or None.\n",
      "     |      Match zero or more characters at the beginning of the string.\n",
      "     |  \n",
      "     |  scanner(...)\n",
      "     |      scanner(string, pos=None, endpos=None, overlapped=False, concurrent=None, timeout=None) --> scanner.\n",
      "     |      Return an scanner for the RE pattern in string.  The matches may be overlapped\n",
      "     |      if overlapped is True.\n",
      "     |  \n",
      "     |  search(...)\n",
      "     |      search(string, pos=None, endpos=None, concurrent=None, timeout=None) --> MatchObject or None.\n",
      "     |      Search through string looking for a match, and return a corresponding\n",
      "     |      match object instance.  Return None if no match is found.\n",
      "     |  \n",
      "     |  split(...)\n",
      "     |      split(string, maxsplit=0, concurrent=None, timeout=None) --> list.\n",
      "     |      Split string by the occurrences of pattern.\n",
      "     |  \n",
      "     |  splititer(...)\n",
      "     |      splititer(string, maxsplit=0, concurrent=None, timeout=None) --> iterator.\n",
      "     |      Return an iterator yielding the parts of a split string.\n",
      "     |  \n",
      "     |  sub(...)\n",
      "     |      sub(repl, string, count=0, flags=0, pos=None, endpos=None, concurrent=None, timeout=None) --> newstring\n",
      "     |      Return the string obtained by replacing the leftmost (or rightmost with a\n",
      "     |      reverse pattern) non-overlapping occurrences of pattern in string by the\n",
      "     |      replacement repl.\n",
      "     |  \n",
      "     |  subf(...)\n",
      "     |      subf(format, string, count=0, flags=0, pos=None, endpos=None, concurrent=None, timeout=None) --> newstring\n",
      "     |      Return the string obtained by replacing the leftmost (or rightmost with a\n",
      "     |      reverse pattern) non-overlapping occurrences of pattern in string by the\n",
      "     |      replacement format.\n",
      "     |  \n",
      "     |  subfn(...)\n",
      "     |      subfn(format, string, count=0, flags=0, pos=None, endpos=None, concurrent=None, timeout=None) --> (newstring, number of subs)\n",
      "     |      Return the tuple (new_string, number_of_subs_made) found by replacing the\n",
      "     |      leftmost (or rightmost with a reverse pattern) non-overlapping occurrences\n",
      "     |      of pattern with the replacement format.\n",
      "     |  \n",
      "     |  subn(...)\n",
      "     |      subn(repl, string, count=0, flags=0, pos=None, endpos=None, concurrent=None, timeout=None) --> (newstring, number of subs)\n",
      "     |      Return the tuple (new_string, number_of_subs_made) found by replacing the\n",
      "     |      leftmost (or rightmost with a reverse pattern) non-overlapping occurrences\n",
      "     |      of pattern with the replacement repl.\n",
      "     |  \n",
      "     |  ----------------------------------------------------------------------\n",
      "     |  Class methods defined here:\n",
      "     |  \n",
      "     |  __class_getitem__(...) from builtins.type\n",
      "     |      See PEP 585\n",
      "     |  \n",
      "     |  ----------------------------------------------------------------------\n",
      "     |  Data descriptors defined here:\n",
      "     |  \n",
      "     |  flags\n",
      "     |      The regex matching flags.\n",
      "     |  \n",
      "     |  groupindex\n",
      "     |      A dictionary mapping group names to group numbers.\n",
      "     |  \n",
      "     |  groups\n",
      "     |      The number of capturing groups in the pattern.\n",
      "     |  \n",
      "     |  named_lists\n",
      "     |      The named lists used by the regex.\n",
      "     |  \n",
      "     |  pattern\n",
      "     |      The pattern string from which the regex object was compiled.\n",
      "    \n",
      "    class RegexFlag(enum.IntFlag)\n",
      "     |  RegexFlag(value, names=None, *, module=None, qualname=None, type=None, start=1)\n",
      "     |  \n",
      "     |  An enumeration.\n",
      "     |  \n",
      "     |  Method resolution order:\n",
      "     |      RegexFlag\n",
      "     |      enum.IntFlag\n",
      "     |      builtins.int\n",
      "     |      enum.Flag\n",
      "     |      enum.Enum\n",
      "     |      builtins.object\n",
      "     |  \n",
      "     |  Data and other attributes defined here:\n",
      "     |  \n",
      "     |  A = regex.A\n",
      "     |  \n",
      "     |  B = regex.B\n",
      "     |  \n",
      "     |  D = regex.D\n",
      "     |  \n",
      "     |  E = regex.E\n",
      "     |  \n",
      "     |  F = regex.F\n",
      "     |  \n",
      "     |  I = regex.I\n",
      "     |  \n",
      "     |  L = regex.L\n",
      "     |  \n",
      "     |  M = regex.M\n",
      "     |  \n",
      "     |  P = regex.P\n",
      "     |  \n",
      "     |  R = regex.R\n",
      "     |  \n",
      "     |  S = regex.S\n",
      "     |  \n",
      "     |  T = regex.T\n",
      "     |  \n",
      "     |  U = regex.U\n",
      "     |  \n",
      "     |  V0 = regex.V0\n",
      "     |  \n",
      "     |  V1 = regex.V1\n",
      "     |  \n",
      "     |  W = regex.W\n",
      "     |  \n",
      "     |  X = regex.X\n",
      "     |  \n",
      "     |  ----------------------------------------------------------------------\n",
      "     |  Data descriptors inherited from enum.Enum:\n",
      "     |  \n",
      "     |  name\n",
      "     |      The name of the Enum member.\n",
      "     |  \n",
      "     |  value\n",
      "     |      The value of the Enum member.\n",
      "     |  \n",
      "     |  ----------------------------------------------------------------------\n",
      "     |  Readonly properties inherited from enum.EnumMeta:\n",
      "     |  \n",
      "     |  __members__\n",
      "     |      Returns a mapping of member name->value.\n",
      "     |      \n",
      "     |      This mapping lists all enum members, including aliases. Note that this\n",
      "     |      is a read-only view of the internal mapping.\n",
      "    \n",
      "    class Scanner(builtins.object)\n",
      "     |  Scanner(lexicon, flags=0)\n",
      "     |  \n",
      "     |  Methods defined here:\n",
      "     |  \n",
      "     |  __init__(self, lexicon, flags=0)\n",
      "     |      Initialize self.  See help(type(self)) for accurate signature.\n",
      "     |  \n",
      "     |  scan(self, string)\n",
      "     |  \n",
      "     |  ----------------------------------------------------------------------\n",
      "     |  Data descriptors defined here:\n",
      "     |  \n",
      "     |  __dict__\n",
      "     |      dictionary for instance variables (if defined)\n",
      "     |  \n",
      "     |  __weakref__\n",
      "     |      list of weak references to the object (if defined)\n",
      "    \n",
      "    class error(builtins.Exception)\n",
      "     |  error(message, pattern=None, pos=None)\n",
      "     |  \n",
      "     |  Exception raised for invalid regular expressions.\n",
      "     |  \n",
      "     |  Attributes:\n",
      "     |  \n",
      "     |      msg: The unformatted error message\n",
      "     |      pattern: The regular expression pattern\n",
      "     |      pos: The position in the pattern where compilation failed, or None\n",
      "     |      lineno: The line number where compilation failed, unless pos is None\n",
      "     |      colno: The column number where compilation failed, unless pos is None\n",
      "     |  \n",
      "     |  Method resolution order:\n",
      "     |      error\n",
      "     |      builtins.Exception\n",
      "     |      builtins.BaseException\n",
      "     |      builtins.object\n",
      "     |  \n",
      "     |  Methods defined here:\n",
      "     |  \n",
      "     |  __init__(self, message, pattern=None, pos=None)\n",
      "     |      Initialize self.  See help(type(self)) for accurate signature.\n",
      "     |  \n",
      "     |  ----------------------------------------------------------------------\n",
      "     |  Data descriptors defined here:\n",
      "     |  \n",
      "     |  __weakref__\n",
      "     |      list of weak references to the object (if defined)\n",
      "     |  \n",
      "     |  ----------------------------------------------------------------------\n",
      "     |  Static methods inherited from builtins.Exception:\n",
      "     |  \n",
      "     |  __new__(*args, **kwargs) from builtins.type\n",
      "     |      Create and return a new object.  See help(type) for accurate signature.\n",
      "     |  \n",
      "     |  ----------------------------------------------------------------------\n",
      "     |  Methods inherited from builtins.BaseException:\n",
      "     |  \n",
      "     |  __delattr__(self, name, /)\n",
      "     |      Implement delattr(self, name).\n",
      "     |  \n",
      "     |  __getattribute__(self, name, /)\n",
      "     |      Return getattr(self, name).\n",
      "     |  \n",
      "     |  __reduce__(...)\n",
      "     |      Helper for pickle.\n",
      "     |  \n",
      "     |  __repr__(self, /)\n",
      "     |      Return repr(self).\n",
      "     |  \n",
      "     |  __setattr__(self, name, value, /)\n",
      "     |      Implement setattr(self, name, value).\n",
      "     |  \n",
      "     |  __setstate__(...)\n",
      "     |  \n",
      "     |  __str__(self, /)\n",
      "     |      Return str(self).\n",
      "     |  \n",
      "     |  with_traceback(...)\n",
      "     |      Exception.with_traceback(tb) --\n",
      "     |      set self.__traceback__ to tb and return self.\n",
      "     |  \n",
      "     |  ----------------------------------------------------------------------\n",
      "     |  Data descriptors inherited from builtins.BaseException:\n",
      "     |  \n",
      "     |  __cause__\n",
      "     |      exception cause\n",
      "     |  \n",
      "     |  __context__\n",
      "     |      exception context\n",
      "     |  \n",
      "     |  __dict__\n",
      "     |  \n",
      "     |  __suppress_context__\n",
      "     |  \n",
      "     |  __traceback__\n",
      "     |  \n",
      "     |  args\n",
      "\n",
      "FUNCTIONS\n",
      "    Regex = compile(pattern, flags=0, ignore_unused=False, cache_pattern=None, **kwargs)\n",
      "        Compile a regular expression pattern, returning a pattern object.\n",
      "    \n",
      "    cache_all(value=True)\n",
      "        Sets whether to cache all patterns, even those are compiled explicitly.\n",
      "        Passing None has no effect, but returns the current setting.\n",
      "    \n",
      "    compile(pattern, flags=0, ignore_unused=False, cache_pattern=None, **kwargs)\n",
      "        Compile a regular expression pattern, returning a pattern object.\n",
      "    \n",
      "    escape(pattern, special_only=True, literal_spaces=False)\n",
      "        Escape a string for use as a literal in a pattern. If special_only is\n",
      "        True, escape only special characters, else escape all non-alphanumeric\n",
      "        characters. If literal_spaces is True, don't escape spaces.\n",
      "    \n",
      "    findall(pattern, string, flags=0, pos=None, endpos=None, overlapped=False, concurrent=None, timeout=None, ignore_unused=False, **kwargs)\n",
      "        Return a list of all matches in the string. The matches may be overlapped\n",
      "        if overlapped is True. If one or more groups are present in the pattern,\n",
      "        return a list of groups; this will be a list of tuples if the pattern has\n",
      "        more than one group. Empty matches are included in the result.\n",
      "    \n",
      "    finditer(pattern, string, flags=0, pos=None, endpos=None, overlapped=False, partial=False, concurrent=None, timeout=None, ignore_unused=False, **kwargs)\n",
      "        Return an iterator over all matches in the string. The matches may be\n",
      "        overlapped if overlapped is True. For each match, the iterator returns a\n",
      "        match object. Empty matches are included in the result.\n",
      "    \n",
      "    fullmatch(pattern, string, flags=0, pos=None, endpos=None, partial=False, concurrent=None, timeout=None, ignore_unused=False, **kwargs)\n",
      "        Try to apply the pattern against all of the string, returning a match\n",
      "        object, or None if no match was found.\n",
      "    \n",
      "    match(pattern, string, flags=0, pos=None, endpos=None, partial=False, concurrent=None, timeout=None, ignore_unused=False, **kwargs)\n",
      "        Try to apply the pattern at the start of the string, returning a match\n",
      "        object, or None if no match was found.\n",
      "    \n",
      "    purge()\n",
      "        Clear the regular expression cache\n",
      "    \n",
      "    search(pattern, string, flags=0, pos=None, endpos=None, partial=False, concurrent=None, timeout=None, ignore_unused=False, **kwargs)\n",
      "        Search through string looking for a match to the pattern, returning a\n",
      "        match object, or None if no match was found.\n",
      "    \n",
      "    split(pattern, string, maxsplit=0, flags=0, concurrent=None, timeout=None, ignore_unused=False, **kwargs)\n",
      "        Split the source string by the occurrences of the pattern, returning a\n",
      "        list containing the resulting substrings.  If capturing parentheses are used\n",
      "        in pattern, then the text of all groups in the pattern are also returned as\n",
      "        part of the resulting list.  If maxsplit is nonzero, at most maxsplit splits\n",
      "        occur, and the remainder of the string is returned as the final element of\n",
      "        the list.\n",
      "    \n",
      "    splititer(pattern, string, maxsplit=0, flags=0, concurrent=None, timeout=None, ignore_unused=False, **kwargs)\n",
      "        Return an iterator yielding the parts of a split string.\n",
      "    \n",
      "    sub(pattern, repl, string, count=0, flags=0, pos=None, endpos=None, concurrent=None, timeout=None, ignore_unused=False, **kwargs)\n",
      "        Return the string obtained by replacing the leftmost (or rightmost with a\n",
      "        reverse pattern) non-overlapping occurrences of the pattern in string by the\n",
      "        replacement repl. repl can be either a string or a callable; if a string,\n",
      "        backslash escapes in it are processed; if a callable, it's passed the match\n",
      "        object and must return a replacement string to be used.\n",
      "    \n",
      "    subf(pattern, format, string, count=0, flags=0, pos=None, endpos=None, concurrent=None, timeout=None, ignore_unused=False, **kwargs)\n",
      "        Return the string obtained by replacing the leftmost (or rightmost with a\n",
      "        reverse pattern) non-overlapping occurrences of the pattern in string by the\n",
      "        replacement format. format can be either a string or a callable; if a string,\n",
      "        it's treated as a format string; if a callable, it's passed the match object\n",
      "        and must return a replacement string to be used.\n",
      "    \n",
      "    subfn(pattern, format, string, count=0, flags=0, pos=None, endpos=None, concurrent=None, timeout=None, ignore_unused=False, **kwargs)\n",
      "        Return a 2-tuple containing (new_string, number). new_string is the string\n",
      "        obtained by replacing the leftmost (or rightmost with a reverse pattern)\n",
      "        non-overlapping occurrences of the pattern in the source string by the\n",
      "        replacement format. number is the number of substitutions that were made. format\n",
      "        can be either a string or a callable; if a string, it's treated as a format\n",
      "        string; if a callable, it's passed the match object and must return a\n",
      "        replacement string to be used.\n",
      "    \n",
      "    subn(pattern, repl, string, count=0, flags=0, pos=None, endpos=None, concurrent=None, timeout=None, ignore_unused=False, **kwargs)\n",
      "        Return a 2-tuple containing (new_string, number). new_string is the string\n",
      "        obtained by replacing the leftmost (or rightmost with a reverse pattern)\n",
      "        non-overlapping occurrences of the pattern in the source string by the\n",
      "        replacement repl. number is the number of substitutions that were made. repl\n",
      "        can be either a string or a callable; if a string, backslash escapes in it\n",
      "        are processed; if a callable, it's passed the match object and must return a\n",
      "        replacement string to be used.\n",
      "    \n",
      "    template(pattern, flags=0)\n",
      "        Compile a template pattern, returning a pattern object.\n",
      "\n",
      "DATA\n",
      "    A = regex.A\n",
      "    ASCII = regex.A\n",
      "    B = regex.B\n",
      "    BESTMATCH = regex.B\n",
      "    D = regex.D\n",
      "    DEBUG = regex.D\n",
      "    DEFAULT_VERSION = regex.V0\n",
      "    DOTALL = regex.S\n",
      "    E = regex.E\n",
      "    ENHANCEMATCH = regex.E\n",
      "    F = regex.F\n",
      "    FULLCASE = regex.F\n",
      "    I = regex.I\n",
      "    IGNORECASE = regex.I\n",
      "    L = regex.L\n",
      "    LOCALE = regex.L\n",
      "    M = regex.M\n",
      "    MULTILINE = regex.M\n",
      "    P = regex.P\n",
      "    POSIX = regex.P\n",
      "    R = regex.R\n",
      "    REVERSE = regex.R\n",
      "    S = regex.S\n",
      "    T = regex.T\n",
      "    TEMPLATE = regex.T\n",
      "    U = regex.U\n",
      "    UNICODE = regex.U\n",
      "    V0 = regex.V0\n",
      "    V1 = regex.V1\n",
      "    VERBOSE = regex.X\n",
      "    VERSION0 = regex.V0\n",
      "    VERSION1 = regex.V1\n",
      "    W = regex.W\n",
      "    WORD = regex.W\n",
      "    X = regex.X\n",
      "    __all__ = ['cache_all', 'compile', 'DEFAULT_VERSION', 'escape', 'finda...\n",
      "\n",
      "VERSION\n",
      "    2.5.116\n",
      "\n",
      "FILE\n",
      "    c:\\users\\abhis\\anaconda3\\lib\\site-packages\\regex\\__init__.py\n",
      "\n",
      "\n"
     ]
    }
   ],
   "source": [
    "help(re)"
   ]
  },
  {
   "cell_type": "code",
   "execution_count": 4,
   "id": "d394d275",
   "metadata": {},
   "outputs": [
    {
     "name": "stdout",
     "output_type": "stream",
     "text": [
      "['', '', '', '', '', '', '', '', '', '', '', '', '', '', '', '', '', '', '', '', '', '', '', '', '', '', '', '', 'b', '', '', '', '', '', '', '', '', '', '', '', '', '', '', '', '', '', '', '', '', '', '', '', '', 'b', '', '', '', '', '', '', '', '', '', '', '', '', '', '', '', '', '', '', '', '', '', '', '', '', '', '', '', '', '', '', '', '', 'b', '', '', '', '', '', '', '', '', '', '', '', '', '', '', '', '', '', '', '', '', '', '', '', '', '', '', '', '', '', '', 'b', '', '', '', '', '', '', '', '', '', '', '', '', '', '', '', '', '', '', '', '', '', '', '', '']\n"
     ]
    }
   ],
   "source": [
    "pattern = \"b*\"\n",
    "text = \"There are a few differences between the old (legacy) behaviour and the new (enhanced) behaviour, which are indicated by VERSION0 or VERSION1.\"\n",
    "matches= re.findall(pattern,text)\n",
    "print(matches)"
   ]
  },
  {
   "cell_type": "raw",
   "id": "5b6838e9",
   "metadata": {},
   "source": [
    "Question 3-  Create a function in python that matches a string that has an a followed by one or more b's"
   ]
  },
  {
   "cell_type": "code",
   "execution_count": 5,
   "id": "1550d7e1",
   "metadata": {},
   "outputs": [
    {
     "name": "stdout",
     "output_type": "stream",
     "text": [
      "['b', 'b', 'b', 'b']\n"
     ]
    }
   ],
   "source": [
    "pattern = \"b+\"\n",
    "text = \"There are a few differences between the old (legacy) behaviour and the new (enhanced) behaviour, which are indicated by VERSION0 or VERSION1.\"\n",
    "matches= re.findall(pattern,text)\n",
    "print(matches)"
   ]
  },
  {
   "cell_type": "raw",
   "id": "e9cab7e2",
   "metadata": {},
   "source": [
    "Question 4- Create a function in Python and use RegEx that matches a string that has an a followed by zero or one 'b'."
   ]
  },
  {
   "cell_type": "code",
   "execution_count": 6,
   "id": "61391d83",
   "metadata": {},
   "outputs": [
    {
     "name": "stdout",
     "output_type": "stream",
     "text": [
      "['', '', '', '', '', '', '', '', '', '', '', '', '', '', '', '', '', '', '', '', '', '', '', '', '', '', '', '', 'b', '', '', '', '', '', '', '', '', '', '', '', '', '', '', '', '', '', '', '', '', '', '', '', '', 'b', '', '', '', '', '', '', '', '', '', '', '', '', '', '', '', '', '', '', '', '', '', '', '', '', '', '', '', '', '', '', '', '', 'b', '', '', '', '', '', '', '', '', '', '', '', '', '', '', '', '', '', '', '', '', '', '', '', '', '', '', '', '', '', '', 'b', '', '', '', '', '', '', '', '', '', '', '', '', '', '', '', '', '', '', '', '', '', '', '', '']\n"
     ]
    }
   ],
   "source": [
    "pattern = 'b?'\n",
    "text = \"There are a few differences between the old (legacy) behaviour and the new (enhanced) behaviour, which are indicated by VERSION0 or VERSION1.\"\n",
    "matches= re.findall(pattern,text)\n",
    "print(matches)"
   ]
  },
  {
   "cell_type": "raw",
   "id": "4dca7535",
   "metadata": {},
   "source": [
    "Question 5- Write a Python program that matches a string that has an a followed by three 'b'."
   ]
  },
  {
   "cell_type": "code",
   "execution_count": 7,
   "id": "484e640b",
   "metadata": {},
   "outputs": [
    {
     "name": "stdout",
     "output_type": "stream",
     "text": [
      "['bbb', 'bbb', 'bbb', 'bbb', 'bbb']\n"
     ]
    }
   ],
   "source": [
    "pattern = '[b]{3}'\n",
    "text = \"bbbbbbbbbbbbbbb\"\n",
    "matches= re.findall(pattern,text)\n",
    "print(matches)"
   ]
  },
  {
   "cell_type": "raw",
   "id": "67b1209c",
   "metadata": {},
   "source": [
    "Question 6- Write a regular expression in Python to split a string into uppercase letters.\n",
    "Sample text: “ImportanceOfRegularExpressionsInPython”\n",
    "Output: [‘Importance’, ‘Of’, ‘Regular’, ‘Expression’, ‘In’, ‘Python’]\n"
   ]
  },
  {
   "cell_type": "code",
   "execution_count": 8,
   "id": "990ad8f7",
   "metadata": {},
   "outputs": [
    {
     "data": {
      "text/plain": [
       "['Importance', 'Of', 'Regular', 'Expressions', 'In', 'Python']"
      ]
     },
     "execution_count": 8,
     "metadata": {},
     "output_type": "execute_result"
    }
   ],
   "source": [
    "txt = \"ImportanceOfRegularExpressionsInPython\"\n",
    "pattern = r\"[A-Z][a-z]+\"\n",
    "x = re.findall(pattern,txt)\n",
    "x"
   ]
  },
  {
   "cell_type": "raw",
   "id": "858c7133",
   "metadata": {},
   "source": [
    "Question 7- Write a Python program that matches a string that has an a followed by two to three 'b'."
   ]
  },
  {
   "cell_type": "code",
   "execution_count": 9,
   "id": "411c649d",
   "metadata": {},
   "outputs": [
    {
     "name": "stdout",
     "output_type": "stream",
     "text": [
      "['bbb', 'bb']\n"
     ]
    }
   ],
   "source": [
    "pattern = 'b{2,3}'\n",
    "text = \"bbbbb\"\n",
    "matches= re.findall(pattern,text)\n",
    "print(matches)"
   ]
  },
  {
   "cell_type": "raw",
   "id": "348d6fa0",
   "metadata": {},
   "source": [
    "Question 8- Write a Python program to find sequences of lowercase letters joined with a underscore."
   ]
  },
  {
   "cell_type": "code",
   "execution_count": 10,
   "id": "af792348",
   "metadata": {},
   "outputs": [
    {
     "data": {
      "text/plain": [
       "['importance_of', 'regular_expressions']"
      ]
     },
     "execution_count": 10,
     "metadata": {},
     "output_type": "execute_result"
    }
   ],
   "source": [
    "txt= \"importance_of regular_expressions in python\"\n",
    "pattern = '[a-z]+_[a-z]+'\n",
    "x= re.findall(pattern,txt)\n",
    "x"
   ]
  },
  {
   "cell_type": "raw",
   "id": "45ab1cff",
   "metadata": {},
   "source": [
    "Question 9- Write a Python program that matches a string that has an 'a' followed by anything, ending in 'b'."
   ]
  },
  {
   "cell_type": "code",
   "execution_count": 11,
   "id": "8ae308e3",
   "metadata": {},
   "outputs": [],
   "source": [
    "txt = 'My Name is abhishek'\n",
    "pattern = 'a.*b'\n",
    "x= re.findall(pattern,txt)\n"
   ]
  },
  {
   "cell_type": "raw",
   "id": "67daf5ab",
   "metadata": {},
   "source": [
    "Question 10- Write a Python program that matches a word at the beginning of a string."
   ]
  },
  {
   "cell_type": "code",
   "execution_count": 12,
   "id": "9a21cfdc",
   "metadata": {},
   "outputs": [
    {
     "data": {
      "text/plain": [
       "['importance']"
      ]
     },
     "execution_count": 12,
     "metadata": {},
     "output_type": "execute_result"
    }
   ],
   "source": [
    "txt= \"importance_of regular_expressions in python\"\n",
    "pattern = '^..........'\n",
    "x= re.findall(pattern,txt)\n",
    "x"
   ]
  },
  {
   "cell_type": "code",
   "execution_count": 13,
   "id": "c409211c",
   "metadata": {},
   "outputs": [
    {
     "name": "stdout",
     "output_type": "stream",
     "text": [
      "['Data Science']\n"
     ]
    }
   ],
   "source": [
    "pattern = \"^Data Science\"\n",
    "text = \"Data Science is a stream and it is a part of AI.You can solve many complex problem using Data Science tools and tech\"\n",
    "matches= re.findall(pattern,text)\n",
    "print(matches)"
   ]
  },
  {
   "cell_type": "raw",
   "id": "a458bb6b",
   "metadata": {},
   "source": [
    "Question 11- Write a Python program to match a string that contains only upper and lowercase letters, numbers, and underscores."
   ]
  },
  {
   "cell_type": "code",
   "execution_count": 14,
   "id": "cac85cd5",
   "metadata": {},
   "outputs": [
    {
     "data": {
      "text/plain": [
       "['A', 'b', 'h', 'i', 's', 'h', 'e', 'k', 'b', '2', '3', '9', '5', '_']"
      ]
     },
     "execution_count": 14,
     "metadata": {},
     "output_type": "execute_result"
    }
   ],
   "source": [
    "txt= \"Abhishekb2395 _\"\n",
    "pattern = \"\\w_*\"\n",
    "x= re.findall(pattern,txt)\n",
    "x"
   ]
  },
  {
   "cell_type": "raw",
   "id": "318f3c69",
   "metadata": {},
   "source": [
    "Question 12- Write a Python program where a string will start with a specific number."
   ]
  },
  {
   "cell_type": "code",
   "execution_count": 15,
   "id": "67f56e47",
   "metadata": {},
   "outputs": [
    {
     "data": {
      "text/plain": [
       "<regex.Match object; span=(0, 1), match='2'>"
      ]
     },
     "execution_count": 15,
     "metadata": {},
     "output_type": "execute_result"
    }
   ],
   "source": [
    "txt = \"299792458 m / s is the speed of light\"\n",
    "pattern = '\\s*[0-9]'\n",
    "x= re.search(pattern,txt)\n",
    "x"
   ]
  },
  {
   "cell_type": "raw",
   "id": "39967c75",
   "metadata": {},
   "source": [
    "Question 13- Write a Python program to remove leading zeros from an IP address"
   ]
  },
  {
   "cell_type": "code",
   "execution_count": 16,
   "id": "7e9ef0d5",
   "metadata": {},
   "outputs": [
    {
     "data": {
      "text/plain": [
       "'1.002.003.004'"
      ]
     },
     "execution_count": 16,
     "metadata": {},
     "output_type": "execute_result"
    }
   ],
   "source": [
    "txt = \"001.002.003.004\"\n",
    "x= re.sub(\"^0+\",'',txt)\n",
    "x"
   ]
  },
  {
   "cell_type": "raw",
   "id": "b6111896",
   "metadata": {},
   "source": [
    "Question 14- Write a regular expression in python to match a date string in the form of Month name followed by day number and year stored in a text file.\n",
    "Sample text : ' On August 15th 1947 that India was declared independent from British colonialism, and the reins of control were handed over to the leaders of the Country’.\n",
    "Output- August 15th 1947\n",
    "Hint- Use re.match() method here\n"
   ]
  },
  {
   "cell_type": "code",
   "execution_count": 17,
   "id": "b9403fd6",
   "metadata": {},
   "outputs": [
    {
     "name": "stdout",
     "output_type": "stream",
     "text": [
      "August 15th 1947\n"
     ]
    }
   ],
   "source": [
    "txt = 'On August 15th 1947 that India was declared independent from British colonialism, and the reins of control were handed over to the leaders of the Country'\n",
    "pattern = r\"\\b[A-Z][a-z]+\\s+\\d{1,2}(?:st|nd|rd|th)?\\s+\\d{4}\\b\"\n",
    "matches = re.findall(pattern,txt)\n",
    "for match in matches:\n",
    "    print(match)"
   ]
  },
  {
   "cell_type": "raw",
   "id": "0119dba8",
   "metadata": {},
   "source": [
    "Question 15- Write a Python program to search some literals strings in a string. Go to the editor\n",
    "Sample text : 'The quick brown fox jumps over the lazy dog.'\n",
    "Searched words : 'fox', 'dog', 'horse'\n"
   ]
  },
  {
   "cell_type": "code",
   "execution_count": 18,
   "id": "526a2865",
   "metadata": {},
   "outputs": [
    {
     "data": {
      "text/plain": [
       "['fox', 'dog']"
      ]
     },
     "execution_count": 18,
     "metadata": {},
     "output_type": "execute_result"
    }
   ],
   "source": [
    "txt = 'The quick brown fox jumps over the lazy dog.'\n",
    "pattern = 'fox|dog|horse'\n",
    "x= re.findall(pattern,txt)\n",
    "x"
   ]
  },
  {
   "cell_type": "raw",
   "id": "71ef3545",
   "metadata": {},
   "source": [
    "Question 16- Write a Python program to search a literals string in a string and also find the location within the original string where the pattern occurs\n",
    "Sample text : 'The quick brown fox jumps over the lazy dog.'\n",
    "Searched words : 'fox'\n"
   ]
  },
  {
   "cell_type": "code",
   "execution_count": 19,
   "id": "31f028f3",
   "metadata": {},
   "outputs": [
    {
     "name": "stdout",
     "output_type": "stream",
     "text": [
      "16\n"
     ]
    }
   ],
   "source": [
    "txt = 'The quick brown fox jumps over the lazy dog.'\n",
    "pattern = 'fox'\n",
    "x= re.search(pattern,txt)\n",
    "print(x.start())"
   ]
  },
  {
   "cell_type": "raw",
   "id": "82be2f68",
   "metadata": {},
   "source": [
    "Question 17- Write a Python program to find the substrings within a string.\n",
    "Sample text : 'Python exercises, PHP exercises, C# exercises'\n",
    "Pattern : 'exercises'.\n"
   ]
  },
  {
   "cell_type": "code",
   "execution_count": 20,
   "id": "d7436734",
   "metadata": {},
   "outputs": [
    {
     "data": {
      "text/plain": [
       "['exercises', 'exercises', 'exercises']"
      ]
     },
     "execution_count": 20,
     "metadata": {},
     "output_type": "execute_result"
    }
   ],
   "source": [
    "txt = 'Python exercises, PHP exercises, C# exercises'\n",
    "pattern = 'exercises'\n",
    "x= re.findall(pattern,txt)\n",
    "x"
   ]
  },
  {
   "cell_type": "raw",
   "id": "f6a26e10",
   "metadata": {},
   "source": [
    "Question 18- Write a Python program to find the occurrence and position of the substrings within a string."
   ]
  },
  {
   "cell_type": "code",
   "execution_count": 21,
   "id": "35751636",
   "metadata": {},
   "outputs": [
    {
     "name": "stdout",
     "output_type": "stream",
     "text": [
      "7 16\n",
      "22 31\n",
      "36 45\n"
     ]
    }
   ],
   "source": [
    "txt = 'Python exercises, PHP exercises, C# exercises'\n",
    "pattern = 'exercises'\n",
    "x= re.finditer(pattern,txt)\n",
    "for i in x:\n",
    "    print(i.start(),i.end())"
   ]
  },
  {
   "cell_type": "raw",
   "id": "52bbeedc",
   "metadata": {},
   "source": [
    "Question 19- Write a Python program to convert a date of yyyy-mm-dd format to dd-mm-yyyy format."
   ]
  },
  {
   "cell_type": "code",
   "execution_count": 22,
   "id": "28ffad62",
   "metadata": {},
   "outputs": [
    {
     "data": {
      "text/plain": [
       "'17-07-2023'"
      ]
     },
     "execution_count": 22,
     "metadata": {},
     "output_type": "execute_result"
    }
   ],
   "source": [
    "date = '2023-07-17'\n",
    "formated_date = re.sub(r'(\\d{4})-(\\d{2})-(\\d{2})',r'\\3-\\2-\\1',date)\n",
    "formated_date"
   ]
  },
  {
   "cell_type": "raw",
   "id": "be62e204",
   "metadata": {},
   "source": [
    "Question 20- Write a Python program to find all words starting with 'a' or 'e' in a given string."
   ]
  },
  {
   "cell_type": "code",
   "execution_count": 23,
   "id": "353fb249",
   "metadata": {},
   "outputs": [
    {
     "data": {
      "text/plain": [
       "['at',\n",
       " 'as',\n",
       " 'eclared',\n",
       " 'ependent',\n",
       " 'alism',\n",
       " 'and',\n",
       " 'eins',\n",
       " 'ere',\n",
       " 'anded',\n",
       " 'er',\n",
       " 'eaders']"
      ]
     },
     "execution_count": 23,
     "metadata": {},
     "output_type": "execute_result"
    }
   ],
   "source": [
    "txt = 'On August 15th 1947 that India was declared independent from British colonialism, and the reins of control were handed over to the leaders of the Country'\n",
    "pattern = r\"[ae]\\w+\"\n",
    "x= re.findall(pattern,txt)\n",
    "x"
   ]
  },
  {
   "cell_type": "raw",
   "id": "d2c69a1b",
   "metadata": {},
   "source": [
    "Question 21- Write a Python program to separate and print the numbers and their position of a given string.\n"
   ]
  },
  {
   "cell_type": "code",
   "execution_count": 24,
   "id": "51dd8423",
   "metadata": {},
   "outputs": [
    {
     "name": "stdout",
     "output_type": "stream",
     "text": [
      "19 21\n"
     ]
    }
   ],
   "source": [
    "txt = \"Virat Kohli Scored 90 in his 100th match\"\n",
    "pattern = '\\d+'\n",
    "x = re.search(pattern,txt)\n",
    "print(x.start(),x.end())"
   ]
  },
  {
   "cell_type": "raw",
   "id": "0919cc93",
   "metadata": {},
   "source": [
    "Question 22- Write a regular expression in python program to extract maximum numeric value from a string"
   ]
  },
  {
   "cell_type": "code",
   "execution_count": 25,
   "id": "37f46bf7",
   "metadata": {},
   "outputs": [
    {
     "name": "stdout",
     "output_type": "stream",
     "text": [
      "100\n"
     ]
    }
   ],
   "source": [
    "txt = \"Virat Kohli Scored 90 in his 100th match\"\n",
    "pattern = '\\d+'\n",
    "x = re.findall(pattern,txt)\n",
    "x= map(int,x)\n",
    "print(max(x))"
   ]
  },
  {
   "cell_type": "raw",
   "id": "28d2bf80",
   "metadata": {},
   "source": [
    "Question 23- Write a Regex in Python to put spaces between words starting with capital letters\n",
    "\n",
    "\n",
    "txt = \"ImportanceOfRegularExpressionsInPython\"\n",
    "pattern = r\"(\\w)([A-Z])\"\n",
    "rep = r\"\\1\\2\"\n",
    "x = re.sub(pattern, rep, txt)\n",
    "print(x)"
   ]
  },
  {
   "cell_type": "code",
   "execution_count": 26,
   "id": "7eaab9da",
   "metadata": {},
   "outputs": [
    {
     "name": "stdout",
     "output_type": "stream",
     "text": [
      "Importance Of Regular Expressions In Python\n"
     ]
    }
   ],
   "source": [
    "txt = \"ImportanceOfRegularExpressionsInPython\"\n",
    "pattern = r\"(\\w)([A-Z])\"\n",
    "rep = r\"\\1 \\2\"\n",
    "x = re.sub(pattern, rep, txt)\n",
    "print(x)"
   ]
  },
  {
   "cell_type": "raw",
   "id": "aca20132",
   "metadata": {},
   "source": [
    "Question 24- Python regex to find sequences of one upper case letter followed by lower case letters"
   ]
  },
  {
   "cell_type": "code",
   "execution_count": 27,
   "id": "b8b0b01c",
   "metadata": {},
   "outputs": [
    {
     "data": {
      "text/plain": [
       "['Importance', 'Of', 'Regular', 'Expressions', 'In', 'Python']"
      ]
     },
     "execution_count": 27,
     "metadata": {},
     "output_type": "execute_result"
    }
   ],
   "source": [
    "txt = \"ImportanceOfRegularExpressionsInPython\"\n",
    "pattern = r\"[A-Z][a-z]+\"\n",
    "x = re.findall(pattern,txt)\n",
    "x"
   ]
  },
  {
   "cell_type": "raw",
   "id": "b48e168d",
   "metadata": {},
   "source": [
    "Question 25- Write a Python program to remove duplicate words from Sentence using Regular Expression"
   ]
  },
  {
   "cell_type": "code",
   "execution_count": 28,
   "id": "0580fc50",
   "metadata": {},
   "outputs": [
    {
     "data": {
      "text/plain": [
       "'Ram went went to his home'"
      ]
     },
     "execution_count": 28,
     "metadata": {},
     "output_type": "execute_result"
    }
   ],
   "source": [
    "txt = \"Ram went went to his home\"\n",
    "pattern = r\"\\b(\\w+)(?:\\w+\\1\\b)+\"\n",
    "x = re.sub(pattern,r'\\1',txt)\n",
    "x"
   ]
  },
  {
   "cell_type": "raw",
   "id": "d83e1833",
   "metadata": {},
   "source": [
    "Question 26-  Write a python program using RegEx to accept string ending with alphanumeric character."
   ]
  },
  {
   "cell_type": "code",
   "execution_count": 29,
   "id": "fda289bd",
   "metadata": {},
   "outputs": [
    {
     "name": "stdout",
     "output_type": "stream",
     "text": [
      "alphanumeric word: untitled47\n"
     ]
    }
   ],
   "source": [
    "txt = \"regression is identification name of untitled47\"\n",
    "pattern = r'\\b\\w+\\b$'\n",
    "x= re.search(pattern,txt)\n",
    "if x:\n",
    "    print(\"alphanumeric word:\",x.group())"
   ]
  },
  {
   "cell_type": "raw",
   "id": "c648a9ba",
   "metadata": {},
   "source": [
    "Question 27-Write a python program using RegEx to extract the hashtags.\n",
    "Sample Text: text = \"\"\"RT @kapil_kausik: #Doltiwal I mean #xyzabc is \"hurt\" by #Demonetization as the same has rendered USELESS <ed><U+00A0><U+00BD><ed><U+00B1><U+0089> \"acquired funds\" No wo\"\"\"\n",
    "Output: ['#Doltiwal', '#xyzabc', '#Demonetization']\n"
   ]
  },
  {
   "cell_type": "code",
   "execution_count": 30,
   "id": "08ed234d",
   "metadata": {},
   "outputs": [
    {
     "data": {
      "text/plain": [
       "['#Doltiwal', '#xyzabc', '#Demonetization']"
      ]
     },
     "execution_count": 30,
     "metadata": {},
     "output_type": "execute_result"
    }
   ],
   "source": [
    "txt = text = \"\"\"RT @kapil_kausik: #Doltiwal I mean #xyzabc is \"hurt\" by #Demonetization as the same has rendered USELESS <ed><U+00A0><U+00BD><ed><U+00B1><U+0089> \"acquired funds\" No wo\"\"\"\n",
    "pattern = r'#\\w+'\n",
    "x = re.findall(pattern,txt)\n",
    "x"
   ]
  },
  {
   "cell_type": "raw",
   "id": "8b1b53c6",
   "metadata": {},
   "source": [
    "Question 28- Write a python program using RegEx to remove <U+..> like symbols\n",
    "Check the below sample text, there are strange symbols something of the sort <U+..> all over the place. You need to come up with a general Regex expression that will cover all such symbols.\n",
    "Sample Text: \"@Jags123456 Bharat band on 28??<ed><U+00A0><U+00BD><ed><U+00B8><U+0082>Those who  are protesting #demonetization  are all different party leaders\"\n",
    "Output: @Jags123456 Bharat band on 28??<ed><ed>Those who  are protesting #demonetization  are all different party leaders\n"
   ]
  },
  {
   "cell_type": "code",
   "execution_count": 31,
   "id": "e8643c57",
   "metadata": {},
   "outputs": [
    {
     "data": {
      "text/plain": [
       "'@Jags123456 Bharat band on 28??<ed>  <ed>  Those who  are protesting #demonetization  are all different party leaders'"
      ]
     },
     "execution_count": 31,
     "metadata": {},
     "output_type": "execute_result"
    }
   ],
   "source": [
    "txt = \"@Jags123456 Bharat band on 28??<ed><U+00A0><U+00BD><ed><U+00B8><U+0082>Those who  are protesting #demonetization  are all different party leaders\"\n",
    "pattern = r'<U\\+\\w+>'\n",
    "x = re.sub(pattern,\" \",txt)\n",
    "x"
   ]
  },
  {
   "cell_type": "raw",
   "id": "7ec6fa74",
   "metadata": {},
   "source": [
    "Question 29- Write a python program to extract dates from the text stored in the text file.\n",
    "Sample Text: Ron was born on 12-09-1992 and he was admitted to school 15-12-1999.\n",
    "Store this sample text in the file and then extract dates.\n"
   ]
  },
  {
   "cell_type": "code",
   "execution_count": 32,
   "id": "812ef444",
   "metadata": {},
   "outputs": [
    {
     "ename": "NameError",
     "evalue": "name 'file_path' is not defined",
     "output_type": "error",
     "traceback": [
      "\u001b[1;31m---------------------------------------------------------------------------\u001b[0m",
      "\u001b[1;31mNameError\u001b[0m                                 Traceback (most recent call last)",
      "\u001b[1;32m~\\AppData\\Local\\Temp\\ipykernel_14440\\1869199237.py\u001b[0m in \u001b[0;36m<module>\u001b[1;34m\u001b[0m\n\u001b[1;32m----> 1\u001b[1;33m \u001b[1;32mwith\u001b[0m \u001b[0mopen\u001b[0m\u001b[1;33m(\u001b[0m\u001b[0mfile_path\u001b[0m\u001b[1;33m,\u001b[0m\u001b[1;34m'r'\u001b[0m\u001b[1;33m)\u001b[0m \u001b[1;32mas\u001b[0m \u001b[0mfile\u001b[0m\u001b[1;33m:\u001b[0m\u001b[1;33m\u001b[0m\u001b[1;33m\u001b[0m\u001b[0m\n\u001b[0m\u001b[0;32m      2\u001b[0m     \u001b[0mtxt\u001b[0m \u001b[1;33m=\u001b[0m \u001b[0mfile\u001b[0m\u001b[1;33m.\u001b[0m\u001b[0mread\u001b[0m\u001b[1;33m(\u001b[0m\u001b[1;33m)\u001b[0m\u001b[1;33m\u001b[0m\u001b[1;33m\u001b[0m\u001b[0m\n\u001b[0;32m      3\u001b[0m     \u001b[0mpattern\u001b[0m \u001b[1;33m=\u001b[0m \u001b[1;34mr'\\d{2}-\\d{2}-\\d{4}'\u001b[0m\u001b[1;33m\u001b[0m\u001b[1;33m\u001b[0m\u001b[0m\n\u001b[0;32m      4\u001b[0m     \u001b[0mx\u001b[0m \u001b[1;33m=\u001b[0m \u001b[0mre\u001b[0m\u001b[1;33m.\u001b[0m\u001b[0mfindall\u001b[0m\u001b[1;33m(\u001b[0m\u001b[0mpattern\u001b[0m\u001b[1;33m,\u001b[0m\u001b[0mtxt\u001b[0m\u001b[1;33m)\u001b[0m\u001b[1;33m\u001b[0m\u001b[1;33m\u001b[0m\u001b[0m\n\u001b[0;32m      5\u001b[0m     \u001b[0mprint\u001b[0m\u001b[1;33m(\u001b[0m\u001b[0mx\u001b[0m\u001b[1;33m)\u001b[0m\u001b[1;33m\u001b[0m\u001b[1;33m\u001b[0m\u001b[0m\n",
      "\u001b[1;31mNameError\u001b[0m: name 'file_path' is not defined"
     ]
    }
   ],
   "source": [
    "with open(file_path,'r') as file:\n",
    "    txt = file.read()\n",
    "    pattern = r'\\d{2}-\\d{2}-\\d{4}'\n",
    "    x = re.findall(pattern,txt)\n",
    "    print(x)"
   ]
  },
  {
   "cell_type": "raw",
   "id": "879c61c7",
   "metadata": {},
   "source": [
    "Question 30- Write a Python program to replace all occurrences of a space, comma, or dot with a colon.\n",
    "Sample Text- 'Python Exercises, PHP exercises.'\n",
    "Output: Python:Exercises::PHP:exercises:"
   ]
  },
  {
   "cell_type": "code",
   "execution_count": null,
   "id": "dcf172a0",
   "metadata": {},
   "outputs": [],
   "source": [
    "txt = 'Python Exercises, PHP exercises.'\n",
    "pattern = r'[ ,.]'\n",
    "rep = ':'\n",
    "x = re.sub(pattern,rep,txt)\n",
    "x"
   ]
  },
  {
   "cell_type": "code",
   "execution_count": null,
   "id": "f41b3994",
   "metadata": {},
   "outputs": [],
   "source": []
  }
 ],
 "metadata": {
  "kernelspec": {
   "display_name": "Python 3 (ipykernel)",
   "language": "python",
   "name": "python3"
  },
  "language_info": {
   "codemirror_mode": {
    "name": "ipython",
    "version": 3
   },
   "file_extension": ".py",
   "mimetype": "text/x-python",
   "name": "python",
   "nbconvert_exporter": "python",
   "pygments_lexer": "ipython3",
   "version": "3.9.13"
  }
 },
 "nbformat": 4,
 "nbformat_minor": 5
}
